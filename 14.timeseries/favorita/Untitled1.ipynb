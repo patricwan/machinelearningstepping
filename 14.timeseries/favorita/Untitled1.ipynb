{
 "cells": [
  {
   "cell_type": "code",
   "execution_count": 2,
   "metadata": {
    "collapsed": false
   },
   "outputs": [
    {
     "name": "stdout",
     "output_type": "stream",
     "text": [
      "(15, 3, 1)\n",
      "(15, 3, 1)\n"
     ]
    }
   ],
   "source": [
    "from datasets import generate_x_y_data_v1, generate_x_y_data_v2, generate_x_y_data_v3, generate_x_y_data_v4 \n",
    "\n",
    "generate_x_y_data = generate_x_y_data_v2\n",
    "\n",
    "sample_x, sample_y = generate_x_y_data(isTrain=True, batch_size=3)\n",
    "\n",
    "print(sample_x.shape)\n",
    "print(sample_y.shape)\n"
   ]
  }
 ],
 "metadata": {
  "kernelspec": {
   "display_name": "Python 3",
   "language": "python",
   "name": "python3"
  },
  "language_info": {
   "codemirror_mode": {
    "name": "ipython",
    "version": 3
   },
   "file_extension": ".py",
   "mimetype": "text/x-python",
   "name": "python",
   "nbconvert_exporter": "python",
   "pygments_lexer": "ipython3",
   "version": "3.6.4"
  }
 },
 "nbformat": 4,
 "nbformat_minor": 0
}

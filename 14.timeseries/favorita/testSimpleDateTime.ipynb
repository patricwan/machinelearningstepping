{
 "cells": [
  {
   "cell_type": "code",
   "execution_count": 2,
   "metadata": {
    "collapsed": false
   },
   "outputs": [],
   "source": [
    "import numpy as np\n",
    "import pandas as pd\n",
    "from datetime import date, timedelta\n",
    "import gc\n",
    "import os\n",
    "\n"
   ]
  },
  {
   "cell_type": "code",
   "execution_count": 9,
   "metadata": {
    "collapsed": false
   },
   "outputs": [
    {
     "name": "stdout",
     "output_type": "stream",
     "text": [
      "dRange 2017-08-01 00:00:00\n",
      "dRange 15\n",
      "dRange each  2017-08-01 00:00:00\n",
      "dRange each  2017-08-02 00:00:00\n",
      "dRange each  2017-08-03 00:00:00\n",
      "dRange each  2017-08-04 00:00:00\n",
      "dRange each  2017-08-05 00:00:00\n",
      "dRange each  2017-08-06 00:00:00\n",
      "dRange each  2017-08-07 00:00:00\n",
      "dRange each  2017-08-08 00:00:00\n",
      "dRange each  2017-08-09 00:00:00\n",
      "dRange each  2017-08-10 00:00:00\n",
      "dRange each  2017-08-11 00:00:00\n",
      "dRange each  2017-08-12 00:00:00\n",
      "dRange each  2017-08-13 00:00:00\n",
      "dRange each  2017-08-14 00:00:00\n",
      "dRange each  2017-08-15 00:00:00\n"
     ]
    }
   ],
   "source": [
    "dRange = pd.date_range(date(2017,8,1), date(2017,8,15))\n",
    "print(\"dRange\", dRange[0])\n",
    "print(\"dRange\", dRange.size)\n",
    "\n",
    "for i in range(0, dRange.size):\n",
    "    print(\"dRange each \", dRange[i])\n",
    "\n",
    "#for(eachDate in dRange):\n",
    "#    print(\"eachDate \", eachDate)\n",
    "\n"
   ]
  },
  {
   "cell_type": "code",
   "execution_count": null,
   "metadata": {
    "collapsed": true
   },
   "outputs": [],
   "source": []
  },
  {
   "cell_type": "code",
   "execution_count": null,
   "metadata": {
    "collapsed": true
   },
   "outputs": [],
   "source": []
  },
  {
   "cell_type": "code",
   "execution_count": null,
   "metadata": {
    "collapsed": true
   },
   "outputs": [],
   "source": []
  }
 ],
 "metadata": {
  "kernelspec": {
   "display_name": "Python 3",
   "language": "python",
   "name": "python3"
  },
  "language_info": {
   "codemirror_mode": {
    "name": "ipython",
    "version": 3
   },
   "file_extension": ".py",
   "mimetype": "text/x-python",
   "name": "python",
   "nbconvert_exporter": "python",
   "pygments_lexer": "ipython3",
   "version": "3.6.4"
  }
 },
 "nbformat": 4,
 "nbformat_minor": 0
}

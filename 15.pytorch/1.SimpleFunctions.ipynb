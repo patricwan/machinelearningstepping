{
 "cells": [
  {
   "cell_type": "code",
   "execution_count": 5,
   "metadata": {
    "collapsed": false
   },
   "outputs": [
    {
     "name": "stdout",
     "output_type": "stream",
     "text": [
      "tensor([[0, 1, 2],\n",
      "        [3, 4, 5]])\n",
      "tensor([-1., -2.,  1.,  2.])\n",
      "tensor([[1., 2.],\n",
      "        [3., 4.]], requires_grad=True)\n"
     ]
    }
   ],
   "source": [
    "import torch\n",
    "import numpy as np\n",
    "from torch.autograd import Variable \n",
    "\n",
    " \n",
    "np_data = np.arange(6).reshape((2, 3))\n",
    "torch_data = torch.from_numpy(np_data)\n",
    "\n",
    "print(torch_data)\n",
    "\n",
    "data = [-1, -2, 1, 2]\n",
    "tensor = torch.FloatTensor(data) \n",
    "print(tensor)\n",
    "\n",
    "tensor = torch.FloatTensor([[1,2],[3,4]])\n",
    "variable = Variable(tensor, requires_grad=True)\n",
    "print(variable)"
   ]
  },
  {
   "cell_type": "code",
   "execution_count": 6,
   "metadata": {
    "collapsed": false
   },
   "outputs": [
    {
     "name": "stdout",
     "output_type": "stream",
     "text": [
      "[0.00671535 0.00706021 0.00742271 0.00780375 0.00820427 0.00862527\n",
      " 0.00906776 0.00953285 0.01002167 0.01053544 0.01107538 0.01164285\n",
      " 0.01223921 0.01286592 0.0135245  0.01421656 0.01494376 0.01570788\n",
      " 0.01651074 0.01735429 0.01824053 0.01917161 0.02014973 0.02117724\n",
      " 0.02225655 0.02339024 0.02458096 0.02583152 0.02714485 0.028524\n",
      " 0.02997218 0.03149272 0.03308915 0.03476509 0.03652439 0.03837101\n",
      " 0.04030914 0.04234309 0.04447743 0.04671685 0.04906628 0.05153086\n",
      " 0.0541159  0.05682698 0.05966987 0.06265058 0.06577535 0.06905065\n",
      " 0.07248322 0.07608002 0.07984827 0.08379547 0.08792935 0.09225792\n",
      " 0.09678947 0.10153248 0.10649578 0.11168842 0.11711974 0.12279933\n",
      " 0.12873703 0.13494292 0.14142737 0.14820093 0.15527444 0.1626589\n",
      " 0.17036554 0.1784058  0.18679126 0.19553366 0.20464492 0.21413702\n",
      " 0.22402205 0.23431218 0.24501958 0.25615656 0.26773518 0.27976757\n",
      " 0.29226583 0.30524188 0.3187074  0.33267394 0.34715295 0.3621552\n",
      " 0.3776917  0.39377248 0.41040778 0.4276069  0.44537872 0.4637321\n",
      " 0.4826745  0.5022137  0.5223561  0.543108   0.56447434 0.58646023\n",
      " 0.60906917 0.63230467 0.6561687  0.68066335 0.70578885 0.73154575\n",
      " 0.75793266 0.78494865 0.8125907  0.8408563  0.86974096 0.89924055\n",
      " 0.9293495  0.9600615  0.9913704  1.0232681  1.0557476  1.0887997\n",
      " 1.1224159  1.1565862  1.1913011  1.2265499  1.2623223  1.2986068\n",
      " 1.3353927  1.3726678  1.4104209  1.4486395  1.4873124  1.5264266\n",
      " 1.5659705  1.6059314  1.6462978  1.6870573  1.728197   1.769706\n",
      " 1.8115717  1.8537828  1.8963273  1.9391942  1.9823718  2.0258496\n",
      " 2.0696163  2.1136618  2.1579752  2.202547   2.2473667  2.2924256\n",
      " 2.3377132  2.3832216  2.4289412  2.474864   2.5209813  2.5672855\n",
      " 2.6137688  2.660423   2.7072418  2.7542176  2.8013444  2.8486145\n",
      " 2.896023   2.9435632  2.9912295  3.039016   3.0869179  3.1349297\n",
      " 3.1830463  3.2312644  3.2795773  3.3279817  3.3764734  3.4250493\n",
      " 3.4737039  3.5224342  3.5712373  3.62011    3.6690476  3.718048\n",
      " 3.7671094  3.8162267  3.8653984  3.9146218  3.9638958  4.0132155\n",
      " 4.0625806  4.1119876  4.161437   4.2109237  4.2604475  4.3100066\n",
      " 4.3596     4.409224   4.458879   4.5085626  4.5582743  4.6080117\n",
      " 4.657774   4.7075605  4.757369   4.8071995  4.85705    4.906921\n",
      " 4.956809   5.0067153 ]\n"
     ]
    },
    {
     "name": "stderr",
     "output_type": "stream",
     "text": [
      "/usr/local/python36/lib/python3.6/site-packages/torch/nn/functional.py:1350: UserWarning: nn.functional.sigmoid is deprecated. Use torch.sigmoid instead.\n",
      "  warnings.warn(\"nn.functional.sigmoid is deprecated. Use torch.sigmoid instead.\")\n",
      "/usr/local/python36/lib/python3.6/site-packages/torch/nn/functional.py:1339: UserWarning: nn.functional.tanh is deprecated. Use torch.tanh instead.\n",
      "  warnings.warn(\"nn.functional.tanh is deprecated. Use torch.tanh instead.\")\n"
     ]
    }
   ],
   "source": [
    "import torch.nn.functional as F     # 激励函数都在这\n",
    "from torch.autograd import Variable\n",
    "\n",
    "# 做一些假数据来观看图像\n",
    "x = torch.linspace(-5, 5, 200)  # x data (tensor), shape=(100, 1)\n",
    "x = Variable(x)\n",
    "\n",
    "\n",
    "x_np = x.data.numpy()   # 换成 numpy array, 出图时用\n",
    " \n",
    "# 几种常用的 激励函数\n",
    "y_relu = F.relu(x).data.numpy()\n",
    "y_sigmoid = F.sigmoid(x).data.numpy()\n",
    "y_tanh = F.tanh(x).data.numpy()\n",
    "y_softplus = F.softplus(x).data.numpy()\n",
    "print(y_softplus)\n",
    "# y_softmax = F.softmax(x)  softmax 比较特殊, 不能直接显示, 不过他是关于概率的, 用于分类"
   ]
  }
 ],
 "metadata": {
  "kernelspec": {
   "display_name": "Python 3",
   "language": "python",
   "name": "python3"
  },
  "language_info": {
   "codemirror_mode": {
    "name": "ipython",
    "version": 3
   },
   "file_extension": ".py",
   "mimetype": "text/x-python",
   "name": "python",
   "nbconvert_exporter": "python",
   "pygments_lexer": "ipython3",
   "version": "3.6.4"
  }
 },
 "nbformat": 4,
 "nbformat_minor": 0
}

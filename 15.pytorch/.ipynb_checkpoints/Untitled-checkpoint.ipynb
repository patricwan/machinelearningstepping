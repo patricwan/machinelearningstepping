{
 "cells": [
  {
   "cell_type": "code",
   "execution_count": null,
   "metadata": {
    "collapsed": false
   },
   "outputs": [],
   "source": [
    "import torch\n",
    "import torch.utils.data as Data\n",
    "import torch.nn.functional as F\n",
    "from torch.autograd import Variable\n",
    "import matplotlib.pyplot as plt\n",
    " \n",
    "torch.manual_seed(1)    # reproducible\n",
    " \n",
    "LR = 0.01\n",
    "BATCH_SIZE = 32\n",
    "EPOCH = 12\n",
    " \n",
    "# fake dataset\n",
    "x = torch.unsqueeze(torch.linspace(-1, 1, 1000), dim=1)\n",
    "y = x.pow(2) + 0.1*torch.normal(torch.zeros(*x.size()))\n",
    " \n",
    "# plot dataset\n",
    "plt.scatter(x.numpy(), y.numpy())\n",
    "plt.show()\n",
    " \n"
   ]
  },
  {
   "cell_type": "code",
   "execution_count": null,
   "metadata": {
    "collapsed": false
   },
   "outputs": [],
   "source": [
    "import torch.utils.data as Data\n",
    "from tqdm import tqdm\n",
    "class MyDataset(Data.Dataset):\n",
    "\tdef __init__(self,filepath):\n",
    "\t\tnumber = 0\n",
    "\t\twith open(filepath,\"r\") as f:\n",
    "\t\t\t# 获得训练数据的总行数\n",
    "\t\t\tfor _ in tqdm(f,desc=\"load training dataset\"):\n",
    "\t\t\t\tnumber+=1\n",
    "\t\tself.number = number\n",
    "\t\tself.fopen = open(filepath,'r')\n",
    "\tdef __len__(self):\n",
    "\t\treturn self.number\n",
    "\tdef __getitem__(self,index):\n",
    "\t\tline = self.fopen.__next__()\n",
    "\t\t# 自定义transform()对训练数据进行预处理\n",
    "\t\t#data = transform(line)\n",
    "\t\treturn line\n",
    "\n",
    "train_dataset = MyDataset(filepath = \"../data/loan_train.csv\")\n",
    "training_data = Data.DataLoader(dataset=train_dataset, batch_size=32,num_workers=1)\n",
    "for i, data in enumerate(training_data):\n",
    "        # 将数据从 train_loader 中读出来,一次读取的样本数是32个\n",
    "        line = data\n",
    "        #print(line)"
   ]
  },
  {
   "cell_type": "code",
   "execution_count": null,
   "metadata": {
    "collapsed": true
   },
   "outputs": [],
   "source": []
  }
 ],
 "metadata": {
  "kernelspec": {
   "display_name": "Python 3",
   "language": "python",
   "name": "python3"
  },
  "language_info": {
   "codemirror_mode": {
    "name": "ipython",
    "version": 3
   },
   "file_extension": ".py",
   "mimetype": "text/x-python",
   "name": "python",
   "nbconvert_exporter": "python",
   "pygments_lexer": "ipython3",
   "version": "3.6.4"
  }
 },
 "nbformat": 4,
 "nbformat_minor": 0
}

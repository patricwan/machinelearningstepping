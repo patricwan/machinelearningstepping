{
 "cells": [
  {
   "cell_type": "markdown",
   "metadata": {},
   "source": [
    "<h3>5.3 过拟合与欠拟合</h3>"
   ]
  },
  {
   "cell_type": "markdown",
   "metadata": {},
   "source": [
    "5.3.2 dropout正则化"
   ]
  },
  {
   "cell_type": "code",
   "execution_count": 1,
   "metadata": {
    "collapsed": true
   },
   "outputs": [],
   "source": [
    "from sklearn.datasets import load_boston\n",
    "from sklearn.model_selection import train_test_split\n",
    "import numpy  as np\n",
    "import matplotlib.pyplot as plt\n",
    "\n",
    "import torch\n",
    "import torch.nn as nn\n",
    "\n",
    "boston = load_boston()\n",
    "X,y   = (boston.data, boston.target)\n",
    "dim = X.shape[1]\n",
    "\n",
    "X_train, X_test, y_train, y_test = train_test_split(X, y, test_size=0.2, random_state=0)\n",
    "num_train = X_train.shape[0]\n"
   ]
  },
  {
   "cell_type": "code",
   "execution_count": 2,
   "metadata": {
    "collapsed": true
   },
   "outputs": [],
   "source": [
    "#对训练数据进行标准化\n",
    "mean=X_train.mean(axis=0)\n",
    "std=X_train.std(axis=0)\n"
   ]
  },
  {
   "cell_type": "code",
   "execution_count": 3,
   "metadata": {
    "collapsed": true
   },
   "outputs": [],
   "source": [
    "X_train-=mean\n",
    "X_train/=std\n",
    "\n",
    "X_test-=mean\n",
    "X_test/=std"
   ]
  },
  {
   "cell_type": "code",
   "execution_count": 4,
   "metadata": {
    "collapsed": true
   },
   "outputs": [],
   "source": [
    "train_data=torch.from_numpy(X_train)"
   ]
  },
  {
   "cell_type": "code",
   "execution_count": 5,
   "metadata": {},
   "outputs": [
    {
     "data": {
      "text/plain": [
       "tensor([[-0.3726, -0.4996, -0.7049,  ..., -0.4846,  0.3717, -0.4110],\n",
       "        [-0.3971, -0.4996, -0.0449,  ...,  0.3365,  0.2050, -0.3877],\n",
       "        [-0.4027,  0.7712, -0.8868,  ..., -0.8496,  0.3666, -0.1819],\n",
       "        ...,\n",
       "        [-0.3981, -0.4996, -0.1594,  ..., -0.3022,  0.4034, -0.3301],\n",
       "        [-0.3884, -0.4996, -0.6033,  ..., -0.2565,  0.3834,  0.8359],\n",
       "        [-0.3995, -0.4996, -1.0128,  ..., -0.8496,  0.4304,  0.2721]])"
      ]
     },
     "execution_count": 5,
     "metadata": {},
     "output_type": "execute_result"
    }
   ],
   "source": [
    "dtype = torch.FloatTensor\n",
    "train_data.type(dtype)"
   ]
  },
  {
   "cell_type": "code",
   "execution_count": 7,
   "metadata": {
    "collapsed": true
   },
   "outputs": [],
   "source": [
    "#实例化模型\n",
    "device = torch.device(\"cuda:0\" if torch.cuda.is_available() else \"cpu\")\n",
    "#device = torch.device(\"cuda:0\")\n",
    "#device1 = torch.device(\"cuda:1\")\n",
    "train_data=torch.from_numpy(X_train).float()\n",
    "train_target=torch.from_numpy(y_train).float()\n",
    "test_data=torch.from_numpy(X_test).float()\n",
    "test_target=torch.from_numpy(y_test).float()"
   ]
  },
  {
   "cell_type": "code",
   "execution_count": 8,
   "metadata": {
    "collapsed": true
   },
   "outputs": [],
   "source": [
    "net1_overfitting = torch.nn.Sequential(\n",
    "    torch.nn.Linear(13, 16),\n",
    "    torch.nn.ReLU(),\n",
    "    torch.nn.Linear(16, 32),\n",
    "    torch.nn.ReLU(),\n",
    "    torch.nn.Linear(32, 1),\n",
    ")\n",
    "\n",
    "net2_nb = torch.nn.Sequential(\n",
    "    torch.nn.Linear(13, 16),\n",
    "    nn.BatchNorm1d(num_features=16),\n",
    "    torch.nn.ReLU(),\n",
    "    torch.nn.Linear(16, 32),\n",
    "    nn.BatchNorm1d(num_features=32),  \n",
    "    torch.nn.ReLU(),\n",
    "    torch.nn.Linear(32, 1),\n",
    ")\n",
    "\n",
    "net1_nb = torch.nn.Sequential(\n",
    "    torch.nn.Linear(13, 8),\n",
    "    nn.BatchNorm1d(num_features=8),\n",
    "    torch.nn.ReLU(),\n",
    "    torch.nn.Linear(8, 4),\n",
    "    nn.BatchNorm1d(num_features=4),  \n",
    "    torch.nn.ReLU(),\n",
    "    torch.nn.Linear(4, 1),\n",
    ")\n",
    "\n",
    "net1_dropped = torch.nn.Sequential(\n",
    "    torch.nn.Linear(13, 16),\n",
    "    torch.nn.Dropout(0.5),  # drop 50% of the neuron\n",
    "    torch.nn.ReLU(),\n",
    "    torch.nn.Linear(16, 32),\n",
    "    torch.nn.Dropout(0.5),  # drop 50% of the neuron\n",
    "    torch.nn.ReLU(),\n",
    "    torch.nn.Linear(32, 1),\n",
    ")"
   ]
  },
  {
   "cell_type": "code",
   "execution_count": 9,
   "metadata": {
    "collapsed": true
   },
   "outputs": [],
   "source": [
    "loss_func = torch.nn.MSELoss()\n",
    "optimizer_ofit = torch.optim.Adam(net1_overfitting.parameters(), lr=0.01)\n",
    "optimizer_drop = torch.optim.Adam(net1_dropped.parameters(), lr=0.01)\n",
    "optimizer_nb = torch.optim.Adam(net1_nb.parameters(), lr=0.01)"
   ]
  },
  {
   "cell_type": "code",
   "execution_count": 12,
   "metadata": {
    "collapsed": true
   },
   "outputs": [],
   "source": [
    "from tensorboardX import SummaryWriter\n",
    "writer = SummaryWriter(log_dir='logs')\n",
    "for epoch in range(200):\n",
    "    net1_overfitting.train()\n",
    "    net1_dropped.train()\n",
    "    net1_nb.train()\n",
    "    \n",
    "\n",
    "    pred_ofit=  net1_overfitting(train_data)\n",
    "    pred_drop = net1_dropped(train_data)\n",
    "    pred_nb = net1_nb(train_data)\n",
    "    \n",
    "    loss_ofit = loss_func(pred_ofit, train_target)\n",
    "    loss_drop = loss_func(pred_drop, train_target)\n",
    "    loss_nb = loss_func(pred_nb, train_target)\n",
    "    \n",
    "    optimizer_ofit.zero_grad()\n",
    "    optimizer_drop.zero_grad()\n",
    "    optimizer_nb.zero_grad()\n",
    "    \n",
    "    loss_ofit.backward()\n",
    "    loss_drop.backward()\n",
    "    loss_nb.backward()\n",
    "\n",
    "    \n",
    "    optimizer_ofit.step()\n",
    "    optimizer_drop.step()\n",
    "    optimizer_nb.step()\n",
    "    # 保存loss的数据与epoch数值\n",
    "    #writer.add_scalar('train_loss', loss_ofit, t)\n",
    "    writer.add_scalars('train_group_loss',{'trainloss':loss_ofit.item(),'testloss':loss_nb.item()}, epoch)\n",
    "    # change to eval mode in order to fix drop out effect\n",
    "    net1_overfitting.eval()\n",
    "    net1_dropped.eval() \n",
    "    net1_nb.eval() \n",
    "   \n",
    "    test_pred_orig = net1_overfitting(test_data)\n",
    "    test_pred_drop = net1_dropped(test_data)\n",
    "    test_pred_nb = net1_nb(test_data)\n",
    "    orig_loss=loss_func(test_pred_orig, test_target)\n",
    "    drop_loss=loss_func(test_pred_drop, test_target)\n",
    "    nb_loss=loss_func(test_pred_nb, test_target)\n",
    "    #writer.add_scalars('test_nb_loss',{'orig_loss':orig_loss.item(),'nb_loss':nb_loss.item()}, epoch)\n",
    "    writer.add_scalars('test_group_loss',{'droploss':drop_loss.item(),'origloss':orig_loss.item()}, epoch)"
   ]
  },
  {
   "cell_type": "markdown",
   "metadata": {},
   "source": [
    "5.3.3 批量正则化"
   ]
  },
  {
   "cell_type": "code",
   "execution_count": 13,
   "metadata": {
    "collapsed": true
   },
   "outputs": [],
   "source": [
    "from tensorboardX import SummaryWriter\n",
    "writer = SummaryWriter(log_dir='logs')\n",
    "for epoch in range(200):\n",
    "    net1_overfitting.train()\n",
    "    net1_dropped.train()\n",
    "    net1_nb.train()\n",
    "    \n",
    "    pred_ofit = net1_overfitting(train_data)\n",
    "    pred_drop = net1_dropped(train_data)\n",
    "    pred_nb = net1_nb(train_data)\n",
    "    \n",
    "    loss_ofit = loss_func(pred_ofit, train_target)\n",
    "    loss_drop = loss_func(pred_drop, train_target)\n",
    "    loss_nb = loss_func(pred_nb, train_target)\n",
    "    \n",
    "    optimizer_ofit.zero_grad()\n",
    "    optimizer_drop.zero_grad()\n",
    "    optimizer_nb.zero_grad()\n",
    "    \n",
    "    loss_ofit.backward()\n",
    "    loss_drop.backward()\n",
    "    loss_nb.backward()\n",
    "    \n",
    "    optimizer_ofit.step()\n",
    "    optimizer_drop.step()\n",
    "    optimizer_nb.step()\n",
    "    # 保存loss的数据与epoch数值\n",
    "    #writer.add_scalar('train_loss', loss_ofit, t)\n",
    "    writer.add_scalars('train_group_loss',{'trainloss':loss_ofit.item(),'testloss':loss_nb.item()}, epoch)\n",
    "    writer.add_scalars('test_nb_loss',{'orig_loss':orig_loss.item(),'nb_loss':nb_loss.item()}, epoch)"
   ]
  },
  {
   "cell_type": "code",
   "execution_count": null,
   "metadata": {
    "collapsed": true
   },
   "outputs": [],
   "source": []
  }
 ],
 "metadata": {
  "kernelspec": {
   "display_name": "Python 3",
   "language": "python",
   "name": "python3"
  },
  "language_info": {
   "codemirror_mode": {
    "name": "ipython",
    "version": 3
   },
   "file_extension": ".py",
   "mimetype": "text/x-python",
   "name": "python",
   "nbconvert_exporter": "python",
   "pygments_lexer": "ipython3",
   "version": "3.6.8"
  }
 },
 "nbformat": 4,
 "nbformat_minor": 2
}

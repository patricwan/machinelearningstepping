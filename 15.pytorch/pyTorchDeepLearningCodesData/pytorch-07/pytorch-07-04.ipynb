{
 "cells": [
  {
   "cell_type": "markdown",
   "metadata": {},
   "source": [
    "<h3>7.8 用LSTM预测股票行情</h3>"
   ]
  },
  {
   "cell_type": "markdown",
   "metadata": {},
   "source": [
    "7.8.1 导入数据"
   ]
  },
  {
   "cell_type": "code",
   "execution_count": 1,
   "metadata": {
    "collapsed": true
   },
   "outputs": [],
   "source": [
    "import tushare as ts  "
   ]
  },
  {
   "cell_type": "code",
   "execution_count": 2,
   "metadata": {
    "collapsed": true
   },
   "outputs": [],
   "source": [
    "cons = ts.get_apis()"
   ]
  },
  {
   "cell_type": "code",
   "execution_count": 3,
   "metadata": {
    "collapsed": true
   },
   "outputs": [],
   "source": [
    "#获取沪深指数(000300)的信息，包括交易日期（datetime）、开盘价(open)、收盘价(close)，\n",
    "#最高价(high)、最低价(low)、成交量(vol)、成交金额(amount)、涨跌幅(p_change)\n",
    "df = ts.bar('000300', conn=cons, asset='INDEX', start_date='2010-01-01', end_date='')"
   ]
  },
  {
   "cell_type": "code",
   "execution_count": 4,
   "metadata": {
    "collapsed": false
   },
   "outputs": [
    {
     "ename": "AttributeError",
     "evalue": "'NoneType' object has no attribute 'dropna'",
     "output_type": "error",
     "traceback": [
      "\u001b[1;31m---------------------------------------------------------------------------\u001b[0m",
      "\u001b[1;31mAttributeError\u001b[0m                            Traceback (most recent call last)",
      "\u001b[1;32m<ipython-input-4-f6d5554e48ce>\u001b[0m in \u001b[0;36m<module>\u001b[1;34m()\u001b[0m\n\u001b[1;32m----> 1\u001b[1;33m \u001b[0mdf\u001b[0m \u001b[1;33m=\u001b[0m \u001b[0mdf\u001b[0m\u001b[1;33m.\u001b[0m\u001b[0mdropna\u001b[0m\u001b[1;33m(\u001b[0m\u001b[1;33m)\u001b[0m\u001b[1;33m\u001b[0m\u001b[0m\n\u001b[0m\u001b[0;32m      2\u001b[0m \u001b[0mdf\u001b[0m\u001b[1;33m.\u001b[0m\u001b[0mto_csv\u001b[0m\u001b[1;33m(\u001b[0m\u001b[1;34m'sh300.csv'\u001b[0m\u001b[1;33m)\u001b[0m\u001b[1;33m\u001b[0m\u001b[0m\n",
      "\u001b[1;31mAttributeError\u001b[0m: 'NoneType' object has no attribute 'dropna'"
     ]
    }
   ],
   "source": [
    "df = df.dropna()\n",
    "df.to_csv('sh300.csv')"
   ]
  },
  {
   "cell_type": "code",
   "execution_count": null,
   "metadata": {
    "collapsed": false
   },
   "outputs": [],
   "source": [
    "df.columns"
   ]
  },
  {
   "cell_type": "markdown",
   "metadata": {},
   "source": [
    "7.8.2 数据概览"
   ]
  },
  {
   "cell_type": "code",
   "execution_count": null,
   "metadata": {
    "collapsed": false
   },
   "outputs": [],
   "source": [
    "df.describe()"
   ]
  },
  {
   "cell_type": "markdown",
   "metadata": {},
   "source": [
    "7.8.3 预处理数据"
   ]
  },
  {
   "cell_type": "code",
   "execution_count": null,
   "metadata": {
    "collapsed": true
   },
   "outputs": [],
   "source": [
    "import pandas as pd\n",
    "import matplotlib.pyplot as plt\n",
    "import datetime\n",
    "import torch\n",
    "import torch.nn as nn\n",
    "import numpy as np\n",
    "from torch.utils.data import Dataset, DataLoader\n",
    "import torchvision\n",
    "import torchvision.transforms as transforms\n",
    "\n",
    "%matplotlib inline"
   ]
  },
  {
   "cell_type": "code",
   "execution_count": null,
   "metadata": {
    "collapsed": true
   },
   "outputs": [],
   "source": [
    "n = 30\n",
    "LR = 0.001\n",
    "EPOCH = 200\n",
    "batch_size=20\n",
    "train_end =-600\n",
    "\n",
    "device = torch.device('cuda' if torch.cuda.is_available() else 'cpu')"
   ]
  },
  {
   "cell_type": "code",
   "execution_count": null,
   "metadata": {
    "collapsed": true
   },
   "outputs": [],
   "source": [
    "#通过一个序列来生成一个31*(count(*)-train_end)矩阵（用于处理时序的数据）\n",
    "#其中最后一列维标签数据。就是把当天的前n天作为参数，当天的数据作为label\n",
    "def generate_data_by_n_days(series, n, index=False):\n",
    "    if len(series) <= n:\n",
    "        raise Exception(\"The Length of series is %d, while affect by (n=%d).\" % (len(series), n))\n",
    "    df = pd.DataFrame()\n",
    "    for i in range(n):\n",
    "        df['c%d' % i] = series.tolist()[i:-(n - i)]        \n",
    "    df['y'] = series.tolist()[n:]\n",
    "    \n",
    "    if index:\n",
    "        df.index = series.index[n:]\n",
    "    return df\n",
    "\n",
    "#参数n与上相同。train_end表示的是后面多少个数据作为测试集。\n",
    "def readData(column='high', n=30, all_too=True, index=False, train_end=-500):\n",
    "    df = pd.read_csv(\"sh300.csv\", index_col=0)\n",
    "    #以日期为索引\n",
    "    df.index = list(map(lambda x: datetime.datetime.strptime(x, \"%Y-%m-%d\"), df.index))\n",
    "    #获取每天的最高价\n",
    "    df_column = df[column].copy()\n",
    "    #拆分为训练集和测试集\n",
    "    df_column_train, df_column_test = df_column[:train_end], df_column[train_end - n:]\n",
    "    #生成训练数据\n",
    "    df_generate_train = generate_data_by_n_days(df_column_train, n, index=index)\n",
    "    if all_too:\n",
    "        return df_generate_train, df_column, df.index.tolist()\n",
    "    return df_generate_train\n"
   ]
  },
  {
   "cell_type": "markdown",
   "metadata": {},
   "source": [
    "7.8.4 定义模型"
   ]
  },
  {
   "cell_type": "code",
   "execution_count": null,
   "metadata": {
    "collapsed": true
   },
   "outputs": [],
   "source": [
    "class RNN(nn.Module):\n",
    "    def __init__(self, input_size):\n",
    "        super(RNN, self).__init__()\n",
    "        self.rnn = nn.LSTM(\n",
    "            input_size=input_size,\n",
    "            hidden_size=64,\n",
    "            num_layers=1,\n",
    "            batch_first=True\n",
    "        )\n",
    "        self.out = nn.Sequential(\n",
    "            nn.Linear(64, 1)\n",
    "        )\n",
    "\n",
    "    def forward(self, x):\n",
    "        r_out, (h_n, h_c) = self.rnn(x, None)  #None即隐层状态用0初始化\n",
    "        out = self.out(r_out)\n",
    "        return out\n",
    "\n",
    "\n",
    "class mytrainset(Dataset):\n",
    "    def __init__(self, data):        \n",
    "        self.data, self.label = data[:, :-1].float(), data[:, -1].float()\n",
    "             \n",
    "    def __getitem__(self, index):\n",
    "        return self.data[index], self.label[index]\n",
    "\n",
    "    def __len__(self):\n",
    "        return len(self.data)\n"
   ]
  },
  {
   "cell_type": "markdown",
   "metadata": {},
   "source": [
    "7.8.5 训练模型"
   ]
  },
  {
   "cell_type": "code",
   "execution_count": null,
   "metadata": {
    "collapsed": false
   },
   "outputs": [],
   "source": [
    "from pandas.plotting import register_matplotlib_converters\n",
    "register_matplotlib_converters()\n",
    "# 获取训练数据、原始数据、索引等信息\n",
    "df, df_all, df_index = readData('high', n=n, train_end=train_end)\n",
    "\n",
    "#可视化原高价数据\n",
    "df_all = np.array(df_all.tolist())\n",
    "plt.plot(df_index, df_all, label='real-data')\n",
    "plt.legend(loc='upper right')  \n",
    "\n",
    "\n",
    "#对数据进行预处理，规范化及转换为Tensor\n",
    "df_numpy = np.array(df)\n",
    "\n",
    "df_numpy_mean = np.mean(df_numpy)\n",
    "df_numpy_std = np.std(df_numpy)\n",
    "\n",
    "df_numpy = (df_numpy - df_numpy_mean) / df_numpy_std\n",
    "df_tensor = torch.Tensor(df_numpy)\n",
    "\n",
    "\n",
    "trainset = mytrainset(df_tensor)\n",
    "trainloader = DataLoader(trainset, batch_size=batch_size, shuffle=False)"
   ]
  },
  {
   "cell_type": "code",
   "execution_count": null,
   "metadata": {
    "collapsed": true
   },
   "outputs": [],
   "source": [
    "#记录损失值，并用tensorboardx在web上展示\n",
    "from tensorboardX import SummaryWriter\n",
    "writer = SummaryWriter(log_dir='logs')\n",
    "\n",
    "rnn = RNN(n).to(device)\n",
    "optimizer = torch.optim.Adam(rnn.parameters(), lr=LR)  \n",
    "loss_func = nn.MSELoss()\n",
    "\n",
    "for step in range(EPOCH):\n",
    "    for tx, ty in trainloader:\n",
    "        tx=tx.to(device)\n",
    "        ty=ty.to(device)\n",
    "        #在第1个维度上添加一个维度为1的维度，形状变为[batch,seq_len,input_size]\n",
    "        output = rnn(torch.unsqueeze(tx, dim=1)).to(device)\n",
    "        loss = loss_func(torch.squeeze(output), ty)\n",
    "        optimizer.zero_grad()  \n",
    "        loss.backward()  \n",
    "        optimizer.step()\n",
    "    writer.add_scalar('sh300_loss', loss, step)  "
   ]
  },
  {
   "cell_type": "markdown",
   "metadata": {},
   "source": [
    "7.8.6 测试模型"
   ]
  },
  {
   "cell_type": "code",
   "execution_count": null,
   "metadata": {
    "collapsed": false
   },
   "outputs": [],
   "source": [
    "generate_data_train = []\n",
    "generate_data_test = []\n",
    "\n",
    "test_index = len(df_all) + train_end\n",
    "\n",
    "df_all_normal = (df_all - df_numpy_mean) / df_numpy_std\n",
    "df_all_normal_tensor = torch.Tensor(df_all_normal)\n",
    "for i in range(n, len(df_all)):\n",
    "    x = df_all_normal_tensor[i - n:i].to(device)\n",
    "    #rnn的输入必须是3维，故需添加两个1维的维度，最后成为[1,1,input_size]\n",
    "    x = torch.unsqueeze(torch.unsqueeze(x, dim=0), dim=0)\n",
    "    \n",
    "    y = rnn(x).to(device)\n",
    "    if i < test_index:\n",
    "        generate_data_train.append(torch.squeeze(y).detach().cpu().numpy() * df_numpy_std + df_numpy_mean)\n",
    "    else:\n",
    "        generate_data_test.append(torch.squeeze(y).detach().cpu().numpy() * df_numpy_std + df_numpy_mean)\n",
    "plt.plot(df_index[n:train_end], generate_data_train, label='generate_train')\n",
    "plt.plot(df_index[train_end:], generate_data_test, label='generate_test')\n",
    "plt.plot(df_index[train_end:], df_all[train_end:], label='real-data')\n",
    "plt.legend()\n",
    "plt.show()"
   ]
  },
  {
   "cell_type": "code",
   "execution_count": null,
   "metadata": {
    "collapsed": false
   },
   "outputs": [],
   "source": [
    "plt.clf()\n",
    "plt.plot(df_index[train_end:-500], df_all[train_end:-500], label='real-data')\n",
    "plt.plot(df_index[train_end:-500], generate_data_test[-600:-500], label='generate_test')\n",
    "plt.legend()\n",
    "plt.show()"
   ]
  }
 ],
 "metadata": {
  "kernelspec": {
   "display_name": "Python 3",
   "language": "python",
   "name": "python3"
  },
  "language_info": {
   "codemirror_mode": {
    "name": "ipython",
    "version": 3
   },
   "file_extension": ".py",
   "mimetype": "text/x-python",
   "name": "python",
   "nbconvert_exporter": "python",
   "pygments_lexer": "ipython3",
   "version": "3.6.4"
  }
 },
 "nbformat": 4,
 "nbformat_minor": 2
}

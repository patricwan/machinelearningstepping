{
 "cells": [
  {
   "cell_type": "code",
   "execution_count": null,
   "metadata": {},
   "outputs": [],
   "source": [
    "import csv\n",
    "import hashlib\n",
    "\n",
    "def hashstr(S, nr_bins):\n",
    "    return str(int(hashlib.md5(S.encode('utf-8')).hexdigest(), 16)%(nr_bins-1) + 1)\n",
    "\n",
    "def writeToFFMFile(csvfile, ffmfile, label = \"label\"):\n",
    "    with open(ffmfile, 'w') as f:\n",
    "        for row in csv.DictReader(open(csvfile)):\n",
    "            # row is dict\n",
    "            row_to_write = [row[label], ]\n",
    "            field = 0\n",
    "            for feat in row.keys():\n",
    "                if feat == label:\n",
    "                    continue\n",
    "                items = str(row[feat]).split(\" \")\n",
    "                for item in items:\n",
    "                    row_to_write.append(\":\".join([str(field), hashstr(str(field)+'='+item, int(1e+6)), '1']))\n",
    "                field += 1\n",
    "            row_to_write = \" \".join(row_to_write)\n",
    "            f.write(row_to_write + '\\n')\n",
    "            \n",
    "\n",
    "    \n",
    "    \n",
    "\n"
   ]
  }
 ],
 "metadata": {
  "kernelspec": {
   "display_name": "Python 3",
   "language": "python",
   "name": "python3"
  },
  "language_info": {
   "codemirror_mode": {
    "name": "ipython",
    "version": 3
   },
   "file_extension": ".py",
   "mimetype": "text/x-python",
   "name": "python",
   "nbconvert_exporter": "python",
   "pygments_lexer": "ipython3",
   "version": "3.6.4"
  }
 },
 "nbformat": 4,
 "nbformat_minor": 2
}

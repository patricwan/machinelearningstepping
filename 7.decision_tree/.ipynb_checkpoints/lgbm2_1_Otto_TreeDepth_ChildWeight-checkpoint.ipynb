{
 "cells": [
  {
   "cell_type": "markdown",
   "metadata": {},
   "source": [
    "# LightGBM Parameter Tuning for Otto Dataset"
   ]
  },
  {
   "cell_type": "markdown",
   "metadata": {},
   "source": [
    "我们以Kaggle 2015年举办的Otto Group Product Classification Challenge竞赛数据为例，进行XGBoost参数调优探索。\n",
    "\n",
    "竞赛官网：https://www.kaggle.com/c/otto-group-product-classification-challenge/data"
   ]
  },
  {
   "cell_type": "markdown",
   "metadata": {},
   "source": [
    "# 第二步：调整树的参数：max_depth & min_child_weight\n",
    "(粗调，参数的步长为2；下一步是在粗调最佳参数周围，将步长降为1，进行精细调整)"
   ]
  },
  {
   "cell_type": "markdown",
   "metadata": {},
   "source": [
    "首先 import 必要的模块"
   ]
  },
  {
   "cell_type": "code",
   "execution_count": 8,
   "metadata": {},
   "outputs": [],
   "source": [
    "import lightgbm as lgbm\n",
    "\n",
    "import pandas as pd \n",
    "import numpy as np\n",
    "\n",
    "from sklearn.model_selection import GridSearchCV\n",
    "\n",
    "from sklearn.metrics import log_loss\n",
    "\n",
    "from matplotlib import pyplot\n",
    "import seaborn as sns\n",
    "%matplotlib inline"
   ]
  },
  {
   "cell_type": "markdown",
   "metadata": {},
   "source": [
    "## 读取数据"
   ]
  },
  {
   "cell_type": "code",
   "execution_count": 9,
   "metadata": {
    "scrolled": true
   },
   "outputs": [],
   "source": [
    "# path to where the data lies\n",
    "dpath = '../data/'\n",
    "train = pd.read_csv(dpath +\"Otto_train.csv\")\n",
    "#train.head()"
   ]
  },
  {
   "cell_type": "markdown",
   "metadata": {},
   "source": [
    "## Variable Identification"
   ]
  },
  {
   "cell_type": "markdown",
   "metadata": {},
   "source": [
    "选择该数据集是因为的数据特征单一，我们可以在特征工程方面少做些工作，集中精力放在参数调优上"
   ]
  },
  {
   "cell_type": "markdown",
   "metadata": {},
   "source": [
    "## Target 分布，看看各类样本分布是否均衡"
   ]
  },
  {
   "cell_type": "code",
   "execution_count": 10,
   "metadata": {
    "scrolled": false
   },
   "outputs": [],
   "source": [
    "#sns.countplot(train.target);\n",
    "#pyplot.xlabel('target');\n",
    "#pyplot.ylabel('Number of occurrences');"
   ]
  },
  {
   "cell_type": "markdown",
   "metadata": {},
   "source": [
    "每类样本分布不是很均匀，所以交叉验证时也考虑各类样本按比例抽取"
   ]
  },
  {
   "cell_type": "code",
   "execution_count": 11,
   "metadata": {},
   "outputs": [],
   "source": [
    "# drop ids and get labels\n",
    "y_train = train['target']\n",
    "y_train = y_train.map(lambda s: s[6:])\n",
    "y_train = y_train.map(lambda s: int(s)-1)\n",
    "\n",
    "train = train.drop([\"id\", \"target\"], axis=1)\n",
    "X_train = np.array(train)"
   ]
  },
  {
   "cell_type": "markdown",
   "metadata": {},
   "source": [
    "第一轮参数调整得到的n_estimators最优值（699），其余参数继续默认值"
   ]
  },
  {
   "cell_type": "markdown",
   "metadata": {},
   "source": [
    "用交叉验证评价模型性能时，用scoring参数定义评价指标。评价指标是越高越好，因此用一些损失函数当评价指标时，需要再加负号，如neg_log_loss，neg_mean_squared_error 详见sklearn文档：http://scikit-learn.org/stable/modules/model_evaluation.html#log-loss"
   ]
  },
  {
   "cell_type": "code",
   "execution_count": 12,
   "metadata": {
    "scrolled": false
   },
   "outputs": [
    {
     "data": {
      "text/plain": [
       "{'max_depth': range(3, 10, 2), 'min_child_weight': range(1, 6, 2)}"
      ]
     },
     "execution_count": 12,
     "metadata": {},
     "output_type": "execute_result"
    }
   ],
   "source": [
    "#max_depth 建议3-10， min_child_weight=1／sqrt(ratio_rare_event) =5.5\n",
    "max_depth = range(3,10,2)\n",
    "min_child_weight = range(1,6,2)\n",
    "param_test2_1 = dict(max_depth=max_depth, min_child_weight=min_child_weight)\n",
    "param_test2_1"
   ]
  },
  {
   "cell_type": "code",
   "execution_count": 13,
   "metadata": {},
   "outputs": [],
   "source": [
    "# prepare cross validation\n",
    "from sklearn.model_selection import StratifiedKFold\n",
    "kfold = StratifiedKFold(n_splits=5, shuffle=True, random_state=3)"
   ]
  },
  {
   "cell_type": "code",
   "execution_count": 14,
   "metadata": {
    "scrolled": true
   },
   "outputs": [
    {
     "name": "stderr",
     "output_type": "stream",
     "text": [
      "c:\\users\\i052090\\appdata\\local\\programs\\python\\python36\\lib\\site-packages\\sklearn\\model_selection\\_search.py:667: DeprecationWarning: The grid_scores_ attribute was deprecated in version 0.18 in favor of the more elaborate cv_results_ attribute. The grid_scores_ attribute will not be available from 0.20\n",
      "  DeprecationWarning)\n"
     ]
    },
    {
     "data": {
      "text/plain": [
       "([mean: -0.49897, std: 0.00279, params: {'max_depth': 3, 'min_child_weight': 1},\n",
       "  mean: -0.49980, std: 0.00316, params: {'max_depth': 3, 'min_child_weight': 3},\n",
       "  mean: -0.50127, std: 0.00290, params: {'max_depth': 3, 'min_child_weight': 5},\n",
       "  mean: -0.46166, std: 0.00543, params: {'max_depth': 5, 'min_child_weight': 1},\n",
       "  mean: -0.46248, std: 0.00484, params: {'max_depth': 5, 'min_child_weight': 3},\n",
       "  mean: -0.46312, std: 0.00501, params: {'max_depth': 5, 'min_child_weight': 5},\n",
       "  mean: -0.46760, std: 0.00704, params: {'max_depth': 7, 'min_child_weight': 1},\n",
       "  mean: -0.46488, std: 0.00640, params: {'max_depth': 7, 'min_child_weight': 3},\n",
       "  mean: -0.46275, std: 0.00598, params: {'max_depth': 7, 'min_child_weight': 5},\n",
       "  mean: -0.47662, std: 0.00744, params: {'max_depth': 9, 'min_child_weight': 1},\n",
       "  mean: -0.47294, std: 0.00671, params: {'max_depth': 9, 'min_child_weight': 3},\n",
       "  mean: -0.46985, std: 0.00653, params: {'max_depth': 9, 'min_child_weight': 5}],\n",
       " {'max_depth': 5, 'min_child_weight': 1},\n",
       " -0.46165727637807236)"
      ]
     },
     "execution_count": 14,
     "metadata": {},
     "output_type": "execute_result"
    }
   ],
   "source": [
    "params = {'boosting_type': 'gbdt', \n",
    "          'objective': 'multiclass', \n",
    "          'nthread': -1, \n",
    "          'silent': True,\n",
    "          'learning_rate': 0.1, \n",
    "          'num_leaves': 80, \n",
    "          'max_depth': 5,\n",
    "          'max_bin': 127, \n",
    "          'subsample_for_bin': 50000,\n",
    "          'subsample': 0.8, \n",
    "          'subsample_freq': 1, \n",
    "          'colsample_bytree': 0.8, \n",
    "          'reg_alpha': 1, \n",
    "          'reg_lambda': 0,\n",
    "          'min_split_gain': 0.0, \n",
    "          'min_child_weight': 1, \n",
    "          'min_child_samples': 20, \n",
    "          'scale_pos_weight': 1}\n",
    "\n",
    "lgbm2_1 = lgbm.sklearn.LGBMClassifier(n_estimators=787, seed=0, **params)\n",
    "\n",
    "gsearch2_1 = GridSearchCV(lgbm2_1, param_grid = param_test2_1, scoring='neg_log_loss',n_jobs=-1, cv=kfold)\n",
    "gsearch2_1.fit(X_train , y_train)\n",
    "\n",
    "gsearch2_1.grid_scores_, gsearch2_1.best_params_,     gsearch2_1.best_score_"
   ]
  },
  {
   "cell_type": "code",
   "execution_count": 15,
   "metadata": {
    "scrolled": true
   },
   "outputs": [
    {
     "data": {
      "text/plain": [
       "{'mean_fit_time': array([ 206.3010191 ,  250.61949425,  217.63680472,  353.00866594,\n",
       "         359.55933175,  310.84688597,  449.54779048,  500.64698257,\n",
       "         465.4309917 ,  542.32248335,  513.87179933,  418.93137498]),\n",
       " 'mean_score_time': array([  4.92070804,   6.36116085,   5.51757922,   6.59273276,\n",
       "          6.92739134,   6.16321101,  10.42625489,  10.37068744,\n",
       "          8.57130365,   9.17762332,   8.72875018,   8.05300922]),\n",
       " 'mean_test_score': array([-0.49897111, -0.4997999 , -0.50127016, -0.46165728, -0.46248178,\n",
       "        -0.46311854, -0.46760416, -0.46487672, -0.4627477 , -0.47662468,\n",
       "        -0.47294236, -0.46984503]),\n",
       " 'mean_train_score': array([-0.39045742, -0.39484274, -0.39918798, -0.21184529, -0.22410967,\n",
       "        -0.23644243, -0.10307424, -0.11790636, -0.13380151, -0.07353355,\n",
       "        -0.08286428, -0.09356143]),\n",
       " 'param_max_depth': masked_array(data = [3 3 3 5 5 5 7 7 7 9 9 9],\n",
       "              mask = [False False False False False False False False False False False False],\n",
       "        fill_value = ?),\n",
       " 'param_min_child_weight': masked_array(data = [1 3 5 1 3 5 1 3 5 1 3 5],\n",
       "              mask = [False False False False False False False False False False False False],\n",
       "        fill_value = ?),\n",
       " 'params': ({'max_depth': 3, 'min_child_weight': 1},\n",
       "  {'max_depth': 3, 'min_child_weight': 3},\n",
       "  {'max_depth': 3, 'min_child_weight': 5},\n",
       "  {'max_depth': 5, 'min_child_weight': 1},\n",
       "  {'max_depth': 5, 'min_child_weight': 3},\n",
       "  {'max_depth': 5, 'min_child_weight': 5},\n",
       "  {'max_depth': 7, 'min_child_weight': 1},\n",
       "  {'max_depth': 7, 'min_child_weight': 3},\n",
       "  {'max_depth': 7, 'min_child_weight': 5},\n",
       "  {'max_depth': 9, 'min_child_weight': 1},\n",
       "  {'max_depth': 9, 'min_child_weight': 3},\n",
       "  {'max_depth': 9, 'min_child_weight': 5}),\n",
       " 'rank_test_score': array([10, 11, 12,  1,  2,  4,  6,  5,  3,  9,  8,  7]),\n",
       " 'split0_test_score': array([-0.49745172, -0.49759998, -0.50013167, -0.45623439, -0.45836132,\n",
       "        -0.45836574, -0.45876919, -0.45709971, -0.45572066, -0.46719042,\n",
       "        -0.4639865 , -0.46417921]),\n",
       " 'split0_train_score': array([-0.38982444, -0.39436405, -0.39831385, -0.21248094, -0.22445009,\n",
       "        -0.23743262, -0.10277335, -0.11756087, -0.13313229, -0.07303663,\n",
       "        -0.08251672, -0.09332028]),\n",
       " 'split1_test_score': array([-0.49765062, -0.49881202, -0.49958223, -0.46360497, -0.46524944,\n",
       "        -0.46364359, -0.47517717, -0.47131239, -0.46677527, -0.4862707 ,\n",
       "        -0.48010876, -0.47868756]),\n",
       " 'split1_train_score': array([-0.39097508, -0.39504107, -0.399958  , -0.21092032, -0.22396284,\n",
       "        -0.23578577, -0.10307396, -0.11736946, -0.13338329, -0.07294558,\n",
       "        -0.08206085, -0.09308456]),\n",
       " 'split2_test_score': array([-0.49748825, -0.49851073, -0.5001505 , -0.45744267, -0.45979809,\n",
       "        -0.4592008 , -0.46319751, -0.45992589, -0.45818386, -0.4706207 ,\n",
       "        -0.4687483 , -0.46241052]),\n",
       " 'split2_train_score': array([-0.39122898, -0.39538534, -0.40003482, -0.21295444, -0.22433329,\n",
       "        -0.23663303, -0.10292123, -0.11846942, -0.13471953, -0.07369344,\n",
       "        -0.08325308, -0.09416007]),\n",
       " 'split3_test_score': array([-0.49772728, -0.49800519, -0.49945398, -0.45973071, -0.45829752,\n",
       "        -0.46199373, -0.46425203, -0.46262555, -0.46087532, -0.47493776,\n",
       "        -0.47054492, -0.46757994]),\n",
       " 'split3_train_score': array([-0.39068838, -0.39510649, -0.39938156, -0.21184914, -0.22397318,\n",
       "        -0.23643442, -0.10320313, -0.11864497, -0.13468632, -0.07404391,\n",
       "        -0.08347211, -0.09384658]),\n",
       " 'split4_test_score': array([-0.50454029, -0.50607454, -0.50703506, -0.47127825, -0.4707063 ,\n",
       "        -0.4723933 , -0.47662935, -0.47342424, -0.47218804, -0.48410761,\n",
       "        -0.48132758, -0.47637074]),\n",
       " 'split4_train_score': array([-0.38957021, -0.39431675, -0.39825167, -0.2110216 , -0.22382895,\n",
       "        -0.23592635, -0.10339954, -0.1174871 , -0.13308613, -0.07394821,\n",
       "        -0.08301867, -0.09339564]),\n",
       " 'std_fit_time': array([ 28.13476861,  13.55179541,  30.15050265,  35.14454155,\n",
       "         13.42756194,  19.28923071,  34.83882948,  22.95256445,\n",
       "         24.90810576,  18.92917843,  10.84813256,  68.25354184]),\n",
       " 'std_score_time': array([ 0.10899766,  2.75658109,  1.20908089,  0.69781994,  0.5769197 ,\n",
       "         0.4733452 ,  4.71999097,  1.33403356,  0.68717069,  0.97056099,\n",
       "         0.87087525,  0.14311551]),\n",
       " 'std_test_score': array([ 0.00278579,  0.00316406,  0.00289551,  0.00542607,  0.00483675,\n",
       "         0.00500945,  0.00703575,  0.00639576,  0.00598388,  0.00744241,\n",
       "         0.00671134,  0.00653116]),\n",
       " 'std_train_score': array([ 0.00064876,  0.00042641,  0.00077309,  0.00079603,  0.0002387 ,\n",
       "         0.00058556,  0.00021743,  0.00053777,  0.00074299,  0.00045839,\n",
       "         0.00051201,  0.000388  ])}"
      ]
     },
     "execution_count": 15,
     "metadata": {},
     "output_type": "execute_result"
    }
   ],
   "source": [
    "gsearch2_1.cv_results_"
   ]
  },
  {
   "cell_type": "code",
   "execution_count": 16,
   "metadata": {
    "scrolled": true
   },
   "outputs": [
    {
     "name": "stdout",
     "output_type": "stream",
     "text": [
      "Best: -0.461657 using {'max_depth': 5, 'min_child_weight': 1}\n"
     ]
    },
    {
     "data": {
      "image/png": "[encoded data removed]",
      "text/plain": [
       "<matplotlib.figure.Figure at 0x1677a275f98>"
      ]
     },
     "metadata": {},
     "output_type": "display_data"
    }
   ],
   "source": [
    "# summarize results\n",
    "print(\"Best: %f using %s\" % (gsearch2_1.best_score_, gsearch2_1.best_params_))\n",
    "test_means = gsearch2_1.cv_results_[ 'mean_test_score' ]\n",
    "test_stds = gsearch2_1.cv_results_[ 'std_test_score' ]\n",
    "train_means = gsearch2_1.cv_results_[ 'mean_train_score' ]\n",
    "train_stds = gsearch2_1.cv_results_[ 'std_train_score' ]\n",
    "\n",
    "pd.DataFrame(gsearch2_1.cv_results_).to_csv('my_preds_maxdepth_min_child_weights_1.csv')\n",
    "\n",
    "# plot results\n",
    "test_scores = np.array(test_means).reshape(len(max_depth), len(min_child_weight))\n",
    "train_scores = np.array(train_means).reshape(len(max_depth), len(min_child_weight))\n",
    "\n",
    "for i, value in enumerate(max_depth):\n",
    "    pyplot.plot(min_child_weight, -test_scores[i], label= 'test_max_depth:'   + str(value))\n",
    "#for i, value in enumerate(min_child_weight):\n",
    "#    pyplot.plot(max_depth, train_scores[i], label= 'train_min_child_weight:'   + str(value))\n",
    "    \n",
    "pyplot.legend()\n",
    "pyplot.xlabel( 'max_depth' )                                                                                                      \n",
    "pyplot.ylabel( 'Log Loss' )\n",
    "pyplot.savefig('max_depth_vs_min_child_weght_1.png' )"
   ]
  }
 ],
 "metadata": {
  "kernelspec": {
   "display_name": "Python 3",
   "language": "python",
   "name": "python3"
  },
  "language_info": {
   "codemirror_mode": {
    "name": "ipython",
    "version": 3
   },
   "file_extension": ".py",
   "mimetype": "text/x-python",
   "name": "python",
   "nbconvert_exporter": "python",
   "pygments_lexer": "ipython3",
   "version": "3.6.4"
  }
 },
 "nbformat": 4,
 "nbformat_minor": 2
}

{
 "cells": [
  {
   "cell_type": "markdown",
   "metadata": {},
   "source": [
    "# CART & RF——Otto商品分类"
   ]
  },
  {
   "cell_type": "markdown",
   "metadata": {},
   "source": [
    "我们以Kaggle 2015年举办的Otto Group Product Classification Challenge竞赛数据为例，分别调用缺省参数CART、CART + GridSearchCV 以及Random Forest + GridSearchCV进行参数调优。\n",
    "\n",
    "同时考虑通过feature_importances_进行特征选择\n",
    "\n",
    "Otto数据集是著名电商Otto提供的一个多类商品分类问题，类别数=9. 每个样本有93维数值型特征（整数，表示某种事件发生的次数，已经进行过脱敏处理）。 竞赛官网：https://www.kaggle.com/c/otto-group-product-classification-challenge/data\n"
   ]
  },
  {
   "cell_type": "code",
   "execution_count": 44,
   "metadata": {},
   "outputs": [],
   "source": [
    "# 首先 import 必要的模块\n",
    "import pandas as pd \n",
    "import numpy as np\n",
    "\n",
    "#竞赛的评价指标为logloss\n",
    "from sklearn.metrics import log_loss \n",
    "from sklearn import metrics  \n",
    "\n",
    "from matplotlib import pyplot \n",
    "import seaborn as sns\n",
    "%matplotlib inline"
   ]
  },
  {
   "cell_type": "markdown",
   "metadata": {},
   "source": [
    "## 读取数据 & 数据探索"
   ]
  },
  {
   "cell_type": "code",
   "execution_count": 45,
   "metadata": {
    "scrolled": true
   },
   "outputs": [],
   "source": [
    "# 读取数据\n",
    "# path to where the data lies\n",
    "dpath = '../data/'\n",
    "train = pd.read_csv(dpath +\"Otto_train.csv\")\n",
    "#train.head()"
   ]
  },
  {
   "cell_type": "code",
   "execution_count": 46,
   "metadata": {
    "scrolled": true
   },
   "outputs": [],
   "source": [
    "#train.info()"
   ]
  },
  {
   "cell_type": "code",
   "execution_count": 47,
   "metadata": {
    "scrolled": true
   },
   "outputs": [],
   "source": [
    "## 各属性的统计特性\n",
    "#train.describe()"
   ]
  },
  {
   "cell_type": "code",
   "execution_count": 48,
   "metadata": {},
   "outputs": [
    {
     "data": {
      "image/png": "[encoded data removed]",
      "text/plain": [
       "<Figure size 432x288 with 1 Axes>"
      ]
     },
     "metadata": {
      "needs_background": "light"
     },
     "output_type": "display_data"
    }
   ],
   "source": [
    "# Target 分布，看看各类样本分布是否均衡\n",
    "sns.countplot(train.target);\n",
    "pyplot.xlabel('target');\n",
    "pyplot.ylabel('Number of occurrences');"
   ]
  },
  {
   "cell_type": "markdown",
   "metadata": {},
   "source": [
    "各类样本不均衡。交叉验证对分类任务缺省的是采用StratifiedKFold，在每折采样时根据各类样本按比例采样"
   ]
  },
  {
   "cell_type": "markdown",
   "metadata": {},
   "source": [
    "## 特征编码"
   ]
  },
  {
   "cell_type": "code",
   "execution_count": 49,
   "metadata": {},
   "outputs": [],
   "source": [
    "# 将类别字符串变成数字\n",
    "# drop ids and get labels\n",
    "y_train = train['target']   #形式为Class_x\n",
    "y_train = y_train.map(lambda s: s[6:])\n",
    "y_train = y_train.map(lambda s: int(s)-1)\n",
    "\n",
    "train = train.drop([\"id\", \"target\"], axis=1)\n",
    "columns = train.columns\n",
    "\n",
    "X_train = np.array(train)\n",
    "\n",
    "#如果计算资源有限，也可只取少量样本，如取前1000个样本\n",
    "#（分类中其实还需要确保取出来的这部分样本各类样本的比例和总体一致）\n",
    "#n_trains = 1000\n",
    "#y_train = train.label.values[:n_trains]"
   ]
  },
  {
   "cell_type": "markdown",
   "metadata": {},
   "source": [
    "## 数据预处理"
   ]
  },
  {
   "cell_type": "code",
   "execution_count": 50,
   "metadata": {
    "scrolled": true
   },
   "outputs": [
    {
     "name": "stderr",
     "output_type": "stream",
     "text": [
      "/usr/local/python36/lib/python3.6/site-packages/sklearn/utils/validation.py:475: DataConversionWarning: Data with input dtype int64 was converted to float64 by StandardScaler.\n",
      "  warnings.warn(msg, DataConversionWarning)\n"
     ]
    }
   ],
   "source": [
    "# 数据标准化\n",
    "from sklearn.preprocessing import StandardScaler\n",
    "\n",
    "# 初始化特征的标准化器\n",
    "ss_X = StandardScaler()\n",
    "\n",
    "# 分别对训练和测试数据的特征进行标准化处理\n",
    "X_train = ss_X.fit_transform(X_train)\n",
    "#X_test = ss_X.transform(X_test)\n"
   ]
  },
  {
   "cell_type": "markdown",
   "metadata": {},
   "source": [
    "## 模型训练"
   ]
  },
  {
   "cell_type": "markdown",
   "metadata": {},
   "source": [
    "### default Desion Tree (CART)"
   ]
  },
  {
   "cell_type": "code",
   "execution_count": 51,
   "metadata": {
    "scrolled": false
   },
   "outputs": [
    {
     "data": {
      "text/plain": [
       "DecisionTreeClassifier(class_weight=None, criterion='gini', max_depth=None,\n",
       "            max_features=None, max_leaf_nodes=None,\n",
       "            min_impurity_decrease=0.0, min_impurity_split=None,\n",
       "            min_samples_leaf=1, min_samples_split=2,\n",
       "            min_weight_fraction_leaf=0.0, presort=False, random_state=None,\n",
       "            splitter='best')"
      ]
     },
     "execution_count": 51,
     "metadata": {},
     "output_type": "execute_result"
    }
   ],
   "source": [
    "from sklearn.tree import DecisionTreeClassifier\n",
    "model_tree = DecisionTreeClassifier()\n",
    "\n",
    "model_tree.fit(X_train, y_train)"
   ]
  },
  {
   "cell_type": "code",
   "execution_count": 52,
   "metadata": {},
   "outputs": [
    {
     "name": "stdout",
     "output_type": "stream",
     "text": [
      "logloss of each fold is:  [10.22441491  9.95828071  9.69206052  9.93199063  9.92403756  9.93841287\n",
      "  9.56990992  9.69832761  9.55315978  9.78682456]\n",
      "cv logloss is: 9.827741905692836\n"
     ]
    }
   ],
   "source": [
    "# 交叉验证用于评估模型性能和进行参数调优（模型选择）\n",
    "#分类任务中交叉验证缺省是采用StratifiedKFold\n",
    "from sklearn.cross_validation import cross_val_score\n",
    "loss = cross_val_score(model_tree, X_train, y_train, cv=10, scoring='neg_log_loss')\n",
    "print('logloss of each fold is: ',-loss)\n",
    "print('cv logloss is:', -loss.mean())"
   ]
  },
  {
   "cell_type": "code",
   "execution_count": 53,
   "metadata": {
    "scrolled": true
   },
   "outputs": [
    {
     "data": {
      "text/html": [
       "<div>\n",
       "<style scoped>\n",
       "    .dataframe tbody tr th:only-of-type {\n",
       "        vertical-align: middle;\n",
       "    }\n",
       "\n",
       "    .dataframe tbody tr th {\n",
       "        vertical-align: top;\n",
       "    }\n",
       "\n",
       "    .dataframe thead th {\n",
       "        text-align: right;\n",
       "    }\n",
       "</style>\n",
       "<table border=\"1\" class=\"dataframe\">\n",
       "  <thead>\n",
       "    <tr style=\"text-align: right;\">\n",
       "      <th></th>\n",
       "      <th>columns</th>\n",
       "      <th>importance</th>\n",
       "    </tr>\n",
       "  </thead>\n",
       "  <tbody>\n",
       "    <tr>\n",
       "      <th>10</th>\n",
       "      <td>feat_11</td>\n",
       "      <td>0.101488</td>\n",
       "    </tr>\n",
       "    <tr>\n",
       "      <th>59</th>\n",
       "      <td>feat_60</td>\n",
       "      <td>0.080703</td>\n",
       "    </tr>\n",
       "    <tr>\n",
       "      <th>33</th>\n",
       "      <td>feat_34</td>\n",
       "      <td>0.051536</td>\n",
       "    </tr>\n",
       "    <tr>\n",
       "      <th>89</th>\n",
       "      <td>feat_90</td>\n",
       "      <td>0.045836</td>\n",
       "    </tr>\n",
       "    <tr>\n",
       "      <th>13</th>\n",
       "      <td>feat_14</td>\n",
       "      <td>0.040731</td>\n",
       "    </tr>\n",
       "    <tr>\n",
       "      <th>14</th>\n",
       "      <td>feat_15</td>\n",
       "      <td>0.037724</td>\n",
       "    </tr>\n",
       "    <tr>\n",
       "      <th>38</th>\n",
       "      <td>feat_39</td>\n",
       "      <td>0.024783</td>\n",
       "    </tr>\n",
       "    <tr>\n",
       "      <th>35</th>\n",
       "      <td>feat_36</td>\n",
       "      <td>0.024519</td>\n",
       "    </tr>\n",
       "    <tr>\n",
       "      <th>85</th>\n",
       "      <td>feat_86</td>\n",
       "      <td>0.023717</td>\n",
       "    </tr>\n",
       "    <tr>\n",
       "      <th>41</th>\n",
       "      <td>feat_42</td>\n",
       "      <td>0.021990</td>\n",
       "    </tr>\n",
       "    <tr>\n",
       "      <th>66</th>\n",
       "      <td>feat_67</td>\n",
       "      <td>0.021195</td>\n",
       "    </tr>\n",
       "    <tr>\n",
       "      <th>39</th>\n",
       "      <td>feat_40</td>\n",
       "      <td>0.020362</td>\n",
       "    </tr>\n",
       "    <tr>\n",
       "      <th>24</th>\n",
       "      <td>feat_25</td>\n",
       "      <td>0.018497</td>\n",
       "    </tr>\n",
       "    <tr>\n",
       "      <th>47</th>\n",
       "      <td>feat_48</td>\n",
       "      <td>0.017647</td>\n",
       "    </tr>\n",
       "    <tr>\n",
       "      <th>61</th>\n",
       "      <td>feat_62</td>\n",
       "      <td>0.017024</td>\n",
       "    </tr>\n",
       "    <tr>\n",
       "      <th>29</th>\n",
       "      <td>feat_30</td>\n",
       "      <td>0.016045</td>\n",
       "    </tr>\n",
       "    <tr>\n",
       "      <th>31</th>\n",
       "      <td>feat_32</td>\n",
       "      <td>0.014979</td>\n",
       "    </tr>\n",
       "    <tr>\n",
       "      <th>15</th>\n",
       "      <td>feat_16</td>\n",
       "      <td>0.014830</td>\n",
       "    </tr>\n",
       "    <tr>\n",
       "      <th>23</th>\n",
       "      <td>feat_24</td>\n",
       "      <td>0.014332</td>\n",
       "    </tr>\n",
       "    <tr>\n",
       "      <th>67</th>\n",
       "      <td>feat_68</td>\n",
       "      <td>0.014215</td>\n",
       "    </tr>\n",
       "    <tr>\n",
       "      <th>52</th>\n",
       "      <td>feat_53</td>\n",
       "      <td>0.013798</td>\n",
       "    </tr>\n",
       "    <tr>\n",
       "      <th>63</th>\n",
       "      <td>feat_64</td>\n",
       "      <td>0.013695</td>\n",
       "    </tr>\n",
       "    <tr>\n",
       "      <th>8</th>\n",
       "      <td>feat_9</td>\n",
       "      <td>0.013338</td>\n",
       "    </tr>\n",
       "    <tr>\n",
       "      <th>25</th>\n",
       "      <td>feat_26</td>\n",
       "      <td>0.013240</td>\n",
       "    </tr>\n",
       "    <tr>\n",
       "      <th>68</th>\n",
       "      <td>feat_69</td>\n",
       "      <td>0.013108</td>\n",
       "    </tr>\n",
       "    <tr>\n",
       "      <th>87</th>\n",
       "      <td>feat_88</td>\n",
       "      <td>0.012970</td>\n",
       "    </tr>\n",
       "    <tr>\n",
       "      <th>42</th>\n",
       "      <td>feat_43</td>\n",
       "      <td>0.011665</td>\n",
       "    </tr>\n",
       "    <tr>\n",
       "      <th>7</th>\n",
       "      <td>feat_8</td>\n",
       "      <td>0.011040</td>\n",
       "    </tr>\n",
       "    <tr>\n",
       "      <th>71</th>\n",
       "      <td>feat_72</td>\n",
       "      <td>0.009331</td>\n",
       "    </tr>\n",
       "    <tr>\n",
       "      <th>69</th>\n",
       "      <td>feat_70</td>\n",
       "      <td>0.008943</td>\n",
       "    </tr>\n",
       "    <tr>\n",
       "      <th>...</th>\n",
       "      <td>...</td>\n",
       "      <td>...</td>\n",
       "    </tr>\n",
       "    <tr>\n",
       "      <th>17</th>\n",
       "      <td>feat_18</td>\n",
       "      <td>0.003811</td>\n",
       "    </tr>\n",
       "    <tr>\n",
       "      <th>72</th>\n",
       "      <td>feat_73</td>\n",
       "      <td>0.003713</td>\n",
       "    </tr>\n",
       "    <tr>\n",
       "      <th>3</th>\n",
       "      <td>feat_4</td>\n",
       "      <td>0.003238</td>\n",
       "    </tr>\n",
       "    <tr>\n",
       "      <th>9</th>\n",
       "      <td>feat_10</td>\n",
       "      <td>0.003219</td>\n",
       "    </tr>\n",
       "    <tr>\n",
       "      <th>57</th>\n",
       "      <td>feat_58</td>\n",
       "      <td>0.003022</td>\n",
       "    </tr>\n",
       "    <tr>\n",
       "      <th>26</th>\n",
       "      <td>feat_27</td>\n",
       "      <td>0.002937</td>\n",
       "    </tr>\n",
       "    <tr>\n",
       "      <th>44</th>\n",
       "      <td>feat_45</td>\n",
       "      <td>0.002926</td>\n",
       "    </tr>\n",
       "    <tr>\n",
       "      <th>51</th>\n",
       "      <td>feat_52</td>\n",
       "      <td>0.002813</td>\n",
       "    </tr>\n",
       "    <tr>\n",
       "      <th>22</th>\n",
       "      <td>feat_23</td>\n",
       "      <td>0.002747</td>\n",
       "    </tr>\n",
       "    <tr>\n",
       "      <th>64</th>\n",
       "      <td>feat_65</td>\n",
       "      <td>0.002675</td>\n",
       "    </tr>\n",
       "    <tr>\n",
       "      <th>62</th>\n",
       "      <td>feat_63</td>\n",
       "      <td>0.002670</td>\n",
       "    </tr>\n",
       "    <tr>\n",
       "      <th>79</th>\n",
       "      <td>feat_80</td>\n",
       "      <td>0.002495</td>\n",
       "    </tr>\n",
       "    <tr>\n",
       "      <th>6</th>\n",
       "      <td>feat_7</td>\n",
       "      <td>0.002312</td>\n",
       "    </tr>\n",
       "    <tr>\n",
       "      <th>92</th>\n",
       "      <td>feat_93</td>\n",
       "      <td>0.002272</td>\n",
       "    </tr>\n",
       "    <tr>\n",
       "      <th>76</th>\n",
       "      <td>feat_77</td>\n",
       "      <td>0.002239</td>\n",
       "    </tr>\n",
       "    <tr>\n",
       "      <th>18</th>\n",
       "      <td>feat_19</td>\n",
       "      <td>0.002060</td>\n",
       "    </tr>\n",
       "    <tr>\n",
       "      <th>48</th>\n",
       "      <td>feat_49</td>\n",
       "      <td>0.002004</td>\n",
       "    </tr>\n",
       "    <tr>\n",
       "      <th>4</th>\n",
       "      <td>feat_5</td>\n",
       "      <td>0.001847</td>\n",
       "    </tr>\n",
       "    <tr>\n",
       "      <th>1</th>\n",
       "      <td>feat_2</td>\n",
       "      <td>0.001735</td>\n",
       "    </tr>\n",
       "    <tr>\n",
       "      <th>11</th>\n",
       "      <td>feat_12</td>\n",
       "      <td>0.001688</td>\n",
       "    </tr>\n",
       "    <tr>\n",
       "      <th>45</th>\n",
       "      <td>feat_46</td>\n",
       "      <td>0.001636</td>\n",
       "    </tr>\n",
       "    <tr>\n",
       "      <th>80</th>\n",
       "      <td>feat_81</td>\n",
       "      <td>0.001520</td>\n",
       "    </tr>\n",
       "    <tr>\n",
       "      <th>30</th>\n",
       "      <td>feat_31</td>\n",
       "      <td>0.001487</td>\n",
       "    </tr>\n",
       "    <tr>\n",
       "      <th>2</th>\n",
       "      <td>feat_3</td>\n",
       "      <td>0.001480</td>\n",
       "    </tr>\n",
       "    <tr>\n",
       "      <th>27</th>\n",
       "      <td>feat_28</td>\n",
       "      <td>0.001335</td>\n",
       "    </tr>\n",
       "    <tr>\n",
       "      <th>50</th>\n",
       "      <td>feat_51</td>\n",
       "      <td>0.000899</td>\n",
       "    </tr>\n",
       "    <tr>\n",
       "      <th>5</th>\n",
       "      <td>feat_6</td>\n",
       "      <td>0.000859</td>\n",
       "    </tr>\n",
       "    <tr>\n",
       "      <th>60</th>\n",
       "      <td>feat_61</td>\n",
       "      <td>0.000795</td>\n",
       "    </tr>\n",
       "    <tr>\n",
       "      <th>81</th>\n",
       "      <td>feat_82</td>\n",
       "      <td>0.000585</td>\n",
       "    </tr>\n",
       "    <tr>\n",
       "      <th>83</th>\n",
       "      <td>feat_84</td>\n",
       "      <td>0.000363</td>\n",
       "    </tr>\n",
       "  </tbody>\n",
       "</table>\n",
       "<p>93 rows × 2 columns</p>\n",
       "</div>"
      ],
      "text/plain": [
       "    columns  importance\n",
       "10  feat_11    0.101488\n",
       "59  feat_60    0.080703\n",
       "33  feat_34    0.051536\n",
       "89  feat_90    0.045836\n",
       "13  feat_14    0.040731\n",
       "14  feat_15    0.037724\n",
       "38  feat_39    0.024783\n",
       "35  feat_36    0.024519\n",
       "85  feat_86    0.023717\n",
       "41  feat_42    0.021990\n",
       "66  feat_67    0.021195\n",
       "39  feat_40    0.020362\n",
       "24  feat_25    0.018497\n",
       "47  feat_48    0.017647\n",
       "61  feat_62    0.017024\n",
       "29  feat_30    0.016045\n",
       "31  feat_32    0.014979\n",
       "15  feat_16    0.014830\n",
       "23  feat_24    0.014332\n",
       "67  feat_68    0.014215\n",
       "52  feat_53    0.013798\n",
       "63  feat_64    0.013695\n",
       "8    feat_9    0.013338\n",
       "25  feat_26    0.013240\n",
       "68  feat_69    0.013108\n",
       "87  feat_88    0.012970\n",
       "42  feat_43    0.011665\n",
       "7    feat_8    0.011040\n",
       "71  feat_72    0.009331\n",
       "69  feat_70    0.008943\n",
       "..      ...         ...\n",
       "17  feat_18    0.003811\n",
       "72  feat_73    0.003713\n",
       "3    feat_4    0.003238\n",
       "9   feat_10    0.003219\n",
       "57  feat_58    0.003022\n",
       "26  feat_27    0.002937\n",
       "44  feat_45    0.002926\n",
       "51  feat_52    0.002813\n",
       "22  feat_23    0.002747\n",
       "64  feat_65    0.002675\n",
       "62  feat_63    0.002670\n",
       "79  feat_80    0.002495\n",
       "6    feat_7    0.002312\n",
       "92  feat_93    0.002272\n",
       "76  feat_77    0.002239\n",
       "18  feat_19    0.002060\n",
       "48  feat_49    0.002004\n",
       "4    feat_5    0.001847\n",
       "1    feat_2    0.001735\n",
       "11  feat_12    0.001688\n",
       "45  feat_46    0.001636\n",
       "80  feat_81    0.001520\n",
       "30  feat_31    0.001487\n",
       "2    feat_3    0.001480\n",
       "27  feat_28    0.001335\n",
       "50  feat_51    0.000899\n",
       "5    feat_6    0.000859\n",
       "60  feat_61    0.000795\n",
       "81  feat_82    0.000585\n",
       "83  feat_84    0.000363\n",
       "\n",
       "[93 rows x 2 columns]"
      ]
     },
     "execution_count": 53,
     "metadata": {},
     "output_type": "execute_result"
    }
   ],
   "source": [
    "# 看看特征重要性\n",
    "df = pd.DataFrame({\"columns\":list(columns), \"importance\":list(model_tree.feature_importances_.T)})\n",
    "df.sort_values(by=['importance'],ascending=False)"
   ]
  },
  {
   "cell_type": "markdown",
   "metadata": {},
   "source": [
    "## 决策树参数调优"
   ]
  },
  {
   "cell_type": "markdown",
   "metadata": {},
   "source": [
    "决策树的超参数有：max_depth（树的深度）或max_leaf_nodes（叶子结点的数目）、max_features（最大特征数目）、min_samples_leaf（叶子结点的最小样本数）、min_samples_split（中间结点的最小样本树）、min_weight_fraction_leaf（叶子节点的样本权重占总权重的比例）\n",
    "min_impurity_split（最小不纯净度）也可以调整\n",
    "\n",
    "这里调整max_depth试试"
   ]
  },
  {
   "cell_type": "code",
   "execution_count": 54,
   "metadata": {},
   "outputs": [],
   "source": [
    "from sklearn.tree import DecisionTreeClassifier\n",
    "\n",
    "model_DD = DecisionTreeClassifier()\n",
    "\n",
    "#设置参数搜索grid\n",
    "max_depth = range(5,15,1)\n",
    "#min_samples_leaf = range(1,10,2)\n",
    "tuned_parameters = dict(max_depth=max_depth)"
   ]
  },
  {
   "cell_type": "code",
   "execution_count": 55,
   "metadata": {},
   "outputs": [
    {
     "data": {
      "text/plain": [
       "GridSearchCV(cv=10, error_score='raise',\n",
       "       estimator=DecisionTreeClassifier(class_weight=None, criterion='gini', max_depth=None,\n",
       "            max_features=None, max_leaf_nodes=None,\n",
       "            min_impurity_decrease=0.0, min_impurity_split=None,\n",
       "            min_samples_leaf=1, min_samples_split=2,\n",
       "            min_weight_fraction_leaf=0.0, presort=False, random_state=None,\n",
       "            splitter='best'),\n",
       "       fit_params=None, iid=True, n_jobs=1,\n",
       "       param_grid={'max_depth': range(5, 15)}, pre_dispatch='2*n_jobs',\n",
       "       refit=True, return_train_score='warn', scoring='neg_log_loss',\n",
       "       verbose=0)"
      ]
     },
     "execution_count": 55,
     "metadata": {},
     "output_type": "execute_result"
    }
   ],
   "source": [
    "#GridSearchCV\n",
    "from sklearn.model_selection import GridSearchCV\n",
    "DD = GridSearchCV(model_DD, tuned_parameters, scoring='neg_log_loss', cv=10)\n",
    "DD.fit(X_train, y_train)"
   ]
  },
  {
   "cell_type": "code",
   "execution_count": 56,
   "metadata": {
    "scrolled": true
   },
   "outputs": [
    {
     "name": "stdout",
     "output_type": "stream",
     "text": [
      "Best: 1.152841 using {'max_depth': 10}\n"
     ]
    }
   ],
   "source": [
    "print(\"Best: %f using %s\" % (-DD.best_score_, DD.best_params_)) "
   ]
  },
  {
   "cell_type": "code",
   "execution_count": 57,
   "metadata": {
    "scrolled": true
   },
   "outputs": [
    {
     "data": {
      "image/png": "[encoded data removed]",
      "text/plain": [
       "<Figure size 432x288 with 1 Axes>"
      ]
     },
     "metadata": {
      "needs_background": "light"
     },
     "output_type": "display_data"
    }
   ],
   "source": [
    "test_means = -DD.cv_results_[ 'mean_test_score' ]\n",
    "\n",
    "x_axis = range(5, test_means.shape[0]+5)\n",
    "        \n",
    "pyplot.plot(x_axis, test_means)\n",
    "pyplot.title(\"max_depth vs Log Loss\")\n",
    "pyplot.xlabel( 'max_depth' )\n",
    "pyplot.ylabel( 'Log Loss' )\n",
    "\n",
    "pyplot.show()"
   ]
  },
  {
   "cell_type": "code",
   "execution_count": null,
   "metadata": {
    "scrolled": false
   },
   "outputs": [
    {
     "data": {
      "text/html": [
       "<div>\n",
       "<style scoped>\n",
       "    .dataframe tbody tr th:only-of-type {\n",
       "        vertical-align: middle;\n",
       "    }\n",
       "\n",
       "    .dataframe tbody tr th {\n",
       "        vertical-align: top;\n",
       "    }\n",
       "\n",
       "    .dataframe thead th {\n",
       "        text-align: right;\n",
       "    }\n",
       "</style>\n",
       "<table border=\"1\" class=\"dataframe\">\n",
       "  <thead>\n",
       "    <tr style=\"text-align: right;\">\n",
       "      <th></th>\n",
       "      <th>columns</th>\n",
       "      <th>importance</th>\n",
       "    </tr>\n",
       "  </thead>\n",
       "  <tbody>\n",
       "    <tr>\n",
       "      <th>10</th>\n",
       "      <td>feat_11</td>\n",
       "      <td>0.207353</td>\n",
       "    </tr>\n",
       "    <tr>\n",
       "      <th>59</th>\n",
       "      <td>feat_60</td>\n",
       "      <td>0.161913</td>\n",
       "    </tr>\n",
       "    <tr>\n",
       "      <th>33</th>\n",
       "      <td>feat_34</td>\n",
       "      <td>0.096588</td>\n",
       "    </tr>\n",
       "    <tr>\n",
       "      <th>89</th>\n",
       "      <td>feat_90</td>\n",
       "      <td>0.094994</td>\n",
       "    </tr>\n",
       "    <tr>\n",
       "      <th>13</th>\n",
       "      <td>feat_14</td>\n",
       "      <td>0.064526</td>\n",
       "    </tr>\n",
       "    <tr>\n",
       "      <th>14</th>\n",
       "      <td>feat_15</td>\n",
       "      <td>0.059559</td>\n",
       "    </tr>\n",
       "    <tr>\n",
       "      <th>35</th>\n",
       "      <td>feat_36</td>\n",
       "      <td>0.040157</td>\n",
       "    </tr>\n",
       "    <tr>\n",
       "      <th>38</th>\n",
       "      <td>feat_39</td>\n",
       "      <td>0.033849</td>\n",
       "    </tr>\n",
       "    <tr>\n",
       "      <th>29</th>\n",
       "      <td>feat_30</td>\n",
       "      <td>0.030796</td>\n",
       "    </tr>\n",
       "    <tr>\n",
       "      <th>41</th>\n",
       "      <td>feat_42</td>\n",
       "      <td>0.023899</td>\n",
       "    </tr>\n",
       "    <tr>\n",
       "      <th>85</th>\n",
       "      <td>feat_86</td>\n",
       "      <td>0.020651</td>\n",
       "    </tr>\n",
       "    <tr>\n",
       "      <th>68</th>\n",
       "      <td>feat_69</td>\n",
       "      <td>0.013848</td>\n",
       "    </tr>\n",
       "    <tr>\n",
       "      <th>25</th>\n",
       "      <td>feat_26</td>\n",
       "      <td>0.013719</td>\n",
       "    </tr>\n",
       "    <tr>\n",
       "      <th>47</th>\n",
       "      <td>feat_48</td>\n",
       "      <td>0.012416</td>\n",
       "    </tr>\n",
       "    <tr>\n",
       "      <th>61</th>\n",
       "      <td>feat_62</td>\n",
       "      <td>0.012247</td>\n",
       "    </tr>\n",
       "    <tr>\n",
       "      <th>15</th>\n",
       "      <td>feat_16</td>\n",
       "      <td>0.009734</td>\n",
       "    </tr>\n",
       "    <tr>\n",
       "      <th>7</th>\n",
       "      <td>feat_8</td>\n",
       "      <td>0.009717</td>\n",
       "    </tr>\n",
       "    <tr>\n",
       "      <th>66</th>\n",
       "      <td>feat_67</td>\n",
       "      <td>0.008913</td>\n",
       "    </tr>\n",
       "    <tr>\n",
       "      <th>42</th>\n",
       "      <td>feat_43</td>\n",
       "      <td>0.008525</td>\n",
       "    </tr>\n",
       "    <tr>\n",
       "      <th>31</th>\n",
       "      <td>feat_32</td>\n",
       "      <td>0.007483</td>\n",
       "    </tr>\n",
       "    <tr>\n",
       "      <th>54</th>\n",
       "      <td>feat_55</td>\n",
       "      <td>0.005283</td>\n",
       "    </tr>\n",
       "    <tr>\n",
       "      <th>90</th>\n",
       "      <td>feat_91</td>\n",
       "      <td>0.004678</td>\n",
       "    </tr>\n",
       "    <tr>\n",
       "      <th>46</th>\n",
       "      <td>feat_47</td>\n",
       "      <td>0.004227</td>\n",
       "    </tr>\n",
       "    <tr>\n",
       "      <th>52</th>\n",
       "      <td>feat_53</td>\n",
       "      <td>0.004198</td>\n",
       "    </tr>\n",
       "    <tr>\n",
       "      <th>82</th>\n",
       "      <td>feat_83</td>\n",
       "      <td>0.004041</td>\n",
       "    </tr>\n",
       "    <tr>\n",
       "      <th>24</th>\n",
       "      <td>feat_25</td>\n",
       "      <td>0.004033</td>\n",
       "    </tr>\n",
       "    <tr>\n",
       "      <th>58</th>\n",
       "      <td>feat_59</td>\n",
       "      <td>0.003994</td>\n",
       "    </tr>\n",
       "    <tr>\n",
       "      <th>28</th>\n",
       "      <td>feat_29</td>\n",
       "      <td>0.003127</td>\n",
       "    </tr>\n",
       "    <tr>\n",
       "      <th>77</th>\n",
       "      <td>feat_78</td>\n",
       "      <td>0.002560</td>\n",
       "    </tr>\n",
       "    <tr>\n",
       "      <th>87</th>\n",
       "      <td>feat_88</td>\n",
       "      <td>0.002493</td>\n",
       "    </tr>\n",
       "    <tr>\n",
       "      <th>...</th>\n",
       "      <td>...</td>\n",
       "      <td>...</td>\n",
       "    </tr>\n",
       "    <tr>\n",
       "      <th>76</th>\n",
       "      <td>feat_77</td>\n",
       "      <td>0.000169</td>\n",
       "    </tr>\n",
       "    <tr>\n",
       "      <th>65</th>\n",
       "      <td>feat_66</td>\n",
       "      <td>0.000167</td>\n",
       "    </tr>\n",
       "    <tr>\n",
       "      <th>57</th>\n",
       "      <td>feat_58</td>\n",
       "      <td>0.000155</td>\n",
       "    </tr>\n",
       "    <tr>\n",
       "      <th>21</th>\n",
       "      <td>feat_22</td>\n",
       "      <td>0.000133</td>\n",
       "    </tr>\n",
       "    <tr>\n",
       "      <th>51</th>\n",
       "      <td>feat_52</td>\n",
       "      <td>0.000125</td>\n",
       "    </tr>\n",
       "    <tr>\n",
       "      <th>71</th>\n",
       "      <td>feat_72</td>\n",
       "      <td>0.000124</td>\n",
       "    </tr>\n",
       "    <tr>\n",
       "      <th>70</th>\n",
       "      <td>feat_71</td>\n",
       "      <td>0.000122</td>\n",
       "    </tr>\n",
       "    <tr>\n",
       "      <th>2</th>\n",
       "      <td>feat_3</td>\n",
       "      <td>0.000106</td>\n",
       "    </tr>\n",
       "    <tr>\n",
       "      <th>22</th>\n",
       "      <td>feat_23</td>\n",
       "      <td>0.000106</td>\n",
       "    </tr>\n",
       "    <tr>\n",
       "      <th>5</th>\n",
       "      <td>feat_6</td>\n",
       "      <td>0.000098</td>\n",
       "    </tr>\n",
       "    <tr>\n",
       "      <th>81</th>\n",
       "      <td>feat_82</td>\n",
       "      <td>0.000080</td>\n",
       "    </tr>\n",
       "    <tr>\n",
       "      <th>72</th>\n",
       "      <td>feat_73</td>\n",
       "      <td>0.000077</td>\n",
       "    </tr>\n",
       "    <tr>\n",
       "      <th>11</th>\n",
       "      <td>feat_12</td>\n",
       "      <td>0.000076</td>\n",
       "    </tr>\n",
       "    <tr>\n",
       "      <th>27</th>\n",
       "      <td>feat_28</td>\n",
       "      <td>0.000063</td>\n",
       "    </tr>\n",
       "    <tr>\n",
       "      <th>36</th>\n",
       "      <td>feat_37</td>\n",
       "      <td>0.000042</td>\n",
       "    </tr>\n",
       "    <tr>\n",
       "      <th>83</th>\n",
       "      <td>feat_84</td>\n",
       "      <td>0.000000</td>\n",
       "    </tr>\n",
       "    <tr>\n",
       "      <th>80</th>\n",
       "      <td>feat_81</td>\n",
       "      <td>0.000000</td>\n",
       "    </tr>\n",
       "    <tr>\n",
       "      <th>0</th>\n",
       "      <td>feat_1</td>\n",
       "      <td>0.000000</td>\n",
       "    </tr>\n",
       "    <tr>\n",
       "      <th>78</th>\n",
       "      <td>feat_79</td>\n",
       "      <td>0.000000</td>\n",
       "    </tr>\n",
       "    <tr>\n",
       "      <th>62</th>\n",
       "      <td>feat_63</td>\n",
       "      <td>0.000000</td>\n",
       "    </tr>\n",
       "    <tr>\n",
       "      <th>60</th>\n",
       "      <td>feat_61</td>\n",
       "      <td>0.000000</td>\n",
       "    </tr>\n",
       "    <tr>\n",
       "      <th>50</th>\n",
       "      <td>feat_51</td>\n",
       "      <td>0.000000</td>\n",
       "    </tr>\n",
       "    <tr>\n",
       "      <th>45</th>\n",
       "      <td>feat_46</td>\n",
       "      <td>0.000000</td>\n",
       "    </tr>\n",
       "    <tr>\n",
       "      <th>37</th>\n",
       "      <td>feat_38</td>\n",
       "      <td>0.000000</td>\n",
       "    </tr>\n",
       "    <tr>\n",
       "      <th>32</th>\n",
       "      <td>feat_33</td>\n",
       "      <td>0.000000</td>\n",
       "    </tr>\n",
       "    <tr>\n",
       "      <th>18</th>\n",
       "      <td>feat_19</td>\n",
       "      <td>0.000000</td>\n",
       "    </tr>\n",
       "    <tr>\n",
       "      <th>17</th>\n",
       "      <td>feat_18</td>\n",
       "      <td>0.000000</td>\n",
       "    </tr>\n",
       "    <tr>\n",
       "      <th>9</th>\n",
       "      <td>feat_10</td>\n",
       "      <td>0.000000</td>\n",
       "    </tr>\n",
       "    <tr>\n",
       "      <th>6</th>\n",
       "      <td>feat_7</td>\n",
       "      <td>0.000000</td>\n",
       "    </tr>\n",
       "    <tr>\n",
       "      <th>92</th>\n",
       "      <td>feat_93</td>\n",
       "      <td>0.000000</td>\n",
       "    </tr>\n",
       "  </tbody>\n",
       "</table>\n",
       "<p>93 rows × 2 columns</p>\n",
       "</div>"
      ],
      "text/plain": [
       "    columns  importance\n",
       "10  feat_11    0.207353\n",
       "59  feat_60    0.161913\n",
       "33  feat_34    0.096588\n",
       "89  feat_90    0.094994\n",
       "13  feat_14    0.064526\n",
       "14  feat_15    0.059559\n",
       "35  feat_36    0.040157\n",
       "38  feat_39    0.033849\n",
       "29  feat_30    0.030796\n",
       "41  feat_42    0.023899\n",
       "85  feat_86    0.020651\n",
       "68  feat_69    0.013848\n",
       "25  feat_26    0.013719\n",
       "47  feat_48    0.012416\n",
       "61  feat_62    0.012247\n",
       "15  feat_16    0.009734\n",
       "7    feat_8    0.009717\n",
       "66  feat_67    0.008913\n",
       "42  feat_43    0.008525\n",
       "31  feat_32    0.007483\n",
       "54  feat_55    0.005283\n",
       "90  feat_91    0.004678\n",
       "46  feat_47    0.004227\n",
       "52  feat_53    0.004198\n",
       "82  feat_83    0.004041\n",
       "24  feat_25    0.004033\n",
       "58  feat_59    0.003994\n",
       "28  feat_29    0.003127\n",
       "77  feat_78    0.002560\n",
       "87  feat_88    0.002493\n",
       "..      ...         ...\n",
       "76  feat_77    0.000169\n",
       "65  feat_66    0.000167\n",
       "57  feat_58    0.000155\n",
       "21  feat_22    0.000133\n",
       "51  feat_52    0.000125\n",
       "71  feat_72    0.000124\n",
       "70  feat_71    0.000122\n",
       "2    feat_3    0.000106\n",
       "22  feat_23    0.000106\n",
       "5    feat_6    0.000098\n",
       "81  feat_82    0.000080\n",
       "72  feat_73    0.000077\n",
       "11  feat_12    0.000076\n",
       "27  feat_28    0.000063\n",
       "36  feat_37    0.000042\n",
       "83  feat_84    0.000000\n",
       "80  feat_81    0.000000\n",
       "0    feat_1    0.000000\n",
       "78  feat_79    0.000000\n",
       "62  feat_63    0.000000\n",
       "60  feat_61    0.000000\n",
       "50  feat_51    0.000000\n",
       "45  feat_46    0.000000\n",
       "37  feat_38    0.000000\n",
       "32  feat_33    0.000000\n",
       "18  feat_19    0.000000\n",
       "17  feat_18    0.000000\n",
       "9   feat_10    0.000000\n",
       "6    feat_7    0.000000\n",
       "92  feat_93    0.000000\n",
       "\n",
       "[93 rows x 2 columns]"
      ]
     },
     "execution_count": 58,
     "metadata": {},
     "output_type": "execute_result"
    }
   ],
   "source": [
    "# 看看特征重要性\n",
    "df = pd.DataFrame({\"columns\":list(columns), \"importance\":list(DD.best_estimator_.feature_importances_.T)})\n",
    "df.sort_values(by=['importance'],ascending=False)"
   ]
  },
  {
   "cell_type": "markdown",
   "metadata": {},
   "source": [
    "## 做下特征选择看看"
   ]
  },
  {
   "cell_type": "code",
   "execution_count": null,
   "metadata": {},
   "outputs": [
    {
     "data": {
      "text/plain": [
       "(61878, 15)"
      ]
     },
     "execution_count": 59,
     "metadata": {},
     "output_type": "execute_result"
    }
   ],
   "source": [
    "from sklearn.feature_selection import SelectFromModel\n",
    "model = SelectFromModel(DD.best_estimator_, prefit=True)\n",
    "X_Train_new = model.transform(X_train)\n",
    "X_Train_new.shape               "
   ]
  },
  {
   "cell_type": "markdown",
   "metadata": {},
   "source": [
    "## 用选择的特征，CV选择的max_depth参数，再次训练模型"
   ]
  },
  {
   "cell_type": "code",
   "execution_count": null,
   "metadata": {
    "scrolled": false
   },
   "outputs": [
    {
     "name": "stdout",
     "output_type": "stream",
     "text": [
      "logloss of each fold is:  [1.11137057 1.1940186  1.19205101 1.19959388 1.21424224 1.19544046\n",
      " 1.20219343 1.14886683 1.17956698 1.11508118]\n",
      "cv logloss is: 1.175242518096979\n"
     ]
    }
   ],
   "source": [
    "model_tuned_tree = DecisionTreeClassifier(max_depth= DD.best_params_['max_depth'])\n",
    "\n",
    "#model_tuned_tree.fit(X_Train_new, y_train)\n",
    "from sklearn.cross_validation import cross_val_score\n",
    "loss = cross_val_score(model_tuned_tree, X_Train_new, y_train, cv=10, scoring='neg_log_loss')\n",
    "print('logloss of each fold is: ',-loss)\n",
    "print('cv logloss is:', -loss.mean())"
   ]
  },
  {
   "cell_type": "markdown",
   "metadata": {},
   "source": [
    "这比用全部特征得到的1.148384大了好多，特征剔除得太多了"
   ]
  },
  {
   "cell_type": "code",
   "execution_count": null,
   "metadata": {},
   "outputs": [
    {
     "data": {
      "text/plain": [
       "(61878, 77)"
      ]
     },
     "execution_count": 61,
     "metadata": {},
     "output_type": "execute_result"
    }
   ],
   "source": [
    "# 少剔除一些看看\n",
    "from sklearn.feature_selection import SelectFromModel\n",
    "model = SelectFromModel(DD.best_estimator_, threshold = 0.000042, prefit=True)\n",
    "X_Train_new = model.transform(X_train)\n",
    "X_Train_new.shape               "
   ]
  },
  {
   "cell_type": "code",
   "execution_count": null,
   "metadata": {
    "scrolled": true
   },
   "outputs": [
    {
     "name": "stdout",
     "output_type": "stream",
     "text": [
      "logloss of each fold is:  [1.09796264 1.16614614 1.16236813 1.18083534 1.17263245 1.13404435\n",
      " 1.19080573 1.11005165 1.1369748  1.11565652]\n",
      "cv logloss is: 1.1467477759939162\n"
     ]
    }
   ],
   "source": [
    "model_tuned_tree = DecisionTreeClassifier(max_depth= DD.best_params_['max_depth'])\n",
    "\n",
    "#model_tuned_tree.fit(X_Train_new, y_train)\n",
    "from sklearn.cross_validation import cross_val_score\n",
    "loss = cross_val_score(model_tuned_tree, X_Train_new, y_train, cv=10, scoring='neg_log_loss')\n",
    "print ('logloss of each fold is: ',-loss)\n",
    "print('cv logloss is:', -loss.mean())"
   ]
  },
  {
   "cell_type": "markdown",
   "metadata": {
    "collapsed": true
   },
   "source": [
    "结果好像好了一丢丢，特征少点更好。。。"
   ]
  },
  {
   "cell_type": "markdown",
   "metadata": {},
   "source": [
    "### 还是写一个自动监控程序看看\n",
    "\n",
    "决策树运行快，所以在这示意监控过程。Random Forest部分大家可以参照写一个，不过得对训练时间有足够的心理准备。"
   ]
  },
  {
   "cell_type": "code",
   "execution_count": null,
   "metadata": {},
   "outputs": [],
   "source": [
    "import time\n",
    "# 一个threshold对应的特征选择，及相应的模型训练和测试，得到该参数下模型在校验集上的预测性能\n",
    "def one_feature_selection(threshold, X_train, y_train):\n",
    "    start = time.time()\n",
    "    \n",
    "    print(\"threshold: {}\".format(threshold))\n",
    "    model = SelectFromModel(DD.best_estimator_, threshold = threshold, prefit=True)\n",
    "    X_Train_new = model.transform(X_train)\n",
    "    print(X_Train_new.shape)   \n",
    "\n",
    "    # 在训练集和测试集降维 \n",
    "    DD.best_estimator_.get_params()\n",
    "    model_tuned_tree = DecisionTreeClassifier(max_depth = DD.best_estimator_.get_params()['max_depth'] )\n",
    "\n",
    "    loss = cross_val_score(model_tuned_tree, X_Train_new, y_train, cv=10, scoring='neg_log_loss')\n",
    "    cvloss = -loss.mean()\n",
    "    \n",
    "    end = time.time()\n",
    "    print(\"cvloss: {}\".format(cvloss.mean()))\n",
    "    return cvloss"
   ]
  },
  {
   "cell_type": "code",
   "execution_count": null,
   "metadata": {
    "scrolled": true
   },
   "outputs": [
    {
     "name": "stdout",
     "output_type": "stream",
     "text": [
      "threshold: 0.09499385807114194\n",
      "(61878, 4)\n",
      "cvloss: 1.516422573122862\n",
      "threshold: 0.020651033312055474\n",
      "(61878, 11)\n",
      "cvloss: 1.213970900708919\n",
      "threshold: 7.958243162528716e-05\n",
      "(61878, 74)\n",
      "cvloss: 1.1471316214349119\n",
      "threshold: 0.0025599216128586364\n",
      "(61878, 29)\n",
      "cvloss: 1.1680918599376502\n",
      "threshold: 0.0004274979409779415\n",
      "(61878, 53)\n",
      "cvloss: 1.146981861763632\n",
      "threshold: 0.0011449379882482505\n",
      "(61878, 38)\n",
      "cvloss: 1.1614234505597303\n",
      "threshold: 0.0001674885359460762\n",
      "(61878, 65)\n",
      "cvloss: 1.1451524504518837\n",
      "threshold: 0.012246832435062312\n",
      "(61878, 15)\n",
      "cvloss: 1.173597574295417\n",
      "threshold: 0.00015522661033167589\n",
      "(61878, 66)\n",
      "cvloss: 1.1462801691388456\n",
      "threshold: 0.0007161483401173315\n",
      "(61878, 46)\n",
      "cvloss: 1.1508438206486926\n",
      "threshold: 0.0009176478728178978\n",
      "(61878, 40)\n",
      "cvloss: 1.1545307417961816\n",
      "threshold: 0.0\n",
      "(61878, 93)\n",
      "cvloss: 1.1532329385548201\n",
      "threshold: 0.023898571454404573\n",
      "(61878, 10)\n",
      "cvloss: 1.204637920529874\n",
      "threshold: 0.0\n",
      "(61878, 93)\n",
      "cvloss: 1.1538022872113516\n",
      "threshold: 0.09658812612060114\n",
      "(61878, 3)\n",
      "cvloss: 1.574447914064534\n",
      "threshold: 0.030795842949278587\n",
      "(61878, 9)\n",
      "cvloss: 1.24441084286507\n",
      "threshold: 0.013719051654198658\n",
      "(61878, 13)\n",
      "cvloss: 1.1974873481688615\n",
      "threshold: 0.00013299830409940256\n",
      "(61878, 67)\n",
      "cvloss: 1.139552408868851\n",
      "threshold: 0.0\n",
      "(61878, 93)\n",
      "cvloss: 1.151583705058495\n"
     ]
    }
   ],
   "source": [
    "# 设置threshold搜索范围\n",
    "# 每次去掉最不重要的5%\n",
    "cols = df.shape[0] #总的特征数目\n",
    "step = int(cols*0.05)\n",
    "\n",
    "threshold_s = np.zeros(20)\n",
    "losses = []\n",
    "for i in range(1,20,1):\n",
    "    threshold_s[i-1] = df.importance[cols - i*step]\n",
    "    #排序好像不起作用，取不到特征阈值，再好好看看。。。\n",
    "    tmp = one_feature_selection(threshold_s[i-1],  X_train, y_train)\n",
    "    losses.append(tmp)"
   ]
  },
  {
   "cell_type": "markdown",
   "metadata": {},
   "source": [
    "# Random Forest"
   ]
  },
  {
   "cell_type": "markdown",
   "metadata": {},
   "source": [
    "随机森林可调整的超参数（除了和决策树相同的参数）：n_estimators（弱学习器的数目）\n",
    "所以下面一起调整树的max_depth和n_estimators"
   ]
  },
  {
   "cell_type": "code",
   "execution_count": null,
   "metadata": {},
   "outputs": [],
   "source": [
    "from sklearn.ensemble import RandomForestClassifier\n",
    "\n",
    "model_RR=RandomForestClassifier()\n",
    "\n",
    "#设置参数搜索grid\n",
    "max_depth = range(10,30,2)\n",
    "n_estimators = range(10,20,2)\n",
    "tuned_parameters = dict(max_depth=max_depth, n_estimators = n_estimators)"
   ]
  },
  {
   "cell_type": "code",
   "execution_count": null,
   "metadata": {},
   "outputs": [
    {
     "data": {
      "text/plain": [
       "GridSearchCV(cv=10, error_score='raise',\n",
       "       estimator=RandomForestClassifier(bootstrap=True, class_weight=None, criterion='gini',\n",
       "            max_depth=None, max_features='auto', max_leaf_nodes=None,\n",
       "            min_impurity_decrease=0.0, min_impurity_split=None,\n",
       "            min_samples_leaf=1, min_samples_split=2,\n",
       "            min_weight_fraction_leaf=0.0, n_estimators=10, n_jobs=1,\n",
       "            oob_score=False, random_state=None, verbose=0,\n",
       "            warm_start=False),\n",
       "       fit_params=None, iid=True, n_jobs=1,\n",
       "       param_grid={'max_depth': range(10, 30, 2), 'n_estimators': range(10, 20, 2)},\n",
       "       pre_dispatch='2*n_jobs', refit=True, return_train_score='warn',\n",
       "       scoring='neg_log_loss', verbose=0)"
      ]
     },
     "execution_count": 66,
     "metadata": {},
     "output_type": "execute_result"
    }
   ],
   "source": [
    "from sklearn.model_selection import GridSearchCV\n",
    "RR = GridSearchCV(model_RR, tuned_parameters, scoring='neg_log_loss', cv=10)\n",
    "RR.fit(X_train,y_train)"
   ]
  },
  {
   "cell_type": "code",
   "execution_count": null,
   "metadata": {
    "scrolled": true
   },
   "outputs": [
    {
     "name": "stdout",
     "output_type": "stream",
     "text": [
      "Best: 0.662158 using {'max_depth': 24, 'n_estimators': 18}\n"
     ]
    }
   ],
   "source": [
    "print(\"Best: %f using %s\" % (-RR.best_score_, RR.best_params_)) "
   ]
  },
  {
   "cell_type": "markdown",
   "metadata": {},
   "source": [
    "性能比一棵树好多了，还是森林好！"
   ]
  },
  {
   "cell_type": "code",
   "execution_count": null,
   "metadata": {},
   "outputs": [
    {
     "name": "stderr",
     "output_type": "stream",
     "text": [
      "/usr/local/python36/lib/python3.6/site-packages/sklearn/model_selection/_search.py:762: DeprecationWarning: The grid_scores_ attribute was deprecated in version 0.18 in favor of the more elaborate cv_results_ attribute. The grid_scores_ attribute will not be available from 0.20\n",
      "  DeprecationWarning)\n"
     ]
    },
    {
     "data": {
      "text/plain": [
       "[mean: -0.97644, std: 0.01096, params: {'max_depth': 10, 'n_estimators': 10},\n",
       " mean: -0.97493, std: 0.00912, params: {'max_depth': 10, 'n_estimators': 12},\n",
       " mean: -0.97008, std: 0.00854, params: {'max_depth': 10, 'n_estimators': 14},\n",
       " mean: -0.96445, std: 0.00835, params: {'max_depth': 10, 'n_estimators': 16},\n",
       " mean: -0.96782, std: 0.00299, params: {'max_depth': 10, 'n_estimators': 18},\n",
       " mean: -0.89282, std: 0.01621, params: {'max_depth': 12, 'n_estimators': 10},\n",
       " mean: -0.88700, std: 0.00882, params: {'max_depth': 12, 'n_estimators': 12},\n",
       " mean: -0.88315, std: 0.00909, params: {'max_depth': 12, 'n_estimators': 14},\n",
       " mean: -0.88079, std: 0.00756, params: {'max_depth': 12, 'n_estimators': 16},\n",
       " mean: -0.87959, std: 0.01031, params: {'max_depth': 12, 'n_estimators': 18},\n",
       " mean: -0.82184, std: 0.01173, params: {'max_depth': 14, 'n_estimators': 10},\n",
       " mean: -0.81726, std: 0.00698, params: {'max_depth': 14, 'n_estimators': 12},\n",
       " mean: -0.81283, std: 0.01223, params: {'max_depth': 14, 'n_estimators': 14},\n",
       " mean: -0.81325, std: 0.00782, params: {'max_depth': 14, 'n_estimators': 16},\n",
       " mean: -0.81338, std: 0.00623, params: {'max_depth': 14, 'n_estimators': 18},\n",
       " mean: -0.77195, std: 0.01269, params: {'max_depth': 16, 'n_estimators': 10},\n",
       " mean: -0.76707, std: 0.01366, params: {'max_depth': 16, 'n_estimators': 12},\n",
       " mean: -0.76242, std: 0.00631, params: {'max_depth': 16, 'n_estimators': 14},\n",
       " mean: -0.75915, std: 0.01097, params: {'max_depth': 16, 'n_estimators': 16},\n",
       " mean: -0.75783, std: 0.00643, params: {'max_depth': 16, 'n_estimators': 18},\n",
       " mean: -0.73813, std: 0.01455, params: {'max_depth': 18, 'n_estimators': 10},\n",
       " mean: -0.73287, std: 0.00702, params: {'max_depth': 18, 'n_estimators': 12},\n",
       " mean: -0.72573, std: 0.00978, params: {'max_depth': 18, 'n_estimators': 14},\n",
       " mean: -0.72126, std: 0.00720, params: {'max_depth': 18, 'n_estimators': 16},\n",
       " mean: -0.71816, std: 0.01242, params: {'max_depth': 18, 'n_estimators': 18},\n",
       " mean: -0.72801, std: 0.01583, params: {'max_depth': 20, 'n_estimators': 10},\n",
       " mean: -0.71680, std: 0.01814, params: {'max_depth': 20, 'n_estimators': 12},\n",
       " mean: -0.70376, std: 0.00910, params: {'max_depth': 20, 'n_estimators': 14},\n",
       " mean: -0.69131, std: 0.01128, params: {'max_depth': 20, 'n_estimators': 16},\n",
       " mean: -0.68344, std: 0.01031, params: {'max_depth': 20, 'n_estimators': 18},\n",
       " mean: -0.73773, std: 0.02667, params: {'max_depth': 22, 'n_estimators': 10},\n",
       " mean: -0.70093, std: 0.01471, params: {'max_depth': 22, 'n_estimators': 12},\n",
       " mean: -0.68827, std: 0.01531, params: {'max_depth': 22, 'n_estimators': 14},\n",
       " mean: -0.68275, std: 0.01114, params: {'max_depth': 22, 'n_estimators': 16},\n",
       " mean: -0.67086, std: 0.01129, params: {'max_depth': 22, 'n_estimators': 18},\n",
       " mean: -0.74969, std: 0.02471, params: {'max_depth': 24, 'n_estimators': 10},\n",
       " mean: -0.71114, std: 0.01979, params: {'max_depth': 24, 'n_estimators': 12},\n",
       " mean: -0.69277, std: 0.02463, params: {'max_depth': 24, 'n_estimators': 14},\n",
       " mean: -0.67648, std: 0.01272, params: {'max_depth': 24, 'n_estimators': 16},\n",
       " mean: -0.66216, std: 0.01228, params: {'max_depth': 24, 'n_estimators': 18},\n",
       " mean: -0.79149, std: 0.03112, params: {'max_depth': 26, 'n_estimators': 10},\n",
       " mean: -0.73659, std: 0.02059, params: {'max_depth': 26, 'n_estimators': 12},\n",
       " mean: -0.70571, std: 0.02535, params: {'max_depth': 26, 'n_estimators': 14},\n",
       " mean: -0.68214, std: 0.01806, params: {'max_depth': 26, 'n_estimators': 16},\n",
       " mean: -0.66301, std: 0.02411, params: {'max_depth': 26, 'n_estimators': 18},\n",
       " mean: -0.86739, std: 0.04371, params: {'max_depth': 28, 'n_estimators': 10},\n",
       " mean: -0.77345, std: 0.03089, params: {'max_depth': 28, 'n_estimators': 12},\n",
       " mean: -0.73375, std: 0.02707, params: {'max_depth': 28, 'n_estimators': 14},\n",
       " mean: -0.70301, std: 0.02386, params: {'max_depth': 28, 'n_estimators': 16},\n",
       " mean: -0.67914, std: 0.02141, params: {'max_depth': 28, 'n_estimators': 18}]"
      ]
     },
     "execution_count": 68,
     "metadata": {},
     "output_type": "execute_result"
    }
   ],
   "source": [
    "RR.grid_scores_"
   ]
  },
  {
   "cell_type": "code",
   "execution_count": null,
   "metadata": {
    "scrolled": true
   },
   "outputs": [
    {
     "data": {
      "image/png": "[encoded data removed]",
      "text/plain": [
       "<Figure size 432x288 with 1 Axes>"
      ]
     },
     "metadata": {
      "needs_background": "light"
     },
     "output_type": "display_data"
    }
   ],
   "source": [
    "test_means = -RR.cv_results_[ 'mean_test_score' ]\n",
    "\n",
    "# plot results\n",
    "test_scores = np.array(test_means).reshape(len(max_depth), len(n_estimators))\n",
    "x_axis = n_estimators\n",
    "for i, value in enumerate(max_depth):\n",
    "    pyplot.plot(n_estimators, test_scores[i], label= 'max_depth:'   + str(value))\n",
    "\n",
    "pyplot.legend()\n",
    "pyplot.xlabel( 'n_estimators' )                                                                                                      \n",
    "pyplot.ylabel( 'logloss' )\n",
    "pyplot.show()"
   ]
  },
  {
   "cell_type": "markdown",
   "metadata": {},
   "source": [
    "最佳的n_estimators在我们参数搜索范围的边界，我们还需要进一步扩大n_estimators的搜索范围，继续寻找\n",
    "并且max_depth在20以前是下降明显（不管对多少的n_estimators）\n",
    "\n",
    "GBDT是递归，所以树的深度不要太大，n_estimators可以多\n",
    "随机森林还是需要每棵树深一些"
   ]
  },
  {
   "cell_type": "code",
   "execution_count": null,
   "metadata": {},
   "outputs": [],
   "source": [
    "from sklearn.ensemble import RandomForestClassifier\n",
    "\n",
    "model_RR=RandomForestClassifier()\n",
    "\n",
    "#设置参数搜索grid\n",
    "max_depth = range(20,30,2)\n",
    "n_estimators = range(20,100,10)\n",
    "tuned_parameters = dict(max_depth=max_depth, n_estimators = n_estimators)"
   ]
  },
  {
   "cell_type": "markdown",
   "metadata": {},
   "source": [
    "可以先去睡觉...\n",
    "随着树的深度和数目的增加，训练时间越来越长\n",
    "可以考虑不用交叉验证，而是train_test_split(尤其是计算资源不够的情况下，之前给过SVM核参数调优的时候给个示例代码，大家可以参考)"
   ]
  },
  {
   "cell_type": "code",
   "execution_count": null,
   "metadata": {
    "scrolled": true
   },
   "outputs": [],
   "source": [
    "from sklearn.model_selection import GridSearchCV\n",
    "RR = GridSearchCV(model_RR, tuned_parameters, scoring='neg_log_loss', cv=10)\n",
    "RR.fit(X_train,y_train)"
   ]
  },
  {
   "cell_type": "code",
   "execution_count": null,
   "metadata": {
    "scrolled": false
   },
   "outputs": [],
   "source": [
    "print(\"Best: %f using %s\" % (-RR.best_score_, RR.best_params_)) "
   ]
  },
  {
   "cell_type": "code",
   "execution_count": null,
   "metadata": {
    "scrolled": true
   },
   "outputs": [],
   "source": [
    "test_means = -RR.cv_results_[ 'mean_test_score' ]\n",
    "\n",
    "# plot results\n",
    "test_scores = np.array(test_means).reshape(len(max_depth), len(n_estimators))\n",
    "x_axis = n_estimators\n",
    "for i, value in enumerate(max_depth):\n",
    "    pyplot.plot(n_estimators, test_scores[i], label= 'max_depth:'   + str(value))\n",
    "\n",
    "pyplot.legend()\n",
    "pyplot.xlabel( 'n_estimators' )                                                                                                      \n",
    "pyplot.ylabel( 'logloss' )\n",
    "pyplot.show()"
   ]
  },
  {
   "cell_type": "markdown",
   "metadata": {},
   "source": [
    "看来模型还是太简单，大家请继续调整参数，继续增加模型复杂度。。。"
   ]
  },
  {
   "cell_type": "markdown",
   "metadata": {},
   "source": [
    "## 请自行补充根据特征重要性选择特征\n",
    "可以设置threshold的搜索范围，然后用CV监控模型性能，从而确定合适的特征数目"
   ]
  },
  {
   "cell_type": "markdown",
   "metadata": {},
   "source": [
    "# 生产测试结果\n",
    "假设模型已经训练好了，利用训练好的模型在测试样本上机械能测试，"
   ]
  },
  {
   "cell_type": "code",
   "execution_count": null,
   "metadata": {},
   "outputs": [],
   "source": [
    "# Create submission\n",
    "test = pd.read_csv(dpath +\"Otto_test.csv\")\n",
    "\n",
    "#准备好测试数据\n",
    "ids = test[\"id\"]\n",
    "test = train.drop([\"id\"], axis=1)\n",
    "\n",
    "#数据预处理\n",
    "X_test = np.array(test)\n",
    "X_test = ss_X.transform(X_test)\n",
    "\n",
    "#测试\n",
    "y_pred = RR.predict_proba(X_test)\n",
    "\n",
    "submission = pd.DataFrame({ \"id\": ids})\n",
    "\n",
    "i = 0\n",
    "# Create column name based on target values(see sample_submission.csv)\n",
    "for num in range_of_classes:\n",
    "    col_name = str(\"Class_{}\".format(num))\n",
    "    submission[col_name] = y_pred[:,i]\n",
    "    i = i + 1\n",
    "    \n",
    "submission.to_csv('test_Result_otto.csv', index=False)"
   ]
  },
  {
   "cell_type": "code",
   "execution_count": null,
   "metadata": {},
   "outputs": [],
   "source": []
  }
 ],
 "metadata": {
  "kernelspec": {
   "display_name": "Python 3",
   "language": "python",
   "name": "python3"
  },
  "language_info": {
   "codemirror_mode": {
    "name": "ipython",
    "version": 3
   },
   "file_extension": ".py",
   "mimetype": "text/x-python",
   "name": "python",
   "nbconvert_exporter": "python",
   "pygments_lexer": "ipython3",
   "version": "3.6.4"
  }
 },
 "nbformat": 4,
 "nbformat_minor": 2
}

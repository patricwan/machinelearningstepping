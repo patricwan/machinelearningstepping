{
 "cells": [
  {
   "cell_type": "markdown",
   "metadata": {},
   "source": [
    "# XGBoost Parameter Tuning for Otto Dataset"
   ]
  },
  {
   "cell_type": "markdown",
   "metadata": {},
   "source": [
    "我们以Kaggle 2015年举办的Otto Group Product Classification Challenge竞赛数据为例，进行XGBoost参数调优探索。\n",
    "\n",
    "竞赛官网：https://www.kaggle.com/c/otto-group-product-classification-challenge/data"
   ]
  },
  {
   "cell_type": "markdown",
   "metadata": {},
   "source": [
    "# 第四步：调整树的参数：subsample 和 colsample_bytree\n",
    "(粗调，参数的步长为0.1；下一步是在粗调最佳参数周围，将步长降为0.05，进行精细调整)"
   ]
  },
  {
   "cell_type": "markdown",
   "metadata": {},
   "source": [
    "首先 import 必要的模块"
   ]
  },
  {
   "cell_type": "code",
   "execution_count": 1,
   "metadata": {},
   "outputs": [],
   "source": [
    "from xgboost import XGBClassifier\n",
    "import xgboost as xgb\n",
    "\n",
    "import pandas as pd \n",
    "import numpy as np\n",
    "\n",
    "from sklearn.model_selection import GridSearchCV\n",
    "from sklearn.model_selection import StratifiedKFold\n",
    "\n",
    "from sklearn.metrics import log_loss\n",
    "\n",
    "from matplotlib import pyplot\n",
    "import seaborn as sns\n",
    "%matplotlib inline"
   ]
  },
  {
   "cell_type": "markdown",
   "metadata": {},
   "source": [
    "## 读取数据"
   ]
  },
  {
   "cell_type": "code",
   "execution_count": 2,
   "metadata": {
    "scrolled": true
   },
   "outputs": [],
   "source": [
    "# path to where the data lies\n",
    "dpath = '../data/'\n",
    "train = pd.read_csv(dpath +\"Otto_train.csv\")\n",
    "#train.head()"
   ]
  },
  {
   "cell_type": "markdown",
   "metadata": {},
   "source": [
    "## Variable Identification"
   ]
  },
  {
   "cell_type": "markdown",
   "metadata": {},
   "source": [
    "选择该数据集是因为的数据特征单一，我们可以在特征工程方面少做些工作，集中精力放在参数调优上"
   ]
  },
  {
   "cell_type": "markdown",
   "metadata": {},
   "source": [
    "## Target 分布，看看各类样本分布是否均衡"
   ]
  },
  {
   "cell_type": "code",
   "execution_count": 3,
   "metadata": {
    "scrolled": false
   },
   "outputs": [],
   "source": [
    "#sns.countplot(train.target);\n",
    "#pyplot.xlabel('target');\n",
    "#pyplot.ylabel('Number of occurrences');"
   ]
  },
  {
   "cell_type": "markdown",
   "metadata": {},
   "source": [
    "每类样本分布不是很均匀，所以交叉验证时也考虑各类样本按比例抽取"
   ]
  },
  {
   "cell_type": "code",
   "execution_count": 4,
   "metadata": {},
   "outputs": [],
   "source": [
    "# drop ids and get labels\n",
    "y_train = train['target']\n",
    "y_train = y_train.map(lambda s: s[6:])\n",
    "y_train = y_train.map(lambda s: int(s)-1)\n",
    "\n",
    "train = train.drop([\"id\", \"target\"], axis=1)\n",
    "X_train = np.array(train)"
   ]
  },
  {
   "cell_type": "markdown",
   "metadata": {},
   "source": [
    "各类样本不均衡，交叉验证是采用StratifiedKFold，在每折采样时各类样本按比例采样"
   ]
  },
  {
   "cell_type": "code",
   "execution_count": 5,
   "metadata": {},
   "outputs": [],
   "source": [
    "# prepare cross validation\n",
    "kfold = StratifiedKFold(n_splits=5, shuffle=True, random_state=3)"
   ]
  },
  {
   "cell_type": "markdown",
   "metadata": {},
   "source": [
    "第二轮参数调整得到的n_estimators最优值（645），其余参数继续默认值"
   ]
  },
  {
   "cell_type": "markdown",
   "metadata": {},
   "source": [
    "用交叉验证评价模型性能时，用scoring参数定义评价指标。评价指标是越高越好，因此用一些损失函数当评价指标时，需要再加负号，如neg_log_loss，neg_mean_squared_error 详见sklearn文档：http://scikit-learn.org/stable/modules/model_evaluation.html#log-loss"
   ]
  },
  {
   "cell_type": "code",
   "execution_count": 6,
   "metadata": {
    "scrolled": true
   },
   "outputs": [
    {
     "data": {
      "text/plain": [
       "{'subsample': [0.3, 0.4, 0.5, 0.6, 0.7, 0.8],\n",
       " 'colsample_bytree': [0.6, 0.7, 0.8, 0.9]}"
      ]
     },
     "execution_count": 6,
     "metadata": {},
     "output_type": "execute_result"
    }
   ],
   "source": [
    "#max_depth 建议3-10， min_child_weight=1／sqrt(ratio_rare_event) =5.5\n",
    "subsample = [i/10.0 for i in range(3,9)]\n",
    "colsample_bytree = [i/10.0 for i in range(6,10)]\n",
    "param_test3_1 = dict(subsample=subsample, colsample_bytree=colsample_bytree)\n",
    "param_test3_1\n"
   ]
  },
  {
   "cell_type": "code",
   "execution_count": 7,
   "metadata": {
    "scrolled": true
   },
   "outputs": [
    {
     "name": "stdout",
     "output_type": "stream",
     "text": [
      "-0.46129990757155775\n",
      "{'colsample_bytree': 0.7, 'subsample': 0.8}\n"
     ]
    }
   ],
   "source": [
    "xgb3_1 = XGBClassifier(\n",
    "        learning_rate =0.1,\n",
    "        n_estimators=645,  #第二轮参数调整得到的n_estimators最优值\n",
    "        max_depth=6,\n",
    "        min_child_weight=4,\n",
    "        gamma=0,\n",
    "        subsample=0.3,\n",
    "        colsample_bytree=0.8,\n",
    "        colsample_bylevel = 0.7,\n",
    "        objective= 'multi:softprob',\n",
    "        seed=3)\n",
    "\n",
    "\n",
    "gsearch3_1 = GridSearchCV(xgb3_1, param_grid = param_test3_1, scoring='neg_log_loss',n_jobs=-1, cv=kfold)\n",
    "gsearch3_1.fit(X_train , y_train)\n",
    "\n",
    "#gsearch3_1.grid_scores_, gsearch3_1.best_params_,     gsearch3_1.best_score_\n",
    "print(gsearch3_1.best_score_)\n",
    "print(gsearch3_1.best_params_)"
   ]
  },
  {
   "cell_type": "code",
   "execution_count": 8,
   "metadata": {
    "scrolled": true
   },
   "outputs": [
    {
     "name": "stderr",
     "output_type": "stream",
     "text": [
      "/usr/local/python3/lib/python3.6/site-packages/sklearn/utils/deprecation.py:125: FutureWarning: You are accessing a training score ('split0_train_score'), which will not be available by default any more in 0.21. If you need training scores, please set return_train_score=True\n",
      "  warnings.warn(*warn_args, **warn_kwargs)\n",
      "/usr/local/python3/lib/python3.6/site-packages/sklearn/utils/deprecation.py:125: FutureWarning: You are accessing a training score ('split1_train_score'), which will not be available by default any more in 0.21. If you need training scores, please set return_train_score=True\n",
      "  warnings.warn(*warn_args, **warn_kwargs)\n",
      "/usr/local/python3/lib/python3.6/site-packages/sklearn/utils/deprecation.py:125: FutureWarning: You are accessing a training score ('split2_train_score'), which will not be available by default any more in 0.21. If you need training scores, please set return_train_score=True\n",
      "  warnings.warn(*warn_args, **warn_kwargs)\n",
      "/usr/local/python3/lib/python3.6/site-packages/sklearn/utils/deprecation.py:125: FutureWarning: You are accessing a training score ('split3_train_score'), which will not be available by default any more in 0.21. If you need training scores, please set return_train_score=True\n",
      "  warnings.warn(*warn_args, **warn_kwargs)\n",
      "/usr/local/python3/lib/python3.6/site-packages/sklearn/utils/deprecation.py:125: FutureWarning: You are accessing a training score ('split4_train_score'), which will not be available by default any more in 0.21. If you need training scores, please set return_train_score=True\n",
      "  warnings.warn(*warn_args, **warn_kwargs)\n",
      "/usr/local/python3/lib/python3.6/site-packages/sklearn/utils/deprecation.py:125: FutureWarning: You are accessing a training score ('mean_train_score'), which will not be available by default any more in 0.21. If you need training scores, please set return_train_score=True\n",
      "  warnings.warn(*warn_args, **warn_kwargs)\n",
      "/usr/local/python3/lib/python3.6/site-packages/sklearn/utils/deprecation.py:125: FutureWarning: You are accessing a training score ('std_train_score'), which will not be available by default any more in 0.21. If you need training scores, please set return_train_score=True\n",
      "  warnings.warn(*warn_args, **warn_kwargs)\n"
     ]
    },
    {
     "data": {
      "text/plain": [
       "{'mean_fit_time': array([ 830.11043005,  908.0089396 ,  950.58190622,  940.07517715,\n",
       "         912.78020487,  877.04412274,  942.84556298, 1037.86577163,\n",
       "        1084.88337135, 1078.2335084 , 1038.45164399, 1000.47288499,\n",
       "        1043.14171343, 1143.62454729, 1204.86500139, 1191.98353534,\n",
       "        1147.00330596, 1105.38847313, 1160.31993208, 1269.39065471,\n",
       "        1333.37251072, 1319.43210216, 1269.64003658, 1187.65086679]),\n",
       " 'std_fit_time': array([ 1.77248184,  3.25921076,  2.49211223,  6.05623582,  3.20309203,\n",
       "         3.06177496,  3.94601071,  5.18875738,  6.95853947,  4.07349278,\n",
       "         3.27567444,  1.62423074,  2.60248838,  6.99584399,  5.77828453,\n",
       "         6.88856194,  2.16118925,  6.07892203, 15.75478662,  2.51018436,\n",
       "         6.77485774,  4.63835388,  7.8975866 ,  7.06648208]),\n",
       " 'mean_score_time': array([11.05165076, 10.72619057, 11.97580299, 11.52919779, 11.70729756,\n",
       "        12.07077799, 11.30014911, 10.96617913, 11.16449051, 11.57630429,\n",
       "        11.16742992, 11.74411612, 10.96860576, 10.76866794, 11.34539671,\n",
       "        11.48381796, 11.76284471, 11.3854115 , 10.83917065, 11.21028929,\n",
       "        11.18227782, 11.33029385, 10.65757866,  9.45257306]),\n",
       " 'std_score_time': array([0.41776516, 1.1050589 , 0.70612129, 0.63723523, 0.3324048 ,\n",
       "        0.4850016 , 0.78994475, 0.41232285, 0.40111945, 0.78316558,\n",
       "        0.44324375, 0.53605967, 0.86132539, 0.64442356, 0.49586633,\n",
       "        0.50314347, 0.8028236 , 0.51678638, 0.37061974, 0.80241382,\n",
       "        0.73482005, 0.68071359, 1.00151302, 0.30733805]),\n",
       " 'param_colsample_bytree': masked_array(data=[0.6, 0.6, 0.6, 0.6, 0.6, 0.6, 0.7, 0.7, 0.7, 0.7, 0.7,\n",
       "                    0.7, 0.8, 0.8, 0.8, 0.8, 0.8, 0.8, 0.9, 0.9, 0.9, 0.9,\n",
       "                    0.9, 0.9],\n",
       "              mask=[False, False, False, False, False, False, False, False,\n",
       "                    False, False, False, False, False, False, False, False,\n",
       "                    False, False, False, False, False, False, False, False],\n",
       "        fill_value='?',\n",
       "             dtype=object),\n",
       " 'param_subsample': masked_array(data=[0.3, 0.4, 0.5, 0.6, 0.7, 0.8, 0.3, 0.4, 0.5, 0.6, 0.7,\n",
       "                    0.8, 0.3, 0.4, 0.5, 0.6, 0.7, 0.8, 0.3, 0.4, 0.5, 0.6,\n",
       "                    0.7, 0.8],\n",
       "              mask=[False, False, False, False, False, False, False, False,\n",
       "                    False, False, False, False, False, False, False, False,\n",
       "                    False, False, False, False, False, False, False, False],\n",
       "        fill_value='?',\n",
       "             dtype=object),\n",
       " 'params': [{'colsample_bytree': 0.6, 'subsample': 0.3},\n",
       "  {'colsample_bytree': 0.6, 'subsample': 0.4},\n",
       "  {'colsample_bytree': 0.6, 'subsample': 0.5},\n",
       "  {'colsample_bytree': 0.6, 'subsample': 0.6},\n",
       "  {'colsample_bytree': 0.6, 'subsample': 0.7},\n",
       "  {'colsample_bytree': 0.6, 'subsample': 0.8},\n",
       "  {'colsample_bytree': 0.7, 'subsample': 0.3},\n",
       "  {'colsample_bytree': 0.7, 'subsample': 0.4},\n",
       "  {'colsample_bytree': 0.7, 'subsample': 0.5},\n",
       "  {'colsample_bytree': 0.7, 'subsample': 0.6},\n",
       "  {'colsample_bytree': 0.7, 'subsample': 0.7},\n",
       "  {'colsample_bytree': 0.7, 'subsample': 0.8},\n",
       "  {'colsample_bytree': 0.8, 'subsample': 0.3},\n",
       "  {'colsample_bytree': 0.8, 'subsample': 0.4},\n",
       "  {'colsample_bytree': 0.8, 'subsample': 0.5},\n",
       "  {'colsample_bytree': 0.8, 'subsample': 0.6},\n",
       "  {'colsample_bytree': 0.8, 'subsample': 0.7},\n",
       "  {'colsample_bytree': 0.8, 'subsample': 0.8},\n",
       "  {'colsample_bytree': 0.9, 'subsample': 0.3},\n",
       "  {'colsample_bytree': 0.9, 'subsample': 0.4},\n",
       "  {'colsample_bytree': 0.9, 'subsample': 0.5},\n",
       "  {'colsample_bytree': 0.9, 'subsample': 0.6},\n",
       "  {'colsample_bytree': 0.9, 'subsample': 0.7},\n",
       "  {'colsample_bytree': 0.9, 'subsample': 0.8}],\n",
       " 'split0_test_score': array([-0.46325235, -0.46002692, -0.45585668, -0.4546923 , -0.45386523,\n",
       "        -0.45439702, -0.46595404, -0.45678077, -0.45426057, -0.45281351,\n",
       "        -0.45324178, -0.45074282, -0.46203683, -0.45542511, -0.45724847,\n",
       "        -0.45267487, -0.45237088, -0.45145658, -0.46276622, -0.45744776,\n",
       "        -0.45577699, -0.45102241, -0.45344976, -0.45136494]),\n",
       " 'split1_test_score': array([-0.47053103, -0.46573437, -0.46304983, -0.46106962, -0.45867094,\n",
       "        -0.45906316, -0.47050553, -0.46534804, -0.46114641, -0.46037451,\n",
       "        -0.45909108, -0.4610259 , -0.46975205, -0.46140501, -0.46084573,\n",
       "        -0.46026649, -0.45973176, -0.46070063, -0.46965676, -0.46300119,\n",
       "        -0.4595603 , -0.46059767, -0.45975598, -0.45950162]),\n",
       " 'split2_test_score': array([-0.47135527, -0.46704691, -0.4619349 , -0.46335994, -0.46177727,\n",
       "        -0.46279805, -0.46911962, -0.46368321, -0.46204129, -0.46122838,\n",
       "        -0.46036678, -0.4603414 , -0.46879152, -0.46454757, -0.46361901,\n",
       "        -0.46280922, -0.46092803, -0.46162749, -0.47031385, -0.46573409,\n",
       "        -0.46363009, -0.46162129, -0.46248698, -0.46363744]),\n",
       " 'split3_test_score': array([-0.47785965, -0.47391655, -0.47178051, -0.46999475, -0.46648099,\n",
       "        -0.46513073, -0.47862662, -0.47315958, -0.46929804, -0.4663727 ,\n",
       "        -0.46614833, -0.46441447, -0.47553973, -0.47356144, -0.4694241 ,\n",
       "        -0.46898428, -0.46605536, -0.46691848, -0.47954036, -0.46878484,\n",
       "        -0.47170647, -0.4674542 , -0.46549166, -0.46826573]),\n",
       " 'split4_test_score': array([-0.48289565, -0.47746728, -0.47197772, -0.47363995, -0.469875  ,\n",
       "        -0.46855227, -0.4798262 , -0.47932474, -0.47229102, -0.47039685,\n",
       "        -0.47223684, -0.46998018, -0.4790607 , -0.47511609, -0.47359749,\n",
       "        -0.47070904, -0.46795884, -0.47125324, -0.47596102, -0.47818839,\n",
       "        -0.47375393, -0.46875695, -0.4710039 , -0.47011996]),\n",
       " 'mean_test_score': array([-0.47317764, -0.46883737, -0.46491903, -0.4645502 , -0.46213294,\n",
       "        -0.46198742, -0.47280558, -0.46765794, -0.46380643, -0.46223619,\n",
       "        -0.46221581, -0.46129991, -0.47103521, -0.46600989, -0.46494595,\n",
       "        -0.46308778, -0.46140812, -0.46239019, -0.47164697, -0.46662996,\n",
       "        -0.46488446, -0.46188958, -0.46243663, -0.46257692]),\n",
       " 'std_test_score': array([0.00671094, 0.0061761 , 0.00618757, 0.00667782, 0.00564455,\n",
       "        0.00489483, 0.00545869, 0.00782053, 0.00637893, 0.00594927,\n",
       "        0.00647428, 0.0062847 , 0.005871  , 0.00742058, 0.0058773 ,\n",
       "        0.00647024, 0.005463  , 0.00666384, 0.00575384, 0.00687739,\n",
       "        0.00690022, 0.00629236, 0.00584249, 0.00671649]),\n",
       " 'rank_test_score': array([24, 20, 15, 13,  5,  4, 23, 19, 12,  7,  6,  1, 21, 17, 16, 11,  2,\n",
       "         8, 22, 18, 14,  3,  9, 10], dtype=int32),\n",
       " 'split0_train_score': array([-0.25591432, -0.24004217, -0.23176862, -0.22596901, -0.2233106 ,\n",
       "        -0.22510536, -0.24598169, -0.2310452 , -0.22237045, -0.21747657,\n",
       "        -0.21644601, -0.21615099, -0.2402508 , -0.22547612, -0.21666892,\n",
       "        -0.21139164, -0.20940736, -0.21042741, -0.23418142, -0.21999514,\n",
       "        -0.21054287, -0.20515572, -0.20407811, -0.20625622]),\n",
       " 'split1_train_score': array([-0.25476201, -0.23979204, -0.23157371, -0.22650042, -0.22313606,\n",
       "        -0.22565821, -0.24698522, -0.23229552, -0.22378335, -0.21812771,\n",
       "        -0.21495869, -0.21754435, -0.24094039, -0.22593924, -0.21643903,\n",
       "        -0.21076768, -0.20864594, -0.21166099, -0.23334268, -0.21979005,\n",
       "        -0.21052222, -0.20546758, -0.2053579 , -0.20698022]),\n",
       " 'split2_train_score': array([-0.25678122, -0.24135357, -0.23165464, -0.22672059, -0.22453348,\n",
       "        -0.22563852, -0.24732256, -0.23236902, -0.22478102, -0.21881355,\n",
       "        -0.21838144, -0.21917742, -0.24032481, -0.22591437, -0.21771672,\n",
       "        -0.21285368, -0.21003104, -0.21304489, -0.23436412, -0.21986328,\n",
       "        -0.21148784, -0.20801636, -0.20497008, -0.20767441]),\n",
       " 'split3_train_score': array([-0.25335023, -0.23981812, -0.22937338, -0.22608606, -0.22311879,\n",
       "        -0.22383067, -0.24538153, -0.22972397, -0.22246692, -0.21648678,\n",
       "        -0.21479285, -0.21551266, -0.23978467, -0.2249946 , -0.21755849,\n",
       "        -0.21083629, -0.21096076, -0.21076209, -0.23293476, -0.22007763,\n",
       "        -0.21063319, -0.20516524, -0.20405158, -0.20607385]),\n",
       " 'split4_train_score': array([-0.25338337, -0.23785789, -0.22926859, -0.22580604, -0.22208771,\n",
       "        -0.22433772, -0.24475744, -0.23107501, -0.22093423, -0.21657657,\n",
       "        -0.21393351, -0.21465651, -0.23994902, -0.22359204, -0.21588096,\n",
       "        -0.20982674, -0.20788774, -0.20907717, -0.23219206, -0.21907459,\n",
       "        -0.21095554, -0.20353339, -0.20312705, -0.2044506 ]),\n",
       " 'mean_train_score': array([-0.25483823, -0.23977276, -0.23072779, -0.22621643, -0.22323733,\n",
       "        -0.2249141 , -0.24608569, -0.23130174, -0.22286719, -0.21749624,\n",
       "        -0.2157025 , -0.21660839, -0.24024994, -0.22518327, -0.21685282,\n",
       "        -0.21113521, -0.20938657, -0.21099451, -0.23340301, -0.21976014,\n",
       "        -0.21082833, -0.20546766, -0.20431694, -0.20628706]),\n",
       " 'std_train_score': array([0.0013616 , 0.0011172 , 0.0011508 , 0.00034102, 0.00077863,\n",
       "        0.00072403, 0.0009602 , 0.00097296, 0.00131495, 0.00089434,\n",
       "        0.00156458, 0.00159346, 0.00039733, 0.00086711, 0.00069193,\n",
       "        0.00099553, 0.00106667, 0.00131909, 0.00080237, 0.00035708,\n",
       "        0.00036453, 0.00144402, 0.00078147, 0.00107928])}"
      ]
     },
     "execution_count": 8,
     "metadata": {},
     "output_type": "execute_result"
    }
   ],
   "source": [
    "gsearch3_1.cv_results_"
   ]
  },
  {
   "cell_type": "code",
   "execution_count": 9,
   "metadata": {
    "scrolled": true
   },
   "outputs": [
    {
     "name": "stdout",
     "output_type": "stream",
     "text": [
      "Best: -0.461300 using {'colsample_bytree': 0.7, 'subsample': 0.8}\n"
     ]
    },
    {
     "data": {
      "image/png": "[encoded data removed]",
      "text/plain": [
       "<Figure size 432x288 with 1 Axes>"
      ]
     },
     "metadata": {
      "needs_background": "light"
     },
     "output_type": "display_data"
    }
   ],
   "source": [
    "# summarize results\n",
    "print(\"Best: %f using %s\" % (gsearch3_1.best_score_, gsearch3_1.best_params_))\n",
    "test_means = gsearch3_1.cv_results_[ 'mean_test_score' ]\n",
    "test_stds = gsearch3_1.cv_results_[ 'std_test_score' ]\n",
    "train_means = gsearch3_1.cv_results_[ 'mean_train_score' ]\n",
    "train_stds = gsearch3_1.cv_results_[ 'std_train_score' ]\n",
    "\n",
    "pd.DataFrame(gsearch3_1.cv_results_).to_csv('my_preds_subsampleh_colsample_bytree_1.csv')\n",
    "\n",
    "# plot results\n",
    "test_scores = np.array(test_means).reshape(len(colsample_bytree), len(subsample))\n",
    "train_scores = np.array(train_means).reshape(len(colsample_bytree), len(subsample))\n",
    "\n",
    "for i, value in enumerate(colsample_bytree):\n",
    "    pyplot.plot(subsample, -test_scores[i], label= 'test_colsample_bytree:'   + str(value))\n",
    "#for i, value in enumerate(min_child_weight):\n",
    "#    pyplot.plot(max_depth, train_scores[i], label= 'train_min_child_weight:'   + str(value))\n",
    "    \n",
    "pyplot.legend()\n",
    "pyplot.xlabel( 'subsample' )                                                                                                      \n",
    "pyplot.ylabel( 'Log Loss' )\n",
    "pyplot.savefig( 'subsample_vs_colsample_bytree1.png' )"
   ]
  }
 ],
 "metadata": {
  "kernelspec": {
   "display_name": "Python 3",
   "language": "python",
   "name": "python3"
  },
  "language_info": {
   "codemirror_mode": {
    "name": "ipython",
    "version": 3
   },
   "file_extension": ".py",
   "mimetype": "text/x-python",
   "name": "python",
   "nbconvert_exporter": "python",
   "pygments_lexer": "ipython3",
   "version": "3.6.1"
  }
 },
 "nbformat": 4,
 "nbformat_minor": 2
}

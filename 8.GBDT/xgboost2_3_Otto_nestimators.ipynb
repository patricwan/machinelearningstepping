{
 "cells": [
  {
   "cell_type": "markdown",
   "metadata": {},
   "source": [
    "# XGBoost Parameter Tuning for Otto Dataset"
   ]
  },
  {
   "cell_type": "markdown",
   "metadata": {},
   "source": [
    "我们以Kaggle 2015年举办的Otto Group Product Classification Challenge竞赛数据为例，进行XGBoost参数调优探索。\n",
    "\n",
    "竞赛官网：https://www.kaggle.com/c/otto-group-product-classification-challenge/data"
   ]
  },
  {
   "cell_type": "markdown",
   "metadata": {},
   "source": [
    "首先 import 必要的模块"
   ]
  },
  {
   "cell_type": "code",
   "execution_count": 21,
   "metadata": {},
   "outputs": [],
   "source": [
    "from xgboost import XGBClassifier\n",
    "import xgboost as xgb\n",
    "\n",
    "import pandas as pd \n",
    "import numpy as np\n",
    "\n",
    "from sklearn.model_selection import GridSearchCV\n",
    "from sklearn.model_selection import StratifiedKFold\n",
    "\n",
    "from sklearn.metrics import log_loss\n",
    "\n",
    "from matplotlib import pyplot\n",
    "import seaborn as sns\n",
    "%matplotlib inline"
   ]
  },
  {
   "cell_type": "markdown",
   "metadata": {},
   "source": [
    "## 读取数据"
   ]
  },
  {
   "cell_type": "code",
   "execution_count": 22,
   "metadata": {
    "scrolled": true
   },
   "outputs": [],
   "source": [
    "# path to where the data lies\n",
    "#dpath = '/Users/qing/desktop/XGBoost/data/'\n",
    "dpath = '../data/'\n",
    "train = pd.read_csv(dpath +\"Otto_train.csv\")\n",
    "#train.head()"
   ]
  },
  {
   "cell_type": "markdown",
   "metadata": {},
   "source": [
    "## Variable Identification"
   ]
  },
  {
   "cell_type": "markdown",
   "metadata": {},
   "source": [
    "选择该数据集是因为的数据特征单一，我们可以在特征工程方面少做些工作，集中精力放在参数调优上"
   ]
  },
  {
   "cell_type": "markdown",
   "metadata": {},
   "source": [
    "## Target 分布，看看各类样本分布是否均衡"
   ]
  },
  {
   "cell_type": "code",
   "execution_count": 23,
   "metadata": {
    "scrolled": false
   },
   "outputs": [
    {
     "data": {
      "image/png": "[encoded data removed]",
      "text/plain": [
       "<Figure size 432x288 with 1 Axes>"
      ]
     },
     "metadata": {
      "needs_background": "light"
     },
     "output_type": "display_data"
    }
   ],
   "source": [
    "sns.countplot(train.target);\n",
    "pyplot.xlabel('target');\n",
    "pyplot.ylabel('Number of occurrences');"
   ]
  },
  {
   "cell_type": "markdown",
   "metadata": {},
   "source": [
    "每类样本分布不是很均匀，所以交叉验证时也考虑各类样本按比例抽取"
   ]
  },
  {
   "cell_type": "code",
   "execution_count": 24,
   "metadata": {},
   "outputs": [],
   "source": [
    "# drop ids and get labels\n",
    "y_train = train['target']\n",
    "y_train = y_train.map(lambda s: s[6:])\n",
    "y_train = y_train.map(lambda s: int(s)-1)\n",
    "\n",
    "train = train.drop([\"id\", \"target\"], axis=1)\n",
    "X_train = np.array(train)"
   ]
  },
  {
   "cell_type": "markdown",
   "metadata": {},
   "source": [
    "各类样本不均衡，交叉验证是采用StratifiedKFold，在每折采样时各类样本按比例采样"
   ]
  },
  {
   "cell_type": "code",
   "execution_count": 25,
   "metadata": {},
   "outputs": [],
   "source": [
    "# prepare cross validation\n",
    "kfold = StratifiedKFold(n_splits=5, shuffle=True, random_state=3)"
   ]
  },
  {
   "cell_type": "markdown",
   "metadata": {},
   "source": [
    "再次调整弱分类器数目"
   ]
  },
  {
   "cell_type": "code",
   "execution_count": 26,
   "metadata": {},
   "outputs": [],
   "source": [
    "def modelfit(alg, X_train, y_train, useTrainCV=True, cv_folds=None, early_stopping_rounds=100):\n",
    "    \n",
    "    if useTrainCV:\n",
    "        xgb_param = alg.get_xgb_params()\n",
    "        xgb_param['num_class'] = 9\n",
    "        \n",
    "        xgtrain = xgb.DMatrix(X_train, label = y_train)\n",
    "        \n",
    "        cvresult = xgb.cv(xgb_param, xgtrain, num_boost_round=alg.get_params()['n_estimators'], folds =cv_folds,\n",
    "                         metrics='mlogloss', early_stopping_rounds=early_stopping_rounds)\n",
    "        \n",
    "        n_estimators = cvresult.shape[0]\n",
    "        alg.set_params(n_estimators = n_estimators)\n",
    "        \n",
    "        print(cvresult)\n",
    "        #result = pd.DataFrame(cvresult)   #cv缺省返回结果为DataFrame\n",
    "        #result.to_csv('my_preds.csv', index_label = 'n_estimators')\n",
    "        cvresult.to_csv('my_preds4_2_3_699.csv', index_label = 'n_estimators')\n",
    "        \n",
    "        # plot\n",
    "        test_means = cvresult['test-mlogloss-mean']\n",
    "        test_stds = cvresult['test-mlogloss-std'] \n",
    "        \n",
    "        train_means = cvresult['train-mlogloss-mean']\n",
    "        train_stds = cvresult['train-mlogloss-std'] \n",
    "\n",
    "        x_axis = range(0, n_estimators)\n",
    "        pyplot.errorbar(x_axis, test_means, yerr=test_stds ,label='Test')\n",
    "        pyplot.errorbar(x_axis, train_means, yerr=train_stds ,label='Train')\n",
    "        pyplot.title(\"XGBoost n_estimators vs Log Loss\")\n",
    "        pyplot.xlabel( 'n_estimators' )\n",
    "        pyplot.ylabel( 'Log Loss' )\n",
    "        pyplot.savefig( 'n_estimators4_2_3_699.png' )\n",
    "    \n",
    "    #Fit the algorithm on the data\n",
    "    alg.fit(X_train, y_train, eval_metric='mlogloss')\n",
    "        \n",
    "    #Predict training set:\n",
    "    train_predprob = alg.predict_proba(X_train)\n",
    "    logloss = log_loss(y_train, train_predprob)\n",
    "\n",
    "        \n",
    "    #Print model report:\n",
    "    print (\"logloss of train :\" )\n",
    "    print(logloss)"
   ]
  },
  {
   "cell_type": "code",
   "execution_count": 27,
   "metadata": {
    "scrolled": true
   },
   "outputs": [
    {
     "name": "stderr",
     "output_type": "stream",
     "text": [
      "/root/.local/lib/python3.6/site-packages/xgboost-0.81-py3.6.egg/xgboost/core.py:587: FutureWarning: Series.base is deprecated and will be removed in a future version\n",
      "  if getattr(data, 'base', None) is not None and \\\n"
     ]
    },
    {
     "name": "stdout",
     "output_type": "stream",
     "text": [
      "     train-mlogloss-mean  train-mlogloss-std  test-mlogloss-mean  \\\n",
      "0               1.990260            0.001570            1.992121   \n",
      "1               1.831039            0.005299            1.834766   \n",
      "2               1.701998            0.005168            1.707340   \n",
      "3               1.597088            0.008248            1.604055   \n",
      "4               1.505772            0.006746            1.514247   \n",
      "5               1.428146            0.005012            1.438370   \n",
      "6               1.358986            0.005841            1.370654   \n",
      "7               1.296656            0.005406            1.309438   \n",
      "8               1.242356            0.005170            1.256454   \n",
      "9               1.192542            0.004346            1.207533   \n",
      "10              1.147098            0.004674            1.163027   \n",
      "11              1.105136            0.004137            1.121900   \n",
      "12              1.067056            0.003592            1.084784   \n",
      "13              1.032823            0.002709            1.051568   \n",
      "14              1.000853            0.002203            1.020604   \n",
      "15              0.972595            0.001468            0.993078   \n",
      "16              0.946236            0.001128            0.967583   \n",
      "17              0.921720            0.001022            0.943812   \n",
      "18              0.899205            0.000924            0.922028   \n",
      "19              0.878165            0.000866            0.901681   \n",
      "20              0.858177            0.000353            0.882484   \n",
      "21              0.839812            0.000441            0.864996   \n",
      "22              0.822866            0.000800            0.848706   \n",
      "23              0.807199            0.000852            0.833739   \n",
      "24              0.792232            0.000893            0.819342   \n",
      "25              0.778259            0.001225            0.806134   \n",
      "26              0.765407            0.001029            0.793966   \n",
      "27              0.752835            0.000906            0.782051   \n",
      "28              0.741026            0.000884            0.770901   \n",
      "29              0.729786            0.000883            0.760338   \n",
      "..                   ...                 ...                 ...   \n",
      "669             0.235043            0.000714            0.471063   \n",
      "670             0.234821            0.000717            0.471062   \n",
      "671             0.234599            0.000711            0.471058   \n",
      "672             0.234380            0.000698            0.471021   \n",
      "673             0.234173            0.000693            0.471025   \n",
      "674             0.233969            0.000692            0.471057   \n",
      "675             0.233758            0.000674            0.471082   \n",
      "676             0.233531            0.000659            0.470988   \n",
      "677             0.233343            0.000663            0.470975   \n",
      "678             0.233141            0.000662            0.471016   \n",
      "679             0.232931            0.000634            0.470989   \n",
      "680             0.232717            0.000650            0.471044   \n",
      "681             0.232493            0.000633            0.471016   \n",
      "682             0.232276            0.000641            0.471015   \n",
      "683             0.232068            0.000644            0.471030   \n",
      "684             0.231887            0.000618            0.471046   \n",
      "685             0.231691            0.000612            0.471012   \n",
      "686             0.231513            0.000637            0.470997   \n",
      "687             0.231315            0.000624            0.471062   \n",
      "688             0.231116            0.000624            0.471055   \n",
      "689             0.230903            0.000606            0.471016   \n",
      "690             0.230700            0.000603            0.471062   \n",
      "691             0.230486            0.000596            0.471053   \n",
      "692             0.230288            0.000595            0.471053   \n",
      "693             0.230105            0.000586            0.471034   \n",
      "694             0.229896            0.000583            0.471016   \n",
      "695             0.229701            0.000579            0.470955   \n",
      "696             0.229518            0.000602            0.470974   \n",
      "697             0.229313            0.000614            0.470971   \n",
      "698             0.229127            0.000620            0.470983   \n",
      "\n",
      "     test-mlogloss-std  \n",
      "0             0.002033  \n",
      "1             0.005701  \n",
      "2             0.007061  \n",
      "3             0.009861  \n",
      "4             0.009008  \n",
      "5             0.007664  \n",
      "6             0.008181  \n",
      "7             0.008827  \n",
      "8             0.008613  \n",
      "9             0.008123  \n",
      "10            0.008466  \n",
      "11            0.008194  \n",
      "12            0.007538  \n",
      "13            0.007294  \n",
      "14            0.007085  \n",
      "15            0.006701  \n",
      "16            0.006777  \n",
      "17            0.006584  \n",
      "18            0.006511  \n",
      "19            0.005892  \n",
      "20            0.006101  \n",
      "21            0.006187  \n",
      "22            0.006287  \n",
      "23            0.005949  \n",
      "24            0.006091  \n",
      "25            0.005661  \n",
      "26            0.005978  \n",
      "27            0.006073  \n",
      "28            0.006209  \n",
      "29            0.006419  \n",
      "..                 ...  \n",
      "669           0.006910  \n",
      "670           0.006907  \n",
      "671           0.006857  \n",
      "672           0.006847  \n",
      "673           0.006794  \n",
      "674           0.006831  \n",
      "675           0.006897  \n",
      "676           0.006918  \n",
      "677           0.006842  \n",
      "678           0.006840  \n",
      "679           0.006877  \n",
      "680           0.006875  \n",
      "681           0.006877  \n",
      "682           0.006858  \n",
      "683           0.006860  \n",
      "684           0.006879  \n",
      "685           0.006879  \n",
      "686           0.006885  \n",
      "687           0.006871  \n",
      "688           0.006868  \n",
      "689           0.006873  \n",
      "690           0.006846  \n",
      "691           0.006890  \n",
      "692           0.006863  \n",
      "693           0.006855  \n",
      "694           0.006834  \n",
      "695           0.006811  \n",
      "696           0.006787  \n",
      "697           0.006722  \n",
      "698           0.006700  \n",
      "\n",
      "[699 rows x 4 columns]\n",
      "logloss of train :\n",
      "0.24516566384146649\n"
     ]
    },
    {
     "data": {
      "image/png": "[encoded data removed]",
      "text/plain": [
       "<Figure size 432x288 with 1 Axes>"
      ]
     },
     "metadata": {
      "needs_background": "light"
     },
     "output_type": "display_data"
    }
   ],
   "source": [
    "#调整max_depth和min_child_weight之后再次调整n_estimators(6,4)\n",
    "xgb2_3 = XGBClassifier(\n",
    "        learning_rate =0.1,\n",
    "        n_estimators=699,  #数值大没关系，cv会自动返回合适的n_estimators\n",
    "        max_depth=6,\n",
    "        min_child_weight=4,\n",
    "        gamma=0,\n",
    "        subsample=0.3,\n",
    "        colsample_bytree=0.8,\n",
    "        colsample_bylevel=0.7,\n",
    "        objective= 'multi:softprob',\n",
    "        seed=3)\n",
    "\n",
    "modelfit(xgb2_3, X_train, y_train, cv_folds = kfold)\n",
    "#from sklearn.model_selection import cross_val_score\n",
    "#results = cross_val_score(xgb2_3, X_train, y_train, metrics='mlogloss', cv=kfold)\n",
    "#print results\n",
    "#print(\"CV logloss: %.2f%% (%.2f%%)\" % (results.mean()*100, results.std()*100))"
   ]
  },
  {
   "cell_type": "code",
   "execution_count": 28,
   "metadata": {},
   "outputs": [
    {
     "name": "stderr",
     "output_type": "stream",
     "text": [
      "/usr/local/python3/lib/python3.6/site-packages/ipykernel_launcher.py:1: FutureWarning: from_csv is deprecated. Please use read_csv(...) instead. Note that some of the default arguments are different, so please refer to the documentation for from_csv when changing your function calls\n",
      "  \"\"\"Entry point for launching an IPython kernel.\n"
     ]
    },
    {
     "data": {
      "image/png": "[encoded data removed]",
      "text/plain": [
       "<Figure size 1000x1000 with 1 Axes>"
      ]
     },
     "metadata": {
      "needs_background": "light"
     },
     "output_type": "display_data"
    }
   ],
   "source": [
    "cvresult = pd.DataFrame.from_csv('my_preds4_2_3_699.csv')\n",
    "\n",
    "cvresult = cvresult.iloc[100:]\n",
    "# plot\n",
    "test_means = cvresult['test-mlogloss-mean']\n",
    "test_stds = cvresult['test-mlogloss-std'] \n",
    "        \n",
    "train_means = cvresult['train-mlogloss-mean']\n",
    "train_stds = cvresult['train-mlogloss-std'] \n",
    "\n",
    "x_axis = range(100,cvresult.shape[0]+100)\n",
    "        \n",
    "fig = pyplot.figure(figsize=(10, 10), dpi=100)\n",
    "pyplot.errorbar(x_axis, test_means, yerr=test_stds ,label='Test')\n",
    "pyplot.errorbar(x_axis, train_means, yerr=train_stds ,label='Train')\n",
    "pyplot.title(\"XGBoost n_estimators vs Log Loss\")\n",
    "pyplot.xlabel( 'n_estimators' )\n",
    "pyplot.ylabel( 'Log Loss' )\n",
    "pyplot.savefig( 'n_estimators_detail4_2_3_699.png' )\n",
    "\n",
    "pyplot.show()"
   ]
  }
 ],
 "metadata": {
  "kernelspec": {
   "display_name": "Python 3",
   "language": "python",
   "name": "python3"
  },
  "language_info": {
   "codemirror_mode": {
    "name": "ipython",
    "version": 3
   },
   "file_extension": ".py",
   "mimetype": "text/x-python",
   "name": "python",
   "nbconvert_exporter": "python",
   "pygments_lexer": "ipython3",
   "version": "3.6.4"
  }
 },
 "nbformat": 4,
 "nbformat_minor": 2
}

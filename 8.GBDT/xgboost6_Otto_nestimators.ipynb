{
 "cells": [
  {
   "cell_type": "markdown",
   "metadata": {},
   "source": [
    "# XGBoost Parameter Tuning for Otto Dataset"
   ]
  },
  {
   "cell_type": "markdown",
   "metadata": {},
   "source": [
    "我们以Kaggle 2015年举办的Otto Group Product Classification Challenge竞赛数据为例，进行XGBoost参数调优探索。\n",
    "\n",
    "竞赛官网：https://www.kaggle.com/c/otto-group-product-classification-challenge/data"
   ]
  },
  {
   "cell_type": "markdown",
   "metadata": {},
   "source": [
    "首先 import 必要的模块"
   ]
  },
  {
   "cell_type": "code",
   "execution_count": 7,
   "metadata": {},
   "outputs": [],
   "source": [
    "from xgboost import XGBClassifier\n",
    "import xgboost as xgb\n",
    "\n",
    "import pandas as pd \n",
    "import numpy as np\n",
    "\n",
    "from sklearn.model_selection import GridSearchCV\n",
    "from sklearn.model_selection import StratifiedKFold\n",
    "\n",
    "from sklearn.metrics import log_loss\n",
    "\n",
    "from matplotlib import pyplot\n",
    "import seaborn as sns\n",
    "%matplotlib inline"
   ]
  },
  {
   "cell_type": "markdown",
   "metadata": {},
   "source": [
    "## 读取数据"
   ]
  },
  {
   "cell_type": "code",
   "execution_count": 8,
   "metadata": {
    "scrolled": true
   },
   "outputs": [],
   "source": [
    "# path to where the data lies\n",
    "#dpath = '/Users/qing/desktop/XGBoost/data/'\n",
    "dpath = '../data/'\n",
    "train = pd.read_csv(dpath +\"Otto_train.csv\")\n",
    "#train.head()"
   ]
  },
  {
   "cell_type": "markdown",
   "metadata": {},
   "source": [
    "## Variable Identification"
   ]
  },
  {
   "cell_type": "markdown",
   "metadata": {},
   "source": [
    "选择该数据集是因为的数据特征单一，我们可以在特征工程方面少做些工作，集中精力放在参数调优上"
   ]
  },
  {
   "cell_type": "markdown",
   "metadata": {},
   "source": [
    "## Target 分布，看看各类样本分布是否均衡"
   ]
  },
  {
   "cell_type": "code",
   "execution_count": 9,
   "metadata": {
    "scrolled": false
   },
   "outputs": [
    {
     "data": {
      "image/png": "[encoded data removed]",
      "text/plain": [
       "<Figure size 432x288 with 1 Axes>"
      ]
     },
     "metadata": {
      "needs_background": "light"
     },
     "output_type": "display_data"
    }
   ],
   "source": [
    "sns.countplot(train.target);\n",
    "pyplot.xlabel('target');\n",
    "pyplot.ylabel('Number of occurrences');"
   ]
  },
  {
   "cell_type": "markdown",
   "metadata": {},
   "source": [
    "每类样本分布不是很均匀，所以交叉验证时也考虑各类样本按比例抽取"
   ]
  },
  {
   "cell_type": "code",
   "execution_count": 10,
   "metadata": {},
   "outputs": [],
   "source": [
    "# drop ids and get labels\n",
    "y_train = train['target']\n",
    "y_train = y_train.map(lambda s: s[6:])\n",
    "y_train = y_train.map(lambda s: int(s)-1)\n",
    "\n",
    "train = train.drop([\"id\", \"target\"], axis=1)\n",
    "X_train = np.array(train)"
   ]
  },
  {
   "cell_type": "markdown",
   "metadata": {},
   "source": [
    "各类样本不均衡，交叉验证是采用StratifiedKFold，在每折采样时各类样本按比例采样"
   ]
  },
  {
   "cell_type": "code",
   "execution_count": 11,
   "metadata": {},
   "outputs": [],
   "source": [
    "# prepare cross validation\n",
    "kfold = StratifiedKFold(n_splits=5, shuffle=True, random_state=3)"
   ]
  },
  {
   "cell_type": "markdown",
   "metadata": {},
   "source": [
    "再次调整弱分类器数目"
   ]
  },
  {
   "cell_type": "code",
   "execution_count": 12,
   "metadata": {},
   "outputs": [],
   "source": [
    "def modelfit(alg, X_train, y_train, useTrainCV=True, cv_folds=None, early_stopping_rounds=50):\n",
    "    \n",
    "    if useTrainCV:\n",
    "        xgb_param = alg.get_xgb_params()\n",
    "        xgb_param['num_class'] = 9\n",
    "        \n",
    "        xgtrain = xgb.DMatrix(X_train, label = y_train)\n",
    "        \n",
    "        cvresult = xgb.cv(xgb_param, xgtrain, num_boost_round=alg.get_params()['n_estimators'], folds =cv_folds,\n",
    "                         metrics='mlogloss', early_stopping_rounds=early_stopping_rounds)\n",
    "        \n",
    "        n_estimators = cvresult.shape[0]\n",
    "        alg.set_params(n_estimators = n_estimators)\n",
    "        \n",
    "        print(cvresult)\n",
    "        #result = pd.DataFrame(cvresult)   #cv缺省返回结果为DataFrame\n",
    "        #result.to_csv('my_preds.csv', index_label = 'n_estimators')\n",
    "        cvresult.to_csv('my_preds4_6.csv', index_label = 'n_estimators')\n",
    "        \n",
    "        # plot\n",
    "        test_means = cvresult['test-mlogloss-mean']\n",
    "        test_stds = cvresult['test-mlogloss-std'] \n",
    "        \n",
    "        train_means = cvresult['train-mlogloss-mean']\n",
    "        train_stds = cvresult['train-mlogloss-std'] \n",
    "\n",
    "        x_axis = range(0, n_estimators)\n",
    "        pyplot.errorbar(x_axis, test_means, yerr=test_stds ,label='Test')\n",
    "        pyplot.errorbar(x_axis, train_means, yerr=train_stds ,label='Train')\n",
    "        pyplot.title(\"XGBoost n_estimators vs Log Loss\")\n",
    "        pyplot.xlabel( 'n_estimators' )\n",
    "        pyplot.ylabel( 'Log Loss' )\n",
    "        pyplot.savefig( 'n_estimators4_6.png' )\n",
    "    \n",
    "    #Fit the algorithm on the data\n",
    "    alg.fit(X_train, y_train, eval_metric='mlogloss')\n",
    "        \n",
    "    #Predict training set:\n",
    "    train_predprob = alg.predict_proba(X_train)\n",
    "    logloss = log_loss(y_train, train_predprob)\n",
    "\n",
    "        \n",
    "    #Print model report:\n",
    "    print (\"logloss of train :\" )\n",
    "    print(logloss)"
   ]
  },
  {
   "cell_type": "code",
   "execution_count": 13,
   "metadata": {
    "scrolled": true
   },
   "outputs": [
    {
     "name": "stderr",
     "output_type": "stream",
     "text": [
      "/root/.local/lib/python3.6/site-packages/xgboost-0.81-py3.6.egg/xgboost/core.py:587: FutureWarning: Series.base is deprecated and will be removed in a future version\n",
      "  if getattr(data, 'base', None) is not None and \\\n"
     ]
    },
    {
     "name": "stdout",
     "output_type": "stream",
     "text": [
      "     train-mlogloss-mean  train-mlogloss-std  test-mlogloss-mean  \\\n",
      "0               1.995763            0.002979            1.998053   \n",
      "1               1.842656            0.004918            1.846838   \n",
      "2               1.720552            0.007846            1.726695   \n",
      "3               1.616298            0.007208            1.624014   \n",
      "4               1.526978            0.009807            1.536588   \n",
      "5               1.449937            0.009187            1.461260   \n",
      "6               1.381996            0.006867            1.394694   \n",
      "7               1.320331            0.008810            1.334481   \n",
      "8               1.265033            0.006820            1.280398   \n",
      "9               1.215391            0.007763            1.231867   \n",
      "10              1.170388            0.008469            1.187901   \n",
      "11              1.130312            0.007316            1.149150   \n",
      "12              1.092515            0.006678            1.112469   \n",
      "13              1.057257            0.005525            1.078183   \n",
      "14              1.025280            0.006097            1.047254   \n",
      "15              0.995728            0.006802            1.018695   \n",
      "16              0.968074            0.006762            0.991976   \n",
      "17              0.943324            0.007540            0.968097   \n",
      "18              0.919972            0.007049            0.945544   \n",
      "19              0.897658            0.005754            0.924086   \n",
      "20              0.877621            0.005319            0.904853   \n",
      "21              0.857800            0.004840            0.885900   \n",
      "22              0.840204            0.004631            0.869068   \n",
      "23              0.823110            0.004335            0.852584   \n",
      "24              0.807331            0.004017            0.837646   \n",
      "25              0.793167            0.004160            0.824330   \n",
      "26              0.779533            0.004349            0.811502   \n",
      "27              0.766231            0.004333            0.798984   \n",
      "28              0.753997            0.003763            0.787515   \n",
      "29              0.742314            0.003342            0.776503   \n",
      "..                   ...                 ...                 ...   \n",
      "706             0.207983            0.001008            0.459165   \n",
      "707             0.207803            0.001000            0.459173   \n",
      "708             0.207589            0.001009            0.459180   \n",
      "709             0.207399            0.001016            0.459158   \n",
      "710             0.207202            0.000990            0.459153   \n",
      "711             0.207007            0.000986            0.459145   \n",
      "712             0.206802            0.000980            0.459146   \n",
      "713             0.206596            0.000992            0.459155   \n",
      "714             0.206392            0.000987            0.459121   \n",
      "715             0.206193            0.000965            0.459092   \n",
      "716             0.205987            0.000971            0.459099   \n",
      "717             0.205794            0.000955            0.459094   \n",
      "718             0.205585            0.000981            0.459080   \n",
      "719             0.205384            0.000974            0.459087   \n",
      "720             0.205171            0.000950            0.459070   \n",
      "721             0.204962            0.000952            0.459037   \n",
      "722             0.204769            0.000970            0.459039   \n",
      "723             0.204582            0.000961            0.459025   \n",
      "724             0.204388            0.000967            0.459007   \n",
      "725             0.204194            0.000968            0.458981   \n",
      "726             0.203995            0.000944            0.458964   \n",
      "727             0.203796            0.000934            0.458982   \n",
      "728             0.203627            0.000942            0.458974   \n",
      "729             0.203426            0.000940            0.458967   \n",
      "730             0.203234            0.000931            0.458970   \n",
      "731             0.203041            0.000924            0.458968   \n",
      "732             0.202866            0.000919            0.458956   \n",
      "733             0.202675            0.000924            0.458945   \n",
      "734             0.202499            0.000920            0.458943   \n",
      "735             0.202300            0.000898            0.458915   \n",
      "\n",
      "     test-mlogloss-std  \n",
      "0             0.001815  \n",
      "1             0.004554  \n",
      "2             0.007095  \n",
      "3             0.004420  \n",
      "4             0.006932  \n",
      "5             0.006854  \n",
      "6             0.004034  \n",
      "7             0.004549  \n",
      "8             0.003522  \n",
      "9             0.005037  \n",
      "10            0.006473  \n",
      "11            0.005072  \n",
      "12            0.004052  \n",
      "13            0.002834  \n",
      "14            0.002058  \n",
      "15            0.002046  \n",
      "16            0.002782  \n",
      "17            0.002554  \n",
      "18            0.001460  \n",
      "19            0.002098  \n",
      "20            0.002990  \n",
      "21            0.003635  \n",
      "22            0.004194  \n",
      "23            0.004370  \n",
      "24            0.004581  \n",
      "25            0.004293  \n",
      "26            0.004699  \n",
      "27            0.004320  \n",
      "28            0.004815  \n",
      "29            0.005163  \n",
      "..                 ...  \n",
      "706           0.006346  \n",
      "707           0.006351  \n",
      "708           0.006316  \n",
      "709           0.006350  \n",
      "710           0.006354  \n",
      "711           0.006338  \n",
      "712           0.006357  \n",
      "713           0.006372  \n",
      "714           0.006357  \n",
      "715           0.006368  \n",
      "716           0.006366  \n",
      "717           0.006392  \n",
      "718           0.006430  \n",
      "719           0.006450  \n",
      "720           0.006491  \n",
      "721           0.006473  \n",
      "722           0.006489  \n",
      "723           0.006500  \n",
      "724           0.006527  \n",
      "725           0.006536  \n",
      "726           0.006522  \n",
      "727           0.006538  \n",
      "728           0.006543  \n",
      "729           0.006534  \n",
      "730           0.006541  \n",
      "731           0.006538  \n",
      "732           0.006554  \n",
      "733           0.006543  \n",
      "734           0.006578  \n",
      "735           0.006579  \n",
      "\n",
      "[736 rows x 4 columns]\n",
      "logloss of train :\n",
      "0.21980863158286126\n"
     ]
    },
    {
     "data": {
      "image/png": "[encoded data removed]",
      "text/plain": [
       "<Figure size 432x288 with 1 Axes>"
      ]
     },
     "metadata": {
      "needs_background": "light"
     },
     "output_type": "display_data"
    }
   ],
   "source": [
    "xgb6 = XGBClassifier(\n",
    "        learning_rate =0.1,\n",
    "        n_estimators=1000,  #数值大没关系，cv会自动返回合适的n_estimators\n",
    "        max_depth=6,\n",
    "        min_child_weight=4,\n",
    "        gamma=0,\n",
    "        subsample=0.7,\n",
    "        colsample_bytree=0.6,\n",
    "        colsample_bylevel=0.7,\n",
    "        reg_alpha = 1,\n",
    "        reg_lambda = 0.5,\n",
    "        objective= 'multi:softprob',\n",
    "        seed=3)\n",
    "\n",
    "modelfit(xgb6, X_train, y_train, cv_folds = kfold)"
   ]
  },
  {
   "cell_type": "code",
   "execution_count": 14,
   "metadata": {},
   "outputs": [
    {
     "name": "stderr",
     "output_type": "stream",
     "text": [
      "/usr/local/python3/lib/python3.6/site-packages/ipykernel_launcher.py:1: FutureWarning: from_csv is deprecated. Please use read_csv(...) instead. Note that some of the default arguments are different, so please refer to the documentation for from_csv when changing your function calls\n",
      "  \"\"\"Entry point for launching an IPython kernel.\n"
     ]
    },
    {
     "data": {
      "image/png": "[encoded data removed]",
      "text/plain": [
       "<Figure size 1000x1000 with 1 Axes>"
      ]
     },
     "metadata": {
      "needs_background": "light"
     },
     "output_type": "display_data"
    }
   ],
   "source": [
    "cvresult = pd.DataFrame.from_csv('my_preds4_6.csv')\n",
    "\n",
    "cvresult = cvresult.iloc[100:]\n",
    "# plot\n",
    "test_means = cvresult['test-mlogloss-mean']\n",
    "test_stds = cvresult['test-mlogloss-std'] \n",
    "        \n",
    "train_means = cvresult['train-mlogloss-mean']\n",
    "train_stds = cvresult['train-mlogloss-std'] \n",
    "\n",
    "x_axis = range(100,cvresult.shape[0]+100)\n",
    "        \n",
    "fig = pyplot.figure(figsize=(10, 10), dpi=100)\n",
    "pyplot.errorbar(x_axis, test_means, yerr=test_stds ,label='Test')\n",
    "pyplot.errorbar(x_axis, train_means, yerr=train_stds ,label='Train')\n",
    "pyplot.title(\"XGBoost n_estimators vs Log Loss\")\n",
    "pyplot.xlabel( 'n_estimators' )\n",
    "pyplot.ylabel( 'Log Loss' )\n",
    "pyplot.savefig( 'n_estimators_detail4_6.png' )\n",
    "\n",
    "pyplot.show()"
   ]
  }
 ],
 "metadata": {
  "kernelspec": {
   "display_name": "Python 3",
   "language": "python",
   "name": "python3"
  },
  "language_info": {
   "codemirror_mode": {
    "name": "ipython",
    "version": 3
   },
   "file_extension": ".py",
   "mimetype": "text/x-python",
   "name": "python",
   "nbconvert_exporter": "python",
   "pygments_lexer": "ipython3",
   "version": "3.6.1"
  }
 },
 "nbformat": 4,
 "nbformat_minor": 2
}

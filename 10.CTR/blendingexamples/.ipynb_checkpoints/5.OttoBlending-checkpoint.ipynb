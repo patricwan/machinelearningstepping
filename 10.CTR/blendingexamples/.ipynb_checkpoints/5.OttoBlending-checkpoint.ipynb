{
 "cells": [
  {
   "cell_type": "code",
   "execution_count": 1,
   "metadata": {},
   "outputs": [],
   "source": [
    "import os\n",
    "\n",
    "from joblib import dump, load"
   ]
  },
  {
   "cell_type": "code",
   "execution_count": 3,
   "metadata": {},
   "outputs": [
    {
     "name": "stdout",
     "output_type": "stream",
     "text": [
      "svcPredict  (61878, 9)\n",
      "xgbPredict (61878, 9)\n",
      "lrPredict (61878, 9)\n"
     ]
    }
   ],
   "source": [
    "#svm predict\n",
    "svcPredict = load('svcPredict.joblib_dat')\n",
    "print(\"svcPredict \", svcPredict.shape)\n",
    "\n",
    "#xgboost\n",
    "xgbPredict = load('./xgbPredict.joblib_dat')\n",
    "print(\"xgbPredict\", xgbPredict.shape)\n",
    "\n",
    "#logistic regression\n",
    "lrPredict = load('./lrPredict.joblib_dat')\n",
    "print(\"lrPredict\", lrPredict.shape)"
   ]
  },
  {
   "cell_type": "code",
   "execution_count": 6,
   "metadata": {},
   "outputs": [
    {
     "name": "stdout",
     "output_type": "stream",
     "text": [
      "[[5.33993380e-01 5.80239193e-05 6.29929128e-06 ... 3.02073026e-03\n",
      "  1.66979950e-03 1.36351130e-03]\n",
      " [4.47054217e-01 9.52950987e-02 2.64568881e-02 ... 2.93153680e-02\n",
      "  3.14643093e-01 3.05638016e-02]\n",
      " [6.82959854e-01 9.81828860e-02 1.99148658e-02 ... 4.54730687e-02\n",
      "  5.53629093e-02 5.37122491e-02]\n",
      " ...\n",
      " [9.17915648e-03 3.11636909e-03 7.16867473e-04 ... 1.41533350e-03\n",
      "  4.05137081e-04 9.77646974e-01]\n",
      " [3.46851698e-02 2.40499752e-03 2.26264997e-04 ... 1.05129101e-03\n",
      "  4.36976097e-03 8.42890595e-01]\n",
      " [3.38105930e-03 2.39634270e-04 3.20846725e-04 ... 4.02944592e-04\n",
      "  1.58379739e-02 8.09072870e-01]]\n"
     ]
    }
   ],
   "source": [
    "blending_w = {'svm': 0.3, 'xgb': 0.3, 'vw': .225, 'lr': 0.4}\n",
    "\n",
    "total_w = 0\n",
    "pred = 0\n",
    "\n",
    "pred += svcPredict * blending_w['svm']\n",
    "total_w += blending_w['svm']\n",
    "pred += xgbPredict * blending_w['xgb']\n",
    "total_w += blending_w['xgb']\n",
    "pred += lrPredict * blending_w['lr']\n",
    "total_w += blending_w['lr']\n",
    "\n",
    "pred /= total_w\n",
    "\n",
    "print(pred)\n"
   ]
  },
  {
   "cell_type": "code",
   "execution_count": 10,
   "metadata": {},
   "outputs": [],
   "source": [
    "predh_raw_avg = pred\n",
    "predh_raw_avg *=  predh_raw_avg.mean()"
   ]
  },
  {
   "cell_type": "code",
   "execution_count": 11,
   "metadata": {},
   "outputs": [
    {
     "data": {
      "text/plain": [
       "(61878, 9)"
      ]
     },
     "execution_count": 11,
     "metadata": {},
     "output_type": "execute_result"
    }
   ],
   "source": [
    "predh_raw_avg.shape"
   ]
  },
  {
   "cell_type": "code",
   "execution_count": 12,
   "metadata": {},
   "outputs": [
    {
     "data": {
      "text/plain": [
       "array([[1.24574780e-01, 1.35363419e-05, 1.46955535e-06, ...,\n",
       "        7.04703132e-04, 3.89545851e-04, 3.18092185e-04],\n",
       "       [1.04292830e-01, 2.22312980e-02, 6.17210090e-03, ...,\n",
       "        6.83895280e-03, 7.34027715e-02, 7.13019862e-03],\n",
       "       [1.59327019e-01, 2.29049870e-02, 4.64591906e-03, ...,\n",
       "        1.06083666e-02, 1.29155576e-02, 1.25304767e-02],\n",
       "       ...,\n",
       "       [2.14139621e-03, 7.27014621e-04, 1.67237294e-04, ...,\n",
       "        3.30181732e-04, 9.45140234e-05, 2.28074282e-01],\n",
       "       [8.09166847e-03, 5.61059459e-04, 5.27851343e-05, ...,\n",
       "        2.45254626e-04, 1.01941715e-03, 1.96637102e-01],\n",
       "       [7.88763932e-04, 5.59040386e-05, 7.48500107e-05, ...,\n",
       "        9.40025398e-05, 3.69482504e-03, 1.88747798e-01]])"
      ]
     },
     "execution_count": 12,
     "metadata": {},
     "output_type": "execute_result"
    }
   ],
   "source": [
    "predh_raw_avg"
   ]
  },
  {
   "cell_type": "code",
   "execution_count": 14,
   "metadata": {},
   "outputs": [
    {
     "name": "stdout",
     "output_type": "stream",
     "text": [
      "X_train.joblib_dat\n",
      "y_train.joblib_dat\n",
      "lrPredict.joblib_dat\n",
      "xgbPredict.joblib_dat\n",
      "svcPredict.joblib_dat\n"
     ]
    },
    {
     "data": {
      "text/plain": [
       "1"
      ]
     },
     "execution_count": 14,
     "metadata": {},
     "output_type": "execute_result"
    }
   ],
   "source": [
    "import sys\n",
    "sys.path.append(\"../../\")\n",
    "from CommonUtils import *\n",
    "\n",
    "deleteFileByPattern(\"*joblib*\")"
   ]
  },
  {
   "cell_type": "code",
   "execution_count": null,
   "metadata": {},
   "outputs": [],
   "source": []
  }
 ],
 "metadata": {
  "kernelspec": {
   "display_name": "Python 3",
   "language": "python",
   "name": "python3"
  },
  "language_info": {
   "codemirror_mode": {
    "name": "ipython",
    "version": 3
   },
   "file_extension": ".py",
   "mimetype": "text/x-python",
   "name": "python",
   "nbconvert_exporter": "python",
   "pygments_lexer": "ipython3",
   "version": "3.6.4"
  }
 },
 "nbformat": 4,
 "nbformat_minor": 2
}

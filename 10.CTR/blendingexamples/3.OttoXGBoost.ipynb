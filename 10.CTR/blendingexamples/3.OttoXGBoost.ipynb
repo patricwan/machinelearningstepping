{
 "cells": [
  {
   "cell_type": "code",
   "execution_count": 1,
   "metadata": {},
   "outputs": [],
   "source": [
    "from xgboost import XGBClassifier\n",
    "import xgboost as xgb\n",
    "\n",
    "import pandas as pd \n",
    "import numpy as np\n",
    "\n",
    "from joblib import dump, load\n",
    "\n",
    "X_train = load('./X_train.joblib_dat')\n",
    "y_train = load('./y_train.joblib_dat')"
   ]
  },
  {
   "cell_type": "code",
   "execution_count": 2,
   "metadata": {},
   "outputs": [],
   "source": [
    "xgb = XGBClassifier(\n",
    "        learning_rate =0.1,\n",
    "        n_estimators=1000,   \n",
    "        max_depth=6,\n",
    "        min_child_weight=4,\n",
    "        gamma=0,\n",
    "        subsample=0.7,\n",
    "        colsample_bytree=0.6,\n",
    "        colsample_bylevel=0.7,\n",
    "        reg_alpha = 1,\n",
    "        reg_lambda = 0.5,\n",
    "        objective= 'multi:softprob',\n",
    "        seed=3)\n",
    "\n",
    "\n",
    "xgb.fit(X_train, y_train, eval_metric='mlogloss')\n",
    "        \n",
    "#Predict training set:\n",
    "xgbPredict = xgb.predict_proba(X_train)"
   ]
  },
  {
   "cell_type": "code",
   "execution_count": 3,
   "metadata": {},
   "outputs": [
    {
     "name": "stdout",
     "output_type": "stream",
     "text": [
      "[[7.73475587e-01 7.14622047e-06 1.76081321e-05 ... 1.20679860e-03\n",
      "  5.01512643e-03 2.19412986e-03]\n",
      " [3.33316594e-01 9.69311595e-03 5.80343418e-03 ... 1.27683533e-02\n",
      "  5.97229719e-01 8.68865382e-03]\n",
      " [9.08336580e-01 2.43885256e-03 7.13175687e-04 ... 2.80234423e-02\n",
      "  9.28328186e-03 4.47263494e-02]\n",
      " ...\n",
      " [6.97703392e-04 2.14005500e-04 1.62207562e-05 ... 2.29828993e-06\n",
      "  4.12893314e-06 9.99046624e-01]\n",
      " [5.72426617e-03 1.18690165e-04 1.91312301e-05 ... 2.91069911e-04\n",
      "  7.73998536e-03 9.27869976e-01]\n",
      " [3.11446958e-04 7.47332979e-06 9.32422097e-07 ... 1.89009063e-06\n",
      "  7.04769162e-04 9.23175097e-01]]\n"
     ]
    }
   ],
   "source": [
    "print(xgbPredict)"
   ]
  },
  {
   "cell_type": "code",
   "execution_count": 4,
   "metadata": {},
   "outputs": [
    {
     "data": {
      "text/plain": [
       "['./xgbPredict.joblib_dat']"
      ]
     },
     "execution_count": 4,
     "metadata": {},
     "output_type": "execute_result"
    }
   ],
   "source": [
    "dump(xgbPredict, './xgbPredict.joblib_dat')"
   ]
  },
  {
   "cell_type": "code",
   "execution_count": null,
   "metadata": {},
   "outputs": [],
   "source": []
  }
 ],
 "metadata": {
  "kernelspec": {
   "display_name": "Python 3",
   "language": "python",
   "name": "python3"
  },
  "language_info": {
   "codemirror_mode": {
    "name": "ipython",
    "version": 3
   },
   "file_extension": ".py",
   "mimetype": "text/x-python",
   "name": "python",
   "nbconvert_exporter": "python",
   "pygments_lexer": "ipython3",
   "version": "3.6.4"
  }
 },
 "nbformat": 4,
 "nbformat_minor": 2
}

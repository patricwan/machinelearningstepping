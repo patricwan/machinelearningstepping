{
 "cells": [
  {
   "cell_type": "code",
   "execution_count": 30,
   "metadata": {},
   "outputs": [
    {
     "name": "stdout",
     "output_type": "stream",
     "text": [
      "1999\n"
     ]
    }
   ],
   "source": [
    "import numpy as np\n",
    "import pandas as pd \n",
    "\n",
    "\n",
    "import sys\n",
    "sys.path.append(\"../../utils\")\n",
    "from DataUtils import *\n",
    "import os\n",
    "\n",
    "trainfile = os.getcwd() + \"/../../data/criteo/tr.csv\"\n",
    "testfile = os.getcwd() + \"/../../data/criteo/te.csv\"\n",
    "\n",
    "testData = pd.read_csv(testfile)\n",
    "#Append one column as Activity to testData\n",
    "print(testData.shape[0])\n",
    "\n",
    "#append one column with default value. \n",
    "#testData[\"Activity\"] = 0\n",
    "\n",
    "#save df to a local csv file\n",
    "#testData.to_csv(\"./test.csv\")"
   ]
  },
  {
   "cell_type": "code",
   "execution_count": 31,
   "metadata": {},
   "outputs": [
    {
     "name": "stdout",
     "output_type": "stream",
     "text": [
      "would writeToFFMFile\n",
      "/root/github/machinelearningstepping/10.CTR/ffmexamples/../../data/criteo/te.csv\n",
      "would writeToFFMFile\n",
      "/root/github/machinelearningstepping/10.CTR/ffmexamples/../../data/criteo/tr.csv\n"
     ]
    }
   ],
   "source": [
    "writeToFFMFile( testfile, \"./test.ffm\")\n",
    "writeToFFMFile( trainfile, \"./train.ffm\")"
   ]
  },
  {
   "cell_type": "code",
   "execution_count": 29,
   "metadata": {},
   "outputs": [
    {
     "data": {
      "text/plain": [
       "-11"
      ]
     },
     "execution_count": 29,
     "metadata": {},
     "output_type": "execute_result"
    }
   ],
   "source": [
    "\n",
    "import subprocess\n",
    "\n",
    "cmd = '../../tools/libffm-1.13/ffm-train -l 0.001 -k 16 -t 30 -r 0.05 -s 4 train.ffm model' \n",
    "subprocess.call(cmd, shell=True)\n",
    "\n",
    "cmd = '../../tools/libffm-1.13/ffm-predict test.ffm model test.out'\n",
    "subprocess.call(cmd, shell=True)"
   ]
  },
  {
   "cell_type": "code",
   "execution_count": 23,
   "metadata": {},
   "outputs": [],
   "source": [
    "sys.path.append(\"../../\")\n",
    "from CommonUtils import *\n",
    "\n",
    "#deleteFileByPattern(\"train.ffm\")\n",
    "#deleteFileByPattern(\"test.*\")\n",
    "#deleteFileByPattern(\"model\")"
   ]
  }
 ],
 "metadata": {
  "kernelspec": {
   "display_name": "Python 3",
   "language": "python",
   "name": "python3"
  },
  "language_info": {
   "codemirror_mode": {
    "name": "ipython",
    "version": 3
   },
   "file_extension": ".py",
   "mimetype": "text/x-python",
   "name": "python",
   "nbconvert_exporter": "python",
   "pygments_lexer": "ipython3",
   "version": "3.6.4"
  }
 },
 "nbformat": 4,
 "nbformat_minor": 2
}

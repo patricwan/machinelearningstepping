{
 "cells": [
  {
   "cell_type": "code",
   "execution_count": 2,
   "metadata": {},
   "outputs": [
    {
     "name": "stdout",
     "output_type": "stream",
     "text": [
      "\n",
      "keywords by textrank:\n",
      "['线程', '进程', '单位', '基本', '调度', '分派', '局部变量', '堆栈', '资源', '程序执行']\n"
     ]
    }
   ],
   "source": [
    "#-*- coding=utf8 -*-\n",
    "from jieba import analyse \n",
    "# 引入TextRank关键词抽取接口 \n",
    "textrank = analyse.textrank # 原始文本 \n",
    "text = \"非常线程是程序执行时的最小单位，它是进程的一个执行流，\\ 是CPU调度和分派的基本单位，一个进程可以由很多个线程组成，\\ 线程间共享进程的所有资源，每个线程有自己的堆栈和局部变量。\\ 线程由CPU独立调度执行，在多CPU环境下就允许多个线程同时运行。\\ 同样多线程也可以实现并发操作，每个请求分配一个线程来处理。\"\n",
    "print (\"\\nkeywords by textrank:\") # 基于TextRank算法进行关键词抽取 \n",
    "keywords = textrank(text,topK=10,withWeight=True,allowPOS=('ns', 'n'))\n",
    "\n",
    "# 输出抽取出的关键词 f\n",
    "words=[keyword for keyword,w in keywords if w>0.2]\n",
    "print(words)"
   ]
  },
  {
   "cell_type": "code",
   "execution_count": null,
   "metadata": {},
   "outputs": [],
   "source": []
  }
 ],
 "metadata": {
  "kernelspec": {
   "display_name": "Python 3",
   "language": "python",
   "name": "python3"
  },
  "language_info": {
   "codemirror_mode": {
    "name": "ipython",
    "version": 3
   },
   "file_extension": ".py",
   "mimetype": "text/x-python",
   "name": "python",
   "nbconvert_exporter": "python",
   "pygments_lexer": "ipython3",
   "version": "3.6.4"
  }
 },
 "nbformat": 4,
 "nbformat_minor": 2
}

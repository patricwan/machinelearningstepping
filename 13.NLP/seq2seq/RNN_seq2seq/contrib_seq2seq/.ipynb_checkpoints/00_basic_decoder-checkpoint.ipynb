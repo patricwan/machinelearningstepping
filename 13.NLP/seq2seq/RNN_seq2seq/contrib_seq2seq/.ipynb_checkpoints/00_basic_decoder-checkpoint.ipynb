{
 "cells": [
  {
   "cell_type": "markdown",
   "metadata": {},
   "source": [
    "Reference: https://github.com/tensorflow/tensorflow/blob/r1.1/tensorflow/contrib/seq2seq/python/kernel_tests/basic_decoder_test.py"
   ]
  },
  {
   "cell_type": "code",
   "execution_count": 5,
   "metadata": {
    "collapsed": false
   },
   "outputs": [],
   "source": [
    "import numpy as np\n",
    "import tensorflow as tf\n",
    "from pprint import pprint\n",
    "from tensorflow.python.framework import tensor_shape\n",
    "from tensorflow.contrib.rnn import BasicRNNCell"
   ]
  },
  {
   "cell_type": "code",
   "execution_count": 6,
   "metadata": {
    "collapsed": true
   },
   "outputs": [],
   "source": [
    "from tensorflow.contrib.seq2seq.python.ops.basic_decoder import BasicDecoder, BasicDecoderOutput\n",
    "from tensorflow.contrib.seq2seq.python.ops.helper import TrainingHelper\n",
    "from tensorflow.python.layers.core import Dense"
   ]
  },
  {
   "cell_type": "code",
   "execution_count": 7,
   "metadata": {
    "collapsed": true
   },
   "outputs": [],
   "source": [
    "sequence_length = [3, 4, 3, 1, 0]\n",
    "batch_size = 5\n",
    "max_time = 8\n",
    "input_size = 7\n",
    "hidden_size = 10\n",
    "output_size = 3\n",
    "\n",
    "inputs = np.random.randn(batch_size, max_time, input_size).astype(np.float32)\n",
    "\n",
    "output_layer = Dense(output_size) # will get a trainable variable size [hidden_size x output_size]"
   ]
  },
  {
   "cell_type": "code",
   "execution_count": 8,
   "metadata": {
    "collapsed": false
   },
   "outputs": [
    {
     "data": {
      "text/plain": [
       "{'_activity_regularizer': None,\n",
       " '_base_name': 'dense',\n",
       " '_call_convention': <CallConvention.EXPLICIT_INPUTS_ARGUMENT: 1>,\n",
       " '_call_fn_args': ('inputs',),\n",
       " '_call_has_scope_arg': False,\n",
       " '_call_is_graph_friendly': True,\n",
       " '_callable_losses': [],\n",
       " '_compute_previous_mask': True,\n",
       " '_current_scope': None,\n",
       " '_dtype': None,\n",
       " '_eager_losses': [],\n",
       " '_expects_training_arg': False,\n",
       " '_graph': None,\n",
       " '_inbound_nodes': [],\n",
       " '_initial_weights': None,\n",
       " '_keras_style': False,\n",
       " '_layers': [],\n",
       " '_losses': [],\n",
       " '_metrics': [],\n",
       " '_metrics_tensors': {},\n",
       " '_name': 'dense_1',\n",
       " '_non_trainable_weights': [],\n",
       " '_outbound_nodes': [],\n",
       " '_reuse': None,\n",
       " '_scope': None,\n",
       " '_setattr_tracking': True,\n",
       " '_trainable_weights': [],\n",
       " '_updates': [],\n",
       " '_use_resource_variables': False,\n",
       " 'activation': <function tensorflow.python.keras.activations.linear>,\n",
       " 'bias_constraint': None,\n",
       " 'bias_initializer': <tensorflow.python.ops.init_ops.Zeros at 0x7fa826e44cc0>,\n",
       " 'bias_regularizer': None,\n",
       " 'built': False,\n",
       " 'input_spec': InputSpec(min_ndim=2),\n",
       " 'kernel_constraint': None,\n",
       " 'kernel_initializer': None,\n",
       " 'kernel_regularizer': None,\n",
       " 'stateful': False,\n",
       " 'supports_masking': True,\n",
       " 'trainable': True,\n",
       " 'units': 3,\n",
       " 'use_bias': True}"
      ]
     },
     "execution_count": 8,
     "metadata": {},
     "output_type": "execute_result"
    }
   ],
   "source": [
    "output_layer.__dict__ # doesn't have any variable yet"
   ]
  },
  {
   "cell_type": "markdown",
   "metadata": {},
   "source": [
    "#### Prepare decoder cell"
   ]
  },
  {
   "cell_type": "code",
   "execution_count": 9,
   "metadata": {
    "collapsed": true
   },
   "outputs": [],
   "source": [
    "dec_cell = BasicRNNCell(hidden_size)"
   ]
  },
  {
   "cell_type": "markdown",
   "metadata": {},
   "source": [
    "#### Prepare Helper"
   ]
  },
  {
   "cell_type": "code",
   "execution_count": 10,
   "metadata": {
    "collapsed": true
   },
   "outputs": [],
   "source": [
    "helper = TrainingHelper(inputs, sequence_length)"
   ]
  },
  {
   "cell_type": "markdown",
   "metadata": {},
   "source": [
    "#### Prepare Decoder"
   ]
  },
  {
   "cell_type": "code",
   "execution_count": 11,
   "metadata": {
    "collapsed": true
   },
   "outputs": [],
   "source": [
    "decoder = BasicDecoder(\n",
    "    cell=dec_cell,\n",
    "    helper=helper,\n",
    "    initial_state=dec_cell.zero_state(dtype=tf.float32, batch_size=batch_size),\n",
    "    output_layer=output_layer)"
   ]
  },
  {
   "cell_type": "markdown",
   "metadata": {},
   "source": [
    "#### check decoder attributes"
   ]
  },
  {
   "cell_type": "code",
   "execution_count": 12,
   "metadata": {
    "collapsed": false
   },
   "outputs": [
    {
     "data": {
      "text/plain": [
       "{'_cell': <tensorflow.python.ops.rnn_cell_impl.BasicRNNCell at 0x7fa81cf3e470>,\n",
       " '_helper': <tensorflow.contrib.seq2seq.python.ops.helper.TrainingHelper at 0x7fa81cf3e208>,\n",
       " '_initial_state': <tf.Tensor 'BasicRNNCellZeroState/zeros:0' shape=(5, 10) dtype=float32>,\n",
       " '_output_layer': <tensorflow.python.layers.core.Dense at 0x7fa81cf3e668>}"
      ]
     },
     "execution_count": 12,
     "metadata": {},
     "output_type": "execute_result"
    }
   ],
   "source": [
    "decoder.__dict__"
   ]
  },
  {
   "cell_type": "code",
   "execution_count": 13,
   "metadata": {
    "collapsed": false
   },
   "outputs": [
    {
     "data": {
      "text/plain": [
       "['_abc_cache',\n",
       " '_abc_negative_cache',\n",
       " '_abc_negative_cache_version',\n",
       " '_abc_registry',\n",
       " '_cell',\n",
       " '_helper',\n",
       " '_initial_state',\n",
       " '_output_layer',\n",
       " '_rnn_output_size',\n",
       " 'batch_size',\n",
       " 'finalize',\n",
       " 'initialize',\n",
       " 'output_dtype',\n",
       " 'output_size',\n",
       " 'step',\n",
       " 'tracks_own_finished']"
      ]
     },
     "execution_count": 13,
     "metadata": {},
     "output_type": "execute_result"
    }
   ],
   "source": [
    "[attr for attr in dir(decoder) if '__' not in attr]"
   ]
  },
  {
   "cell_type": "code",
   "execution_count": 14,
   "metadata": {
    "collapsed": false
   },
   "outputs": [
    {
     "name": "stdout",
     "output_type": "stream",
     "text": [
      "BasicDecoderOutput(rnn_output=TensorShape([Dimension(3)]), sample_id=TensorShape([]))\n",
      "BasicDecoderOutput(rnn_output=tf.float32, sample_id=tf.int32)\n",
      "Tensor(\"TrainingHelper/Size:0\", shape=(), dtype=int32)\n"
     ]
    }
   ],
   "source": [
    "print(decoder.output_size)\n",
    "print(decoder.output_dtype)\n",
    "print(decoder.batch_size)"
   ]
  },
  {
   "cell_type": "markdown",
   "metadata": {},
   "source": [
    "#### Initialize states"
   ]
  },
  {
   "cell_type": "code",
   "execution_count": 15,
   "metadata": {
    "collapsed": false,
    "scrolled": true
   },
   "outputs": [
    {
     "data": {
      "text/plain": [
       "(<tf.Tensor 'TrainingHelperInitialize/Equal:0' shape=(5,) dtype=bool>,\n",
       " <tf.Tensor 'TrainingHelperInitialize/cond/Merge:0' shape=(5, 7) dtype=float32>,\n",
       " <tf.Tensor 'BasicRNNCellZeroState/zeros:0' shape=(5, 10) dtype=float32>)"
      ]
     },
     "execution_count": 15,
     "metadata": {},
     "output_type": "execute_result"
    }
   ],
   "source": [
    "first_finished, first_inputs, first_state = decoder.initialize()\n",
    "(first_finished, first_inputs, first_state)\n",
    "# first_finished: [batch_size]\n",
    "# first_inputs: [batch_size x input_size]\n",
    "# first_state: [batch_size x hidden_size]"
   ]
  },
  {
   "cell_type": "markdown",
   "metadata": {},
   "source": [
    "#### Unroll single step"
   ]
  },
  {
   "cell_type": "code",
   "execution_count": 16,
   "metadata": {
    "collapsed": false,
    "scrolled": true
   },
   "outputs": [
    {
     "data": {
      "text/plain": [
       "(BasicDecoderOutput(rnn_output=<tf.Tensor 'BasicDecoderStep/dense/BiasAdd:0' shape=(5, 3) dtype=float32>, sample_id=<tf.Tensor 'BasicDecoderStep/TrainingHelperSample/Cast:0' shape=(5,) dtype=int32>),\n",
       " <tf.Tensor 'BasicDecoderStep/basic_rnn_cell/Tanh:0' shape=(5, 10) dtype=float32>,\n",
       " <tf.Tensor 'BasicDecoderStep/TrainingHelperNextInputs/cond/Merge:0' shape=(5, 7) dtype=float32>,\n",
       " <tf.Tensor 'BasicDecoderStep/TrainingHelperNextInputs/GreaterEqual:0' shape=(5,) dtype=bool>)"
      ]
     },
     "execution_count": 16,
     "metadata": {},
     "output_type": "execute_result"
    }
   ],
   "source": [
    "step_outputs, step_state, step_next_inputs, step_finished = decoder.step(\n",
    "    tf.constant(0), first_inputs, first_state)\n",
    "(step_outputs, step_state, step_next_inputs, step_finished)\n",
    "# step_outputs.rnn_output: [batch_size x output_size]\n",
    "# step_outputs.sample_id: [batch_size]\n",
    "# step_state: [batch_size x max_time]\n",
    "# step_next_inputs: [batch_size x input_size]\n",
    "# step_finished: [batch_size]"
   ]
  },
  {
   "cell_type": "markdown",
   "metadata": {},
   "source": [
    "#### output_layer got variable finally!\n",
    "https://github.com/tensorflow/tensorflow/blob/r1.1/tensorflow/contrib/seq2seq/python/ops/basic_decoder.py#L141\n",
    "```\n",
    "def step(self, time. inputs, state, name=None):\n",
    "...\n",
    "if self._output_layer is not None:\n",
    "    cell_outputs = self._output_layer(cell_outputs)\n",
    "...\n",
    "```"
   ]
  },
  {
   "cell_type": "code",
   "execution_count": 17,
   "metadata": {
    "collapsed": false,
    "scrolled": true
   },
   "outputs": [
    {
     "data": {
      "text/plain": [
       "{'_activity_regularizer': None,\n",
       " '_base_name': 'dense',\n",
       " '_call_convention': <CallConvention.EXPLICIT_INPUTS_ARGUMENT: 1>,\n",
       " '_call_fn_args': ('inputs',),\n",
       " '_call_has_scope_arg': False,\n",
       " '_call_is_graph_friendly': True,\n",
       " '_callable_losses': [],\n",
       " '_compute_previous_mask': True,\n",
       " '_current_scope': <tensorflow.python.ops.variable_scope.VariableScope at 0x7fa81c5ad630>,\n",
       " '_dtype': 'float32',\n",
       " '_eager_losses': [],\n",
       " '_expects_training_arg': False,\n",
       " '_graph': <tensorflow.python.framework.ops.Graph at 0x7fa81cf3e6a0>,\n",
       " '_inbound_nodes': [],\n",
       " '_initial_weights': None,\n",
       " '_keras_style': False,\n",
       " '_layers': [],\n",
       " '_losses': [],\n",
       " '_metrics': [],\n",
       " '_metrics_tensors': {},\n",
       " '_name': 'dense_1',\n",
       " '_name_based_restores': set(),\n",
       " '_non_trainable_weights': [],\n",
       " '_outbound_nodes': [],\n",
       " '_reuse': None,\n",
       " '_scope': <tensorflow.python.ops.variable_scope.VariableScope at 0x7fa81c60f160>,\n",
       " '_setattr_tracking': True,\n",
       " '_trainable_weights': [<tf.Variable 'dense/kernel:0' shape=(10, 3) dtype=float32_ref>,\n",
       "  <tf.Variable 'dense/bias:0' shape=(3,) dtype=float32_ref>],\n",
       " '_unconditional_checkpoint_dependencies': [CheckpointableReference(name='kernel', ref=<tf.Variable 'dense/kernel:0' shape=(10, 3) dtype=float32_ref>),\n",
       "  CheckpointableReference(name='bias', ref=<tf.Variable 'dense/bias:0' shape=(3,) dtype=float32_ref>)],\n",
       " '_unconditional_deferred_dependencies': {},\n",
       " '_unconditional_dependency_names': {'bias': <tf.Variable 'dense/bias:0' shape=(3,) dtype=float32_ref>,\n",
       "  'kernel': <tf.Variable 'dense/kernel:0' shape=(10, 3) dtype=float32_ref>},\n",
       " '_update_uid': -1,\n",
       " '_updates': [],\n",
       " '_use_resource_variables': False,\n",
       " 'activation': <function tensorflow.python.keras.activations.linear>,\n",
       " 'bias': <tf.Variable 'dense/bias:0' shape=(3,) dtype=float32_ref>,\n",
       " 'bias_constraint': None,\n",
       " 'bias_initializer': <tensorflow.python.ops.init_ops.Zeros at 0x7fa826e44cc0>,\n",
       " 'bias_regularizer': None,\n",
       " 'built': True,\n",
       " 'input_spec': InputSpec(min_ndim=2, axes={-1: 10}),\n",
       " 'kernel': <tf.Variable 'dense/kernel:0' shape=(10, 3) dtype=float32_ref>,\n",
       " 'kernel_constraint': None,\n",
       " 'kernel_initializer': None,\n",
       " 'kernel_regularizer': None,\n",
       " 'stateful': False,\n",
       " 'supports_masking': True,\n",
       " 'trainable': True,\n",
       " 'units': 3,\n",
       " 'use_bias': True}"
      ]
     },
     "execution_count": 17,
     "metadata": {},
     "output_type": "execute_result"
    }
   ],
   "source": [
    "output_layer.__dict__"
   ]
  },
  {
   "cell_type": "markdown",
   "metadata": {},
   "source": [
    "#### Run Graph"
   ]
  },
  {
   "cell_type": "code",
   "execution_count": 18,
   "metadata": {
    "collapsed": false,
    "scrolled": true
   },
   "outputs": [
    {
     "name": "stdout",
     "output_type": "stream",
     "text": [
      "{'batch_size': 5,\n",
      " 'first_finished': array([False, False, False, False,  True], dtype=bool),\n",
      " 'first_inputs': array([[ 0.75232285, -0.02292349, -2.90535545,  0.05177674,  1.51181161,\n",
      "        -0.12898426,  0.88194281],\n",
      "       [-0.17879879, -2.38547063, -1.37810051, -0.72269857,  0.28577724,\n",
      "        -2.16516256, -0.159347  ],\n",
      "       [ 0.01417805, -0.97386736,  0.81088692,  0.69894439,  0.90808183,\n",
      "        -1.13771713, -0.69871438],\n",
      "       [-2.2722466 ,  0.1222287 , -1.12543499,  0.80957299,  1.45835578,\n",
      "         0.01322922, -0.32287353],\n",
      "       [-0.43439722,  0.02532466,  1.02829003,  0.04045961, -0.17629686,\n",
      "         1.07450461, -1.40510702]], dtype=float32),\n",
      " 'first_state': array([[ 0.,  0.,  0.,  0.,  0.,  0.,  0.,  0.,  0.,  0.],\n",
      "       [ 0.,  0.,  0.,  0.,  0.,  0.,  0.,  0.,  0.,  0.],\n",
      "       [ 0.,  0.,  0.,  0.,  0.,  0.,  0.,  0.,  0.,  0.],\n",
      "       [ 0.,  0.,  0.,  0.,  0.,  0.,  0.,  0.,  0.,  0.],\n",
      "       [ 0.,  0.,  0.,  0.,  0.,  0.,  0.,  0.,  0.,  0.]], dtype=float32),\n",
      " 'step_finished': array([False, False, False,  True,  True], dtype=bool),\n",
      " 'step_next_inputs': array([[ 0.42520392, -0.5931555 ,  0.23221819,  0.98288542, -0.8709076 ,\n",
      "         0.31026259, -0.03118031],\n",
      "       [ 0.43796104,  0.0544982 , -1.00407612, -0.33304298,  0.30506042,\n",
      "        -1.02225399,  1.4351095 ],\n",
      "       [ 1.43531013, -0.3822397 ,  0.70378709,  0.36091867, -1.04961967,\n",
      "        -0.13346058,  0.64490432],\n",
      "       [-1.00403142, -1.02085674, -1.00991118, -0.08392135, -0.61536455,\n",
      "         1.34314251,  0.70906067],\n",
      "       [-1.66840386,  0.07398501,  0.14349271, -1.29181767, -0.0243344 ,\n",
      "        -0.05776058, -0.3795864 ]], dtype=float32),\n",
      " 'step_outputs': BasicDecoderOutput(rnn_output=array([[-1.21852505,  0.09516603,  0.21129209],\n",
      "       [ 0.01993129,  0.71492654,  0.46996006],\n",
      "       [ 0.09856246,  0.46593022, -0.14949551],\n",
      "       [-0.15325813,  0.93225634,  0.83223414],\n",
      "       [ 0.19299805, -0.34066659, -0.43444708]], dtype=float32), sample_id=array([2, 1, 1, 1, 0], dtype=int32)),\n",
      " 'step_state': array([[ 0.66487062, -0.9062916 ,  0.1224974 ,  0.35108918, -0.542602  ,\n",
      "        -0.98787171,  0.22209299, -0.21848541,  0.94057173,  0.36803284],\n",
      "       [-0.2872484 ,  0.45815966,  0.45013714, -0.52529651, -0.81947237,\n",
      "         0.42450419, -0.01694519,  0.58564007,  0.95792425,  0.98678946],\n",
      "       [-0.4577423 ,  0.05513412,  0.11350024, -0.80981481, -0.73865318,\n",
      "         0.45974648, -0.18302889,  0.5856685 ,  0.40955749,  0.74007344],\n",
      "       [ 0.21019822, -0.13411319,  0.72728962,  0.4489989 ,  0.0365198 ,\n",
      "        -0.35897136,  0.686827  , -0.85688525,  0.44505435,  0.60976118],\n",
      "       [ 0.2857911 ,  0.33357987, -0.53917992,  0.01566383,  0.44430491,\n",
      "         0.68590951, -0.15785791, -0.48966449, -0.87565315, -0.09759742]], dtype=float32)}\n"
     ]
    }
   ],
   "source": [
    "with tf.Session() as sess:\n",
    "    sess.run(tf.global_variables_initializer())\n",
    "    results = sess.run({\n",
    "        \"batch_size\": decoder.batch_size,\n",
    "        \"first_finished\": first_finished,\n",
    "        \"first_inputs\": first_inputs,\n",
    "        \"first_state\": first_state,\n",
    "        \"step_outputs\": step_outputs,\n",
    "        \"step_state\": step_state,\n",
    "        \"step_next_inputs\": step_next_inputs,\n",
    "        \"step_finished\": step_finished})\n",
    "pprint(results)"
   ]
  },
  {
   "cell_type": "markdown",
   "metadata": {},
   "source": [
    "##### Note that\n",
    "- `first_finished[4] == True`\n",
    "- Because `sequence_length[4]` is 0 (recall that `sequence_length=[3, 4, 3, 1, 0]`)\n",
    "\n",
    "\n",
    "- `step_finished[3]` and `step_finished[4]` are both `True`\n",
    "- After one step of unrolling, the 3rd batch is also completed"
   ]
  },
  {
   "cell_type": "code",
   "execution_count": null,
   "metadata": {
    "collapsed": true
   },
   "outputs": [],
   "source": []
  },
  {
   "cell_type": "code",
   "execution_count": null,
   "metadata": {
    "collapsed": true
   },
   "outputs": [],
   "source": []
  }
 ],
 "metadata": {
  "anaconda-cloud": {},
  "kernelspec": {
   "display_name": "Python 3",
   "language": "python",
   "name": "python3"
  },
  "language_info": {
   "codemirror_mode": {
    "name": "ipython",
    "version": 3
   },
   "file_extension": ".py",
   "mimetype": "text/x-python",
   "name": "python",
   "nbconvert_exporter": "python",
   "pygments_lexer": "ipython3",
   "version": "3.6.4"
  }
 },
 "nbformat": 4,
 "nbformat_minor": 2
}

{
 "cells": [
  {
   "cell_type": "markdown",
   "metadata": {},
   "source": [
    "### Import Modules"
   ]
  },
  {
   "cell_type": "code",
   "execution_count": 1,
   "metadata": {
    "collapsed": true
   },
   "outputs": [],
   "source": [
    "# To plot learning curve graph\n",
    "%matplotlib inline\n",
    "import matplotlib.pyplot as plt\n",
    "\n",
    "# for pretty print\n",
    "from pprint import pprint\n",
    "\n",
    "# for tokenizer\n",
    "import re\n",
    "\n",
    "# for word counter in vocabulary dictionary\n",
    "from collections import Counter\n",
    "\n",
    "# TensorFlow of Course :)\n",
    "import tensorflow as tf\n",
    "\n",
    "# The paths of RNNCell or rnn functions are too long.\n",
    "from tensorflow.contrib.legacy_seq2seq.python.ops import *\n",
    "from tensorflow.contrib.rnn.python.ops.core_rnn_cell import *\n",
    "from tensorflow.contrib.legacy_seq2seq.python.ops.seq2seq import *"
   ]
  },
  {
   "cell_type": "markdown",
   "metadata": {},
   "source": [
    "### Sample training data"
   ]
  },
  {
   "cell_type": "code",
   "execution_count": 2,
   "metadata": {
    "collapsed": true
   },
   "outputs": [],
   "source": [
    "enc_sentence_length = 10\n",
    "dec_sentence_length = 10\n",
    "batch_size = 4"
   ]
  },
  {
   "cell_type": "code",
   "execution_count": 3,
   "metadata": {
    "collapsed": true
   },
   "outputs": [],
   "source": [
    "input_batches = [\n",
    "    ['Hi What is your name?', 'Nice to meet you!'],\n",
    "    ['Which programming language do you use?', 'See you later.'],\n",
    "    ['Where do you live?', 'What is your major?'],\n",
    "    ['What do you want to drink?', 'What is your favorite beer?']]\n",
    "\n",
    "target_batches = [\n",
    "    ['Hi this is Jaemin.', 'Nice to meet you too!'],\n",
    "    ['I like Python.', 'Bye Bye.'],\n",
    "    ['I live in Seoul, South Korea.', 'I study industrial engineering.'],\n",
    "    ['Beer please!', 'Leffe brown!']]"
   ]
  },
  {
   "cell_type": "code",
   "execution_count": 4,
   "metadata": {},
   "outputs": [
    {
     "data": {
      "text/plain": [
       "['Hi What is your name?',\n",
       " 'Nice to meet you!',\n",
       " 'Which programming language do you use?',\n",
       " 'See you later.',\n",
       " 'Where do you live?',\n",
       " 'What is your major?',\n",
       " 'What do you want to drink?',\n",
       " 'What is your favorite beer?']"
      ]
     },
     "execution_count": 4,
     "metadata": {},
     "output_type": "execute_result"
    }
   ],
   "source": [
    "all_input_sentences = []\n",
    "for input_batch in input_batches:\n",
    "    all_input_sentences.extend(input_batch)\n",
    "    \n",
    "all_target_sentences = []\n",
    "for target_batch in target_batches:\n",
    "    all_target_sentences.extend(target_batch)\n",
    "\n",
    "# Example\n",
    "all_input_sentences"
   ]
  },
  {
   "cell_type": "markdown",
   "metadata": {},
   "source": [
    "### NLP helper functions"
   ]
  },
  {
   "cell_type": "code",
   "execution_count": 5,
   "metadata": {},
   "outputs": [
    {
     "data": {
      "text/plain": [
       "['Hello', 'world', '?', '?', '\"', 'sdfs', '%', '@', '#', '%']"
      ]
     },
     "execution_count": 5,
     "metadata": {},
     "output_type": "execute_result"
    }
   ],
   "source": [
    "def tokenizer(sentence):\n",
    "    tokens = re.findall(r\"[\\w]+|[^\\s\\w]\", sentence)\n",
    "    return tokens\n",
    "\n",
    "# Example\n",
    "tokenizer('Hello world?? \"sdfs%@#%')"
   ]
  },
  {
   "cell_type": "code",
   "execution_count": 6,
   "metadata": {
    "scrolled": true
   },
   "outputs": [
    {
     "name": "stdout",
     "output_type": "stream",
     "text": [
      "({'!': 18,\n",
      "  '.': 22,\n",
      "  '?': 1,\n",
      "  'Hi': 12,\n",
      "  'Nice': 23,\n",
      "  'See': 15,\n",
      "  'What': 3,\n",
      "  'Where': 8,\n",
      "  'Which': 24,\n",
      "  '_PAD': 0,\n",
      "  'beer': 19,\n",
      "  'do': 4,\n",
      "  'drink': 9,\n",
      "  'favorite': 26,\n",
      "  'is': 5,\n",
      "  'language': 20,\n",
      "  'later': 16,\n",
      "  'live': 25,\n",
      "  'major': 13,\n",
      "  'meet': 11,\n",
      "  'name': 14,\n",
      "  'programming': 10,\n",
      "  'to': 7,\n",
      "  'use': 17,\n",
      "  'want': 21,\n",
      "  'you': 2,\n",
      "  'your': 6},\n",
      " {0: '_PAD',\n",
      "  1: '?',\n",
      "  2: 'you',\n",
      "  3: 'What',\n",
      "  4: 'do',\n",
      "  5: 'is',\n",
      "  6: 'your',\n",
      "  7: 'to',\n",
      "  8: 'Where',\n",
      "  9: 'drink',\n",
      "  10: 'programming',\n",
      "  11: 'meet',\n",
      "  12: 'Hi',\n",
      "  13: 'major',\n",
      "  14: 'name',\n",
      "  15: 'See',\n",
      "  16: 'later',\n",
      "  17: 'use',\n",
      "  18: '!',\n",
      "  19: 'beer',\n",
      "  20: 'language',\n",
      "  21: 'want',\n",
      "  22: '.',\n",
      "  23: 'Nice',\n",
      "  24: 'Which',\n",
      "  25: 'live',\n",
      "  26: 'favorite'},\n",
      " 26)\n",
      "\n",
      "\n",
      "({'!': 3,\n",
      "  ',': 22,\n",
      "  '.': 1,\n",
      "  'Beer': 19,\n",
      "  'Bye': 4,\n",
      "  'Hi': 12,\n",
      "  'I': 2,\n",
      "  'Jaemin': 9,\n",
      "  'Korea': 18,\n",
      "  'Leffe': 14,\n",
      "  'Nice': 23,\n",
      "  'Python': 16,\n",
      "  'Seoul': 21,\n",
      "  'South': 25,\n",
      "  '_PAD': 0,\n",
      "  'brown': 28,\n",
      "  'engineering': 10,\n",
      "  'in': 17,\n",
      "  'industrial': 27,\n",
      "  'is': 7,\n",
      "  'like': 8,\n",
      "  'live': 26,\n",
      "  'meet': 11,\n",
      "  'please': 20,\n",
      "  'study': 13,\n",
      "  'this': 5,\n",
      "  'to': 24,\n",
      "  'too': 6,\n",
      "  'you': 15},\n",
      " {0: '_PAD',\n",
      "  1: '.',\n",
      "  2: 'I',\n",
      "  3: '!',\n",
      "  4: 'Bye',\n",
      "  5: 'this',\n",
      "  6: 'too',\n",
      "  7: 'is',\n",
      "  8: 'like',\n",
      "  9: 'Jaemin',\n",
      "  10: 'engineering',\n",
      "  11: 'meet',\n",
      "  12: 'Hi',\n",
      "  13: 'study',\n",
      "  14: 'Leffe',\n",
      "  15: 'you',\n",
      "  16: 'Python',\n",
      "  17: 'in',\n",
      "  18: 'Korea',\n",
      "  19: 'Beer',\n",
      "  20: 'please',\n",
      "  21: 'Seoul',\n",
      "  22: ',',\n",
      "  23: 'Nice',\n",
      "  24: 'to',\n",
      "  25: 'South',\n",
      "  26: 'live',\n",
      "  27: 'industrial',\n",
      "  28: 'brown'},\n",
      " 28)\n"
     ]
    }
   ],
   "source": [
    "def build_vocab(sentences, is_target=False, max_vocab_size=None):\n",
    "    word_counter = Counter()\n",
    "    vocab = dict()\n",
    "    reverse_vocab = dict()\n",
    "    \n",
    "    for sentence in sentences:\n",
    "        tokens = tokenizer(sentence)\n",
    "        word_counter.update(tokens)\n",
    "        \n",
    "    if max_vocab_size is None:\n",
    "        max_vocab_size = len(word_counter)\n",
    "    \n",
    "    if is_target:\n",
    "        vocab['_GO'] = 0\n",
    "        vocab['_PAD'] = 1\n",
    "        vocab_idx = 2\n",
    "        for key, value in word_counter.most_common(max_vocab_size):\n",
    "            vocab[key] = vocab_idx\n",
    "            vocab_idx += 1\n",
    "    else:\n",
    "        vocab['_PAD'] = 0\n",
    "        vocab_idx = 1\n",
    "        for key, value in word_counter.most_common(max_vocab_size):\n",
    "            vocab[key] = vocab_idx\n",
    "            vocab_idx += 1\n",
    "            \n",
    "    for key, value in vocab.items():\n",
    "        reverse_vocab[value] = key\n",
    "            \n",
    "    return vocab, reverse_vocab, max_vocab_size\n",
    "\n",
    "# Example\n",
    "pprint(build_vocab(all_input_sentences))\n",
    "print('\\n')\n",
    "pprint(build_vocab(all_target_sentences))"
   ]
  },
  {
   "cell_type": "code",
   "execution_count": 7,
   "metadata": {
    "collapsed": true
   },
   "outputs": [],
   "source": [
    "enc_vocab, enc_reverse_vocab, enc_vocab_size = build_vocab(all_input_sentences)\n",
    "dec_vocab, dec_reverse_vocab, dec_vocab_size = build_vocab(all_target_sentences, is_target=True)"
   ]
  },
  {
   "cell_type": "code",
   "execution_count": 8,
   "metadata": {},
   "outputs": [
    {
     "name": "stdout",
     "output_type": "stream",
     "text": [
      "Nice 23\n",
      "to 7\n",
      "meet 11\n",
      "you 2\n",
      "! 18\n"
     ]
    }
   ],
   "source": [
    "def token2idx(word, vocab):\n",
    "    return vocab[word]\n",
    "\n",
    "for token in tokenizer('Nice to meet you!'):\n",
    "    print(token, token2idx(token, enc_vocab))"
   ]
  },
  {
   "cell_type": "code",
   "execution_count": 9,
   "metadata": {
    "scrolled": false
   },
   "outputs": [
    {
     "name": "stdout",
     "output_type": "stream",
     "text": [
      "Hi What is your name?\n",
      "([12, 3, 5, 6, 14, 1, 0, 0, 0, 0], 6)\n",
      "Hi this is Jaemin.\n",
      "[0, 13, 6, 8, 10, 2, 1, 1, 1, 1, 1]\n"
     ]
    }
   ],
   "source": [
    "def sent2idx(sent, vocab=enc_vocab, max_sentence_length=enc_sentence_length, is_target=False):\n",
    "    tokens = tokenizer(sent)\n",
    "    current_length = len(tokens)\n",
    "    pad_length = max_sentence_length - current_length\n",
    "    if is_target:\n",
    "        return [0] + [token2idx(token, vocab) for token in tokens] + [1] * pad_length\n",
    "    else:\n",
    "        return [token2idx(token, vocab) for token in tokens] + [0] * pad_length, current_length\n",
    "\n",
    "# Enc Example\n",
    "print('Hi What is your name?')\n",
    "print(sent2idx('Hi What is your name?'))\n",
    "\n",
    "# Dec Example\n",
    "print('Hi this is Jaemin.')\n",
    "print(sent2idx('Hi this is Jaemin.', vocab=dec_vocab, max_sentence_length=dec_sentence_length, is_target=True))"
   ]
  },
  {
   "cell_type": "code",
   "execution_count": 10,
   "metadata": {
    "collapsed": true
   },
   "outputs": [],
   "source": [
    "def idx2token(idx, reverse_vocab):\n",
    "    return reverse_vocab[idx]\n",
    "\n",
    "def idx2sent(indices, reverse_vocab=dec_reverse_vocab):\n",
    "    return \" \".join([idx2token(idx, reverse_vocab) for idx in indices])"
   ]
  },
  {
   "cell_type": "markdown",
   "metadata": {},
   "source": [
    "### Hyperparameters"
   ]
  },
  {
   "cell_type": "code",
   "execution_count": 11,
   "metadata": {
    "collapsed": true
   },
   "outputs": [],
   "source": [
    "n_epoch = 2000\n",
    "n_enc_layer = 3\n",
    "n_dec_layer = 3\n",
    "hidden_size = 30\n",
    "\n",
    "enc_emb_size = 30\n",
    "dec_emb_size = 30"
   ]
  },
  {
   "cell_type": "markdown",
   "metadata": {},
   "source": [
    "### Build Graph"
   ]
  },
  {
   "cell_type": "code",
   "execution_count": 13,
   "metadata": {
    "scrolled": false
   },
   "outputs": [],
   "source": [
    "tf.reset_default_graph()\n",
    "\n",
    "enc_inputs = tf.placeholder(\n",
    "    tf.int32,\n",
    "    shape=[None, enc_sentence_length],\n",
    "    name='input_sentences')\n",
    "\n",
    "sequence_lengths = tf.placeholder(\n",
    "    tf.int32,\n",
    "    shape=[None],\n",
    "    name='sentences_length')\n",
    "\n",
    "dec_inputs = tf.placeholder(\n",
    "    tf.int32,\n",
    "    shape=[None, dec_sentence_length+1],\n",
    "    name='output_sentences')\n",
    "\n",
    "# batch_major => time_major\n",
    "enc_inputs_t = tf.transpose(enc_inputs, [1,0])\n",
    "dec_inputs_t = tf.transpose(dec_inputs, [1,0])\n",
    "\n",
    "cell = tf.nn.rnn_cell.BasicRNNCell(hidden_size)\n",
    "\n",
    "with tf.variable_scope(\"embedding_attention_seq2seq\"):\n",
    "    # dec_outputs: [dec_sent_len+1 x batch_size x hidden_size]\n",
    "    dec_outputs, dec_last_state = embedding_attention_seq2seq(\n",
    "        encoder_inputs=tf.unstack(enc_inputs_t),\n",
    "        decoder_inputs=tf.unstack(dec_inputs_t),\n",
    "        cell=cell,\n",
    "        num_encoder_symbols=enc_vocab_size+1,\n",
    "        num_decoder_symbols=dec_vocab_size+2,\n",
    "        embedding_size=enc_emb_size,\n",
    "        feed_previous=True)\n",
    "\n",
    "# predictions: [batch_size x dec_sentence_lengths+1]\n",
    "predictions = tf.transpose(tf.argmax(tf.stack(dec_outputs), axis=-1), [1,0])\n",
    "\n",
    "# labels & logits: [dec_sentence_length+1 x batch_size x dec_vocab_size+2]\n",
    "labels = tf.one_hot(dec_inputs_t, dec_vocab_size+2)\n",
    "logits = tf.stack(dec_outputs)\n",
    "\n",
    "loss = tf.reduce_mean(tf.nn.softmax_cross_entropy_with_logits(\n",
    "    labels=labels, logits=logits))\n",
    "\n",
    "# training_op = tf.train.AdamOptimizer(learning_rate=0.0001).minimize(loss)\n",
    "training_op = tf.train.RMSPropOptimizer(learning_rate=0.0001).minimize(loss)"
   ]
  },
  {
   "cell_type": "markdown",
   "metadata": {},
   "source": [
    "### Run Graph"
   ]
  },
  {
   "cell_type": "code",
   "execution_count": 14,
   "metadata": {},
   "outputs": [
    {
     "name": "stdout",
     "output_type": "stream",
     "text": [
      "Epoch 0\n",
      "\t Hi What is your name?\n",
      "\t =>  Leffe Nice Nice Leffe too this Leffe Nice Leffe ! this\n",
      "\tCorrent answer: Hi this is Jaemin.\n",
      "\t Nice to meet you!\n",
      "\t =>  ! too ! ! too too ! too ! ! too\n",
      "\tCorrent answer: Nice to meet you too!\n",
      "\t Which programming language do you use?\n",
      "\t =>  ! you industrial Leffe you Leffe Leffe ! Leffe Leffe Leffe\n",
      "\tCorrent answer: I like Python.\n",
      "\t See you later.\n",
      "\t =>  ! brown ! ! brown ! ! brown ! ! brown\n",
      "\tCorrent answer: Bye Bye.\n",
      "\t Where do you live?\n",
      "\t =>  ! too ! ! too ! ! too ! ! too\n",
      "\tCorrent answer: I live in Seoul, South Korea.\n",
      "\t What is your major?\n",
      "\t =>  ! too Nice brown brown please brown too Beer brown brown\n",
      "\tCorrent answer: I study industrial engineering.\n",
      "\t What do you want to drink?\n",
      "\t =>  Leffe you ! Leffe industrial Leffe Leffe Leffe Leffe Leffe Leffe\n",
      "\tCorrent answer: Beer please!\n",
      "\t What is your favorite beer?\n",
      "\t =>  Leffe Beer Korea Beer to Beer Beer Korea Beer you Beer\n",
      "\tCorrent answer: Leffe brown!\n",
      "\tepoch loss: 14.03\n",
      "\n",
      "Epoch 400\n",
      "\t Hi What is your name?\n",
      "\t =>  _GO I this is Jaemin _PAD _PAD _PAD _PAD _PAD _PAD\n",
      "\tCorrent answer: Hi this is Jaemin.\n",
      "\t Nice to meet you!\n",
      "\t =>  _GO Nice to meet you too _PAD _PAD _PAD _PAD _PAD\n",
      "\tCorrent answer: Nice to meet you too!\n",
      "\t Which programming language do you use?\n",
      "\t =>  _GO I like Python . _PAD _PAD _PAD _PAD _PAD _PAD\n",
      "\tCorrent answer: I like Python.\n",
      "\t See you later.\n",
      "\t =>  _GO Bye Bye . _PAD _PAD _PAD _PAD _PAD _PAD _PAD\n",
      "\tCorrent answer: Bye Bye.\n",
      "\t Where do you live?\n",
      "\t =>  _GO I in in in , _PAD _PAD _PAD _PAD _PAD\n",
      "\tCorrent answer: I live in Seoul, South Korea.\n",
      "\t What is your major?\n",
      "\t =>  _GO I study industrial . . _PAD _PAD _PAD _PAD _PAD\n",
      "\tCorrent answer: I study industrial engineering.\n",
      "\t What do you want to drink?\n",
      "\t =>  _GO Beer please ! _PAD _PAD _PAD _PAD _PAD _PAD _PAD\n",
      "\tCorrent answer: Beer please!\n",
      "\t What is your favorite beer?\n",
      "\t =>  _GO I brown . _PAD _PAD _PAD _PAD _PAD _PAD _PAD\n",
      "\tCorrent answer: Leffe brown!\n",
      "\tepoch loss: 2.33\n",
      "\n",
      "Epoch 800\n",
      "\t Hi What is your name?\n",
      "\t =>  _GO Hi this is Jaemin . _PAD _PAD _PAD _PAD _PAD\n",
      "\tCorrent answer: Hi this is Jaemin.\n",
      "\t Nice to meet you!\n",
      "\t =>  _GO Nice to meet you too ! _PAD _PAD _PAD _PAD\n",
      "\tCorrent answer: Nice to meet you too!\n",
      "\t Which programming language do you use?\n",
      "\t =>  _GO I like Python . _PAD _PAD _PAD _PAD _PAD _PAD\n",
      "\tCorrent answer: I like Python.\n",
      "\t See you later.\n",
      "\t =>  _GO Bye Bye . _PAD _PAD _PAD _PAD _PAD _PAD _PAD\n",
      "\tCorrent answer: Bye Bye.\n",
      "\t Where do you live?\n",
      "\t =>  _GO I live in Seoul , South Korea . _PAD _PAD\n",
      "\tCorrent answer: I live in Seoul, South Korea.\n",
      "\t What is your major?\n",
      "\t =>  _GO I study industrial engineering . _PAD _PAD _PAD _PAD _PAD\n",
      "\tCorrent answer: I study industrial engineering.\n",
      "\t What do you want to drink?\n",
      "\t =>  _GO Beer please ! _PAD _PAD _PAD _PAD _PAD _PAD _PAD\n",
      "\tCorrent answer: Beer please!\n",
      "\t What is your favorite beer?\n",
      "\t =>  _GO Leffe brown ! _PAD _PAD _PAD _PAD _PAD _PAD _PAD\n",
      "\tCorrent answer: Leffe brown!\n",
      "\tepoch loss: 0.13\n",
      "\n",
      "Epoch 1200\n",
      "\t Hi What is your name?\n",
      "\t =>  _GO Hi this is Jaemin . _PAD _PAD _PAD _PAD _PAD\n",
      "\tCorrent answer: Hi this is Jaemin.\n",
      "\t Nice to meet you!\n",
      "\t =>  _GO Nice to meet you too ! _PAD _PAD _PAD _PAD\n",
      "\tCorrent answer: Nice to meet you too!\n",
      "\t Which programming language do you use?\n",
      "\t =>  _GO I like Python . _PAD _PAD _PAD _PAD _PAD _PAD\n",
      "\tCorrent answer: I like Python.\n",
      "\t See you later.\n",
      "\t =>  _GO Bye Bye . _PAD _PAD _PAD _PAD _PAD _PAD _PAD\n",
      "\tCorrent answer: Bye Bye.\n",
      "\t Where do you live?\n",
      "\t =>  _GO I live in Seoul , South Korea . _PAD _PAD\n",
      "\tCorrent answer: I live in Seoul, South Korea.\n",
      "\t What is your major?\n",
      "\t =>  _GO I study industrial engineering . _PAD _PAD _PAD _PAD _PAD\n",
      "\tCorrent answer: I study industrial engineering.\n",
      "\t What do you want to drink?\n",
      "\t =>  _GO Beer please ! _PAD _PAD _PAD _PAD _PAD _PAD _PAD\n",
      "\tCorrent answer: Beer please!\n",
      "\t What is your favorite beer?\n",
      "\t =>  _GO Leffe brown ! _PAD _PAD _PAD _PAD _PAD _PAD _PAD\n",
      "\tCorrent answer: Leffe brown!\n",
      "\tepoch loss: 0.00\n",
      "\n",
      "Epoch 1600\n",
      "\t Hi What is your name?\n",
      "\t =>  _GO Hi this is Jaemin . _PAD _PAD _PAD _PAD _PAD\n",
      "\tCorrent answer: Hi this is Jaemin.\n",
      "\t Nice to meet you!\n",
      "\t =>  _GO Nice to meet you too ! _PAD _PAD _PAD _PAD\n",
      "\tCorrent answer: Nice to meet you too!\n",
      "\t Which programming language do you use?\n",
      "\t =>  _GO I like Python . _PAD _PAD _PAD _PAD _PAD _PAD\n",
      "\tCorrent answer: I like Python.\n",
      "\t See you later.\n",
      "\t =>  _GO Bye Bye . _PAD _PAD _PAD _PAD _PAD _PAD _PAD\n",
      "\tCorrent answer: Bye Bye.\n",
      "\t Where do you live?\n",
      "\t =>  _GO I live in Seoul , South Korea . _PAD _PAD\n",
      "\tCorrent answer: I live in Seoul, South Korea.\n",
      "\t What is your major?\n",
      "\t =>  _GO I study industrial engineering . _PAD _PAD _PAD _PAD _PAD\n",
      "\tCorrent answer: I study industrial engineering.\n",
      "\t What do you want to drink?\n",
      "\t =>  _GO Beer please ! _PAD _PAD _PAD _PAD _PAD _PAD _PAD\n",
      "\tCorrent answer: Beer please!\n",
      "\t What is your favorite beer?\n",
      "\t =>  _GO Leffe brown ! _PAD _PAD _PAD _PAD _PAD _PAD _PAD\n",
      "\tCorrent answer: Leffe brown!\n",
      "\tepoch loss: 0.00\n",
      "\n"
     ]
    }
   ],
   "source": [
    "with tf.Session() as sess:\n",
    "    sess.run(tf.global_variables_initializer())\n",
    "    loss_history = []\n",
    "    for epoch in range(n_epoch):\n",
    "        \n",
    "        all_preds = []\n",
    "        epoch_loss = 0\n",
    "        for input_batch, target_batch in zip(input_batches, target_batches):\n",
    "            input_token_indices = []\n",
    "            target_token_indices = []\n",
    "            sentence_lengths = []\n",
    "            \n",
    "            for input_sent in input_batch:\n",
    "                input_sent, sent_len = sent2idx(input_sent)\n",
    "                input_token_indices.append(input_sent)\n",
    "                sentence_lengths.append(sent_len)\n",
    "\n",
    "            for target_sent in target_batch:\n",
    "                target_token_indices.append(\n",
    "                    sent2idx(target_sent,\n",
    "                             vocab=dec_vocab, max_sentence_length=dec_sentence_length, is_target=True))\n",
    "            \n",
    "            # Evaluate three operations in the graph\n",
    "            # => predictions, loss, training_op(optimzier)\n",
    "            batch_preds, batch_loss, _ = sess.run(\n",
    "                [predictions, loss, training_op],\n",
    "                feed_dict={\n",
    "                    enc_inputs: input_token_indices,\n",
    "                    sequence_lengths: sentence_lengths,\n",
    "                    dec_inputs: target_token_indices\n",
    "                })\n",
    "            loss_history.append(batch_loss)\n",
    "            epoch_loss += batch_loss\n",
    "            all_preds.append(batch_preds)\n",
    "            \n",
    "        # Logging every 400 epochs\n",
    "        if epoch % 400 == 0:\n",
    "            print('Epoch', epoch)\n",
    "            for input_batch, target_batch, batch_preds in zip(input_batches, target_batches, all_preds):\n",
    "                for input_sent, target_sent, pred in zip(input_batch, target_batch, batch_preds):\n",
    "                    print('\\t', input_sent)\n",
    "                    print('\\t => ', idx2sent(pred, reverse_vocab=dec_reverse_vocab))\n",
    "                    print('\\tCorrent answer:', target_sent)\n",
    "            print('\\tepoch loss: {:.2f}\\n'.format(epoch_loss))"
   ]
  },
  {
   "cell_type": "markdown",
   "metadata": {},
   "source": [
    "### Learning Curve"
   ]
  },
  {
   "cell_type": "code",
   "execution_count": 15,
   "metadata": {
    "scrolled": false
   },
   "outputs": [
    {
     "data": {
      "image/png": "[encoded data removed]",
      "text/plain": [
       "<matplotlib.figure.Figure at 0x7f8d2c11dc88>"
      ]
     },
     "metadata": {},
     "output_type": "display_data"
    }
   ],
   "source": [
    "plt.figure(figsize=(20, 10))\n",
    "plt.scatter(range(n_epoch * batch_size), loss_history)\n",
    "plt.title('Learning Curve')\n",
    "plt.xlabel('Global step')\n",
    "plt.ylabel('Loss')\n",
    "plt.show()"
   ]
  }
 ],
 "metadata": {
  "anaconda-cloud": {},
  "kernelspec": {
   "display_name": "Python 3",
   "language": "python",
   "name": "python3"
  },
  "language_info": {
   "codemirror_mode": {
    "name": "ipython",
    "version": 3
   },
   "file_extension": ".py",
   "mimetype": "text/x-python",
   "name": "python",
   "nbconvert_exporter": "python",
   "pygments_lexer": "ipython3",
   "version": "3.5.3"
  }
 },
 "nbformat": 4,
 "nbformat_minor": 2
}

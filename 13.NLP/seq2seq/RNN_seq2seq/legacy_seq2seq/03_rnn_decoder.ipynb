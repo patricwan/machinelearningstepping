{
 "cells": [
  {
   "cell_type": "markdown",
   "metadata": {},
   "source": [
    "### Import Modules"
   ]
  },
  {
   "cell_type": "code",
   "execution_count": 1,
   "metadata": {
    "collapsed": true
   },
   "outputs": [],
   "source": [
    "# To plot learning curve graph\n",
    "%matplotlib inline\n",
    "import matplotlib.pyplot as plt\n",
    "\n",
    "# for pretty print\n",
    "from pprint import pprint\n",
    "\n",
    "# for tokenizer\n",
    "import re\n",
    "\n",
    "# for word counter in vocabulary dictionary\n",
    "from collections import Counter\n",
    "\n",
    "# TensorFlow of Course :)\n",
    "import tensorflow as tf\n",
    "\n",
    "# The paths of RNNCell or rnn functions are too long.\n",
    "from tensorflow.contrib.legacy_seq2seq.python.ops import *\n",
    "from tensorflow.contrib.rnn.python.ops.core_rnn_cell import *\n",
    "from tensorflow.contrib.legacy_seq2seq.python.ops.seq2seq import *"
   ]
  },
  {
   "cell_type": "markdown",
   "metadata": {},
   "source": [
    "### Sample training data"
   ]
  },
  {
   "cell_type": "code",
   "execution_count": 2,
   "metadata": {
    "collapsed": true
   },
   "outputs": [],
   "source": [
    "enc_sentence_length = 10\n",
    "dec_sentence_length = 10\n",
    "batch_size = 4"
   ]
  },
  {
   "cell_type": "code",
   "execution_count": 3,
   "metadata": {},
   "outputs": [],
   "source": [
    "input_batches = [\n",
    "    ['Hi What is your name?', 'Nice to meet you!'],\n",
    "    ['Which programming language do you use?', 'See you later.'],\n",
    "    ['Where do you live?', 'What is your major?'],\n",
    "    ['What do you want to drink?', 'What is your favorite beer?']]\n",
    "\n",
    "target_batches = [\n",
    "    ['Hi this is Jaemin.', 'Nice to meet you too!'],\n",
    "    ['I like Python.', 'Bye Bye.'],\n",
    "    ['I live in Seoul, South Korea.', 'I study industrial engineering.'],\n",
    "    ['Beer please!', 'Leffe brown!']]"
   ]
  },
  {
   "cell_type": "code",
   "execution_count": 4,
   "metadata": {},
   "outputs": [
    {
     "data": {
      "text/plain": [
       "['Hi What is your name?',\n",
       " 'Nice to meet you!',\n",
       " 'Which programming language do you use?',\n",
       " 'See you later.',\n",
       " 'Where do you live?',\n",
       " 'What is your major?',\n",
       " 'What do you want to drink?',\n",
       " 'What is your favorite beer?']"
      ]
     },
     "execution_count": 4,
     "metadata": {},
     "output_type": "execute_result"
    }
   ],
   "source": [
    "all_input_sentences = []\n",
    "for input_batch in input_batches:\n",
    "    all_input_sentences.extend(input_batch)\n",
    "    \n",
    "all_target_sentences = []\n",
    "for target_batch in target_batches:\n",
    "    all_target_sentences.extend(target_batch)\n",
    "\n",
    "# Example\n",
    "all_input_sentences"
   ]
  },
  {
   "cell_type": "markdown",
   "metadata": {},
   "source": [
    "### NLP helper functions"
   ]
  },
  {
   "cell_type": "code",
   "execution_count": 5,
   "metadata": {},
   "outputs": [
    {
     "data": {
      "text/plain": [
       "['Hello', 'world', '?', '?', '\"', 'sdfs', '%', '@', '#', '%']"
      ]
     },
     "execution_count": 5,
     "metadata": {},
     "output_type": "execute_result"
    }
   ],
   "source": [
    "def tokenizer(sentence):\n",
    "    tokens = re.findall(r\"[\\w]+|[^\\s\\w]\", sentence)\n",
    "    return tokens\n",
    "\n",
    "# Example\n",
    "tokenizer('Hello world?? \"sdfs%@#%')"
   ]
  },
  {
   "cell_type": "code",
   "execution_count": 6,
   "metadata": {
    "scrolled": true
   },
   "outputs": [
    {
     "name": "stdout",
     "output_type": "stream",
     "text": [
      "({'!': 20,\n",
      "  '.': 11,\n",
      "  '?': 1,\n",
      "  'Hi': 21,\n",
      "  'Nice': 24,\n",
      "  'See': 19,\n",
      "  'What': 3,\n",
      "  'Where': 9,\n",
      "  'Which': 26,\n",
      "  '_PAD': 0,\n",
      "  'beer': 10,\n",
      "  'do': 5,\n",
      "  'drink': 12,\n",
      "  'favorite': 18,\n",
      "  'is': 4,\n",
      "  'language': 13,\n",
      "  'later': 17,\n",
      "  'live': 14,\n",
      "  'major': 25,\n",
      "  'meet': 22,\n",
      "  'name': 8,\n",
      "  'programming': 16,\n",
      "  'to': 7,\n",
      "  'use': 15,\n",
      "  'want': 23,\n",
      "  'you': 2,\n",
      "  'your': 6},\n",
      " {0: '_PAD',\n",
      "  1: '?',\n",
      "  2: 'you',\n",
      "  3: 'What',\n",
      "  4: 'is',\n",
      "  5: 'do',\n",
      "  6: 'your',\n",
      "  7: 'to',\n",
      "  8: 'name',\n",
      "  9: 'Where',\n",
      "  10: 'beer',\n",
      "  11: '.',\n",
      "  12: 'drink',\n",
      "  13: 'language',\n",
      "  14: 'live',\n",
      "  15: 'use',\n",
      "  16: 'programming',\n",
      "  17: 'later',\n",
      "  18: 'favorite',\n",
      "  19: 'See',\n",
      "  20: '!',\n",
      "  21: 'Hi',\n",
      "  22: 'meet',\n",
      "  23: 'want',\n",
      "  24: 'Nice',\n",
      "  25: 'major',\n",
      "  26: 'Which'},\n",
      " 26)\n",
      "\n",
      "\n",
      "({'!': 2,\n",
      "  ',': 28,\n",
      "  '.': 1,\n",
      "  'Beer': 7,\n",
      "  'Bye': 4,\n",
      "  'Hi': 23,\n",
      "  'I': 3,\n",
      "  'Jaemin': 8,\n",
      "  'Korea': 16,\n",
      "  'Leffe': 21,\n",
      "  'Nice': 26,\n",
      "  'Python': 25,\n",
      "  'Seoul': 19,\n",
      "  'South': 5,\n",
      "  '_PAD': 0,\n",
      "  'brown': 11,\n",
      "  'engineering': 12,\n",
      "  'in': 17,\n",
      "  'industrial': 15,\n",
      "  'is': 6,\n",
      "  'like': 13,\n",
      "  'live': 10,\n",
      "  'meet': 9,\n",
      "  'please': 14,\n",
      "  'study': 20,\n",
      "  'this': 27,\n",
      "  'to': 18,\n",
      "  'too': 22,\n",
      "  'you': 24},\n",
      " {0: '_PAD',\n",
      "  1: '.',\n",
      "  2: '!',\n",
      "  3: 'I',\n",
      "  4: 'Bye',\n",
      "  5: 'South',\n",
      "  6: 'is',\n",
      "  7: 'Beer',\n",
      "  8: 'Jaemin',\n",
      "  9: 'meet',\n",
      "  10: 'live',\n",
      "  11: 'brown',\n",
      "  12: 'engineering',\n",
      "  13: 'like',\n",
      "  14: 'please',\n",
      "  15: 'industrial',\n",
      "  16: 'Korea',\n",
      "  17: 'in',\n",
      "  18: 'to',\n",
      "  19: 'Seoul',\n",
      "  20: 'study',\n",
      "  21: 'Leffe',\n",
      "  22: 'too',\n",
      "  23: 'Hi',\n",
      "  24: 'you',\n",
      "  25: 'Python',\n",
      "  26: 'Nice',\n",
      "  27: 'this',\n",
      "  28: ','},\n",
      " 28)\n"
     ]
    }
   ],
   "source": [
    "def build_vocab(sentences, is_target=False, max_vocab_size=None):\n",
    "    word_counter = Counter()\n",
    "    vocab = dict()\n",
    "    reverse_vocab = dict()\n",
    "    \n",
    "    for sentence in sentences:\n",
    "        tokens = tokenizer(sentence)\n",
    "        word_counter.update(tokens)\n",
    "        \n",
    "    if max_vocab_size is None:\n",
    "        max_vocab_size = len(word_counter)\n",
    "    \n",
    "    if is_target:\n",
    "        vocab['_GO'] = 0\n",
    "        vocab['_PAD'] = 1\n",
    "        vocab_idx = 2\n",
    "        for key, value in word_counter.most_common(max_vocab_size):\n",
    "            vocab[key] = vocab_idx\n",
    "            vocab_idx += 1\n",
    "    else:\n",
    "        vocab['_PAD'] = 0\n",
    "        vocab_idx = 1\n",
    "        for key, value in word_counter.most_common(max_vocab_size):\n",
    "            vocab[key] = vocab_idx\n",
    "            vocab_idx += 1\n",
    "            \n",
    "    for key, value in vocab.items():\n",
    "        reverse_vocab[value] = key\n",
    "            \n",
    "    return vocab, reverse_vocab, max_vocab_size\n",
    "\n",
    "# Example\n",
    "pprint(build_vocab(all_input_sentences))\n",
    "print('\\n')\n",
    "pprint(build_vocab(all_target_sentences))"
   ]
  },
  {
   "cell_type": "code",
   "execution_count": 7,
   "metadata": {},
   "outputs": [],
   "source": [
    "enc_vocab, enc_reverse_vocab, enc_vocab_size = build_vocab(all_input_sentences)\n",
    "dec_vocab, dec_reverse_vocab, dec_vocab_size = build_vocab(all_target_sentences, is_target=True)"
   ]
  },
  {
   "cell_type": "code",
   "execution_count": 8,
   "metadata": {},
   "outputs": [
    {
     "name": "stdout",
     "output_type": "stream",
     "text": [
      "Nice 24\n",
      "to 7\n",
      "meet 22\n",
      "you 2\n",
      "! 20\n"
     ]
    }
   ],
   "source": [
    "def token2idx(word, vocab):\n",
    "    return vocab[word]\n",
    "\n",
    "for token in tokenizer('Nice to meet you!'):\n",
    "    print(token, token2idx(token, enc_vocab))"
   ]
  },
  {
   "cell_type": "code",
   "execution_count": 9,
   "metadata": {
    "scrolled": false
   },
   "outputs": [
    {
     "name": "stdout",
     "output_type": "stream",
     "text": [
      "Hi What is your name?\n",
      "([21, 3, 4, 6, 8, 1, 0, 0, 0, 0], 6)\n",
      "Hi this is Jaemin.\n",
      "[0, 24, 28, 7, 9, 2, 1, 1, 1, 1, 1]\n"
     ]
    }
   ],
   "source": [
    "def sent2idx(sent, vocab=enc_vocab, max_sentence_length=enc_sentence_length, is_target=False):\n",
    "    tokens = tokenizer(sent)\n",
    "    current_length = len(tokens)\n",
    "    pad_length = max_sentence_length - current_length\n",
    "    if is_target:\n",
    "        return [0] + [token2idx(token, vocab) for token in tokens] + [1] * pad_length\n",
    "    else:\n",
    "        return [token2idx(token, vocab) for token in tokens] + [0] * pad_length, current_length\n",
    "\n",
    "# Enc Example\n",
    "print('Hi What is your name?')\n",
    "print(sent2idx('Hi What is your name?'))\n",
    "\n",
    "# Dec Example\n",
    "print('Hi this is Jaemin.')\n",
    "print(sent2idx('Hi this is Jaemin.', vocab=dec_vocab, max_sentence_length=dec_sentence_length, is_target=True))"
   ]
  },
  {
   "cell_type": "code",
   "execution_count": 10,
   "metadata": {
    "collapsed": true
   },
   "outputs": [],
   "source": [
    "def idx2token(idx, reverse_vocab):\n",
    "    return reverse_vocab[idx]\n",
    "\n",
    "def idx2sent(indices, reverse_vocab=dec_reverse_vocab):\n",
    "    return \" \".join([idx2token(idx, reverse_vocab) for idx in indices])"
   ]
  },
  {
   "cell_type": "markdown",
   "metadata": {},
   "source": [
    "### Hyperparameters"
   ]
  },
  {
   "cell_type": "code",
   "execution_count": 11,
   "metadata": {
    "collapsed": true
   },
   "outputs": [],
   "source": [
    "n_epoch = 2000\n",
    "n_enc_layer = 3\n",
    "n_dec_layer = 3\n",
    "hidden_size = 30\n",
    "\n",
    "enc_emb_size = 30\n",
    "dec_emb_size = 30"
   ]
  },
  {
   "cell_type": "markdown",
   "metadata": {},
   "source": [
    "### Build Graph"
   ]
  },
  {
   "cell_type": "code",
   "execution_count": 12,
   "metadata": {
    "collapsed": true
   },
   "outputs": [],
   "source": [
    "# https://github.com/tensorflow/tensorflow/blob/r1.0/tensorflow/contrib/legacy_seq2seq/python/ops/seq2seq.py#L80\n",
    "# Couldn't import '_' prefixed methods... So just manually copied.\n",
    "def _extract_argmax_and_embed(embedding,\n",
    "                              output_projection=None,\n",
    "                              update_embedding=True):\n",
    "  \"\"\"Get a loop_function that extracts the previous symbol and embeds it.\n",
    "  Args:\n",
    "    embedding: embedding tensor for symbols.\n",
    "    output_projection: None or a pair (W, B). If provided, each fed previous\n",
    "      output will first be multiplied by W and added B.\n",
    "    update_embedding: Boolean; if False, the gradients will not propagate\n",
    "      through the embeddings.\n",
    "  Returns:\n",
    "    A loop function.\n",
    "  \"\"\"\n",
    "\n",
    "  def loop_function(prev, _):\n",
    "    if output_projection is not None:\n",
    "      prev = tf.nn.xw_plus_b(prev, output_projection[0], output_projection[1])\n",
    "    prev_symbol = tf.argmax(prev, 1)\n",
    "    # Note that gradients will not propagate through the second parameter of\n",
    "    # embedding_lookup.\n",
    "    emb_prev = tf.nn.embedding_lookup(embedding, prev_symbol)\n",
    "    if not update_embedding:\n",
    "      emb_prev = tf.stop_gradient(emb_prev)\n",
    "    return emb_prev\n",
    "\n",
    "  return loop_function"
   ]
  },
  {
   "cell_type": "code",
   "execution_count": 14,
   "metadata": {
    "scrolled": false
   },
   "outputs": [],
   "source": [
    "tf.reset_default_graph()\n",
    "\n",
    "enc_inputs = tf.placeholder(\n",
    "    tf.int32,\n",
    "    shape=[None, enc_sentence_length],\n",
    "    name='input_sentences')\n",
    "\n",
    "sequence_lengths = tf.placeholder(\n",
    "    tf.int32,\n",
    "    shape=[None],\n",
    "    name='sentences_length')\n",
    "\n",
    "dec_inputs = tf.placeholder(\n",
    "    tf.int32,\n",
    "    shape=[None, dec_sentence_length+1],\n",
    "    name='output_sentences')\n",
    "\n",
    "# batch_major => time_major\n",
    "enc_inputs_t = tf.transpose(enc_inputs, [1,0])\n",
    "dec_inputs_t = tf.transpose(dec_inputs, [1,0])\n",
    "\n",
    "with tf.device('/cpu:0'):\n",
    "    dec_Wemb = tf.get_variable('dec_word_emb',\n",
    "        initializer=tf.random_uniform([dec_vocab_size+2, dec_emb_size]))\n",
    "    \n",
    "with tf.variable_scope('encoder'):\n",
    "    enc_cell = tf.nn.rnn_cell.BasicRNNCell(hidden_size)\n",
    "    enc_cell = EmbeddingWrapper(enc_cell, enc_vocab_size+1, enc_emb_size)\n",
    "    \n",
    "    # enc_sent_len x batch_size x embedding_size\n",
    "    enc_outputs, enc_last_state = tf.contrib.rnn.static_rnn(\n",
    "        cell=enc_cell,\n",
    "        inputs=tf.unstack(enc_inputs_t),\n",
    "        sequence_length=sequence_lengths,\n",
    "        dtype=tf.float32)\n",
    "\n",
    "dec_outputs = []\n",
    "dec_predictions = []\n",
    "with tf.variable_scope('decoder'):\n",
    "    dec_cell = tf.nn.rnn_cell.BasicRNNCell(hidden_size)\n",
    "    dec_cell = OutputProjectionWrapper(dec_cell, dec_vocab_size+2)\n",
    "    \n",
    "    # EmbeddingWrapper & tf.unstack(dec_inputs_t) raises dimension error\n",
    "    dec_emb_inputs = tf.nn.embedding_lookup(dec_Wemb, dec_inputs_t)\n",
    "    \n",
    "    # dec_outputs: [dec_sent_len+1 x batch_size x hidden_size]\n",
    "    dec_outputs, dec_last_state = rnn_decoder(\n",
    "        decoder_inputs=tf.unstack(dec_emb_inputs),\n",
    "        initial_state=enc_last_state,\n",
    "        cell=dec_cell,\n",
    "        loop_function=_extract_argmax_and_embed(dec_Wemb))\n",
    "\n",
    "# predictions: [batch_size x dec_sentence_lengths+1]\n",
    "predictions = tf.transpose(tf.argmax(tf.stack(dec_outputs), axis=-1), [1,0])\n",
    "\n",
    "# labels & logits: [dec_sentence_length+1 x batch_size x dec_vocab_size+2]\n",
    "labels = tf.one_hot(dec_inputs_t, dec_vocab_size+2)\n",
    "logits = tf.stack(dec_outputs)\n",
    "\n",
    "loss = tf.reduce_mean(tf.nn.softmax_cross_entropy_with_logits(\n",
    "    labels=labels, logits=logits))\n",
    "\n",
    "# training_op = tf.train.AdamOptimizer(learning_rate=0.0001).minimize(loss)\n",
    "training_op = tf.train.RMSPropOptimizer(learning_rate=0.0001).minimize(loss)"
   ]
  },
  {
   "cell_type": "markdown",
   "metadata": {},
   "source": [
    "### Run Graph"
   ]
  },
  {
   "cell_type": "code",
   "execution_count": 15,
   "metadata": {},
   "outputs": [
    {
     "name": "stdout",
     "output_type": "stream",
     "text": [
      "Epoch 0\n",
      "\t Hi What is your name?\n",
      "\t =>  in Korea Korea I Korea Korea in Korea Korea in Korea\n",
      "\tCorrent answer: Hi this is Jaemin.\n",
      "\t Nice to meet you!\n",
      "\t =>  Python meet meet in Korea Korea in Korea Korea in Korea\n",
      "\tCorrent answer: Nice to meet you too!\n",
      "\t Which programming language do you use?\n",
      "\t =>  Nice study Korea Bye meet Korea in Korea Korea in Korea\n",
      "\tCorrent answer: I like Python.\n",
      "\t See you later.\n",
      "\t =>  Python meet meet in Korea Korea in Korea Korea in Korea\n",
      "\tCorrent answer: Bye Bye.\n",
      "\t Where do you live?\n",
      "\t =>  Nice study Korea Bye meet Korea in Korea Korea in Korea\n",
      "\tCorrent answer: I live in Seoul, South Korea.\n",
      "\t What is your major?\n",
      "\t =>  study Korea in meet this in Korea Korea in Korea Korea\n",
      "\tCorrent answer: I study industrial engineering.\n",
      "\t What do you want to drink?\n",
      "\t =>  in Korea Python meet meet in Korea Korea in Korea Korea\n",
      "\tCorrent answer: Beer please!\n",
      "\t What is your favorite beer?\n",
      "\t =>  Nice study Korea Bye meet Korea in Korea Korea in Korea\n",
      "\tCorrent answer: Leffe brown!\n",
      "\tepoch loss: 13.64\n",
      "\n",
      "Epoch 400\n",
      "\t Hi What is your name?\n",
      "\t =>  _GO I like ! _PAD _PAD _PAD _PAD _PAD _PAD _PAD\n",
      "\tCorrent answer: Hi this is Jaemin.\n",
      "\t Nice to meet you!\n",
      "\t =>  _GO I like meet engineering . _PAD _PAD _PAD _PAD _PAD\n",
      "\tCorrent answer: Nice to meet you too!\n",
      "\t Which programming language do you use?\n",
      "\t =>  _GO I like ! _PAD _PAD _PAD _PAD _PAD _PAD _PAD\n",
      "\tCorrent answer: I like Python.\n",
      "\t See you later.\n",
      "\t =>  _GO Bye . _PAD _PAD _PAD _PAD _PAD _PAD _PAD _PAD\n",
      "\tCorrent answer: Bye Bye.\n",
      "\t Where do you live?\n",
      "\t =>  _GO I like _GO Hi _PAD _PAD _PAD _PAD _PAD _PAD\n",
      "\tCorrent answer: I live in Seoul, South Korea.\n",
      "\t What is your major?\n",
      "\t =>  _GO I like _GO . _PAD _PAD _PAD _PAD _PAD _PAD\n",
      "\tCorrent answer: I study industrial engineering.\n",
      "\t What do you want to drink?\n",
      "\t =>  _GO I _PAD ! _PAD _PAD _PAD _PAD _PAD _PAD _PAD\n",
      "\tCorrent answer: Beer please!\n",
      "\t What is your favorite beer?\n",
      "\t =>  _GO I _PAD ! _PAD _PAD _PAD _PAD _PAD _PAD _PAD\n",
      "\tCorrent answer: Leffe brown!\n",
      "\tepoch loss: 4.49\n",
      "\n",
      "Epoch 800\n",
      "\t Hi What is your name?\n",
      "\t =>  _GO Hi this ! . . _PAD _PAD _PAD _PAD _PAD\n",
      "\tCorrent answer: Hi this is Jaemin.\n",
      "\t Nice to meet you!\n",
      "\t =>  _GO I live in engineering , ! _PAD _PAD _PAD _PAD\n",
      "\tCorrent answer: Nice to meet you too!\n",
      "\t Which programming language do you use?\n",
      "\t =>  _GO I like ! . _PAD _PAD _PAD _PAD _PAD _PAD\n",
      "\tCorrent answer: I like Python.\n",
      "\t See you later.\n",
      "\t =>  _GO Bye Bye . _PAD _PAD _PAD _PAD _PAD _PAD _PAD\n",
      "\tCorrent answer: Bye Bye.\n",
      "\t Where do you live?\n",
      "\t =>  _GO I live in engineering , ! _PAD . _PAD _PAD\n",
      "\tCorrent answer: I live in Seoul, South Korea.\n",
      "\t What is your major?\n",
      "\t =>  _GO I like in engineering . _PAD _PAD _PAD _PAD _PAD\n",
      "\tCorrent answer: I study industrial engineering.\n",
      "\t What do you want to drink?\n",
      "\t =>  _GO Beer please ! _PAD _PAD _PAD _PAD _PAD _PAD _PAD\n",
      "\tCorrent answer: Beer please!\n",
      "\t What is your favorite beer?\n",
      "\t =>  _GO Leffe brown ! _PAD _PAD _PAD _PAD _PAD _PAD _PAD\n",
      "\tCorrent answer: Leffe brown!\n",
      "\tepoch loss: 2.48\n",
      "\n",
      "Epoch 1200\n",
      "\t Hi What is your name?\n",
      "\t =>  _GO Hi this is Jaemin . _PAD _PAD _PAD _PAD _PAD\n",
      "\tCorrent answer: Hi this is Jaemin.\n",
      "\t Nice to meet you!\n",
      "\t =>  _GO Nice to meet you too ! _PAD _PAD _PAD _PAD\n",
      "\tCorrent answer: Nice to meet you too!\n",
      "\t Which programming language do you use?\n",
      "\t =>  _GO I like Python . _PAD _PAD _PAD _PAD _PAD _PAD\n",
      "\tCorrent answer: I like Python.\n",
      "\t See you later.\n",
      "\t =>  _GO Bye Bye . _PAD _PAD _PAD _PAD _PAD _PAD _PAD\n",
      "\tCorrent answer: Bye Bye.\n",
      "\t Where do you live?\n",
      "\t =>  _GO I live in Seoul , South Korea . _PAD _PAD\n",
      "\tCorrent answer: I live in Seoul, South Korea.\n",
      "\t What is your major?\n",
      "\t =>  _GO I study industrial engineering . _PAD _PAD _PAD _PAD _PAD\n",
      "\tCorrent answer: I study industrial engineering.\n",
      "\t What do you want to drink?\n",
      "\t =>  _GO Beer please ! _PAD _PAD _PAD _PAD _PAD _PAD _PAD\n",
      "\tCorrent answer: Beer please!\n",
      "\t What is your favorite beer?\n",
      "\t =>  _GO Leffe brown ! _PAD _PAD _PAD _PAD _PAD _PAD _PAD\n",
      "\tCorrent answer: Leffe brown!\n",
      "\tepoch loss: 0.97\n",
      "\n",
      "Epoch 1600\n",
      "\t Hi What is your name?\n",
      "\t =>  _GO Hi this is Jaemin . _PAD _PAD _PAD _PAD _PAD\n",
      "\tCorrent answer: Hi this is Jaemin.\n",
      "\t Nice to meet you!\n",
      "\t =>  _GO Nice to meet you too ! _PAD _PAD _PAD _PAD\n",
      "\tCorrent answer: Nice to meet you too!\n",
      "\t Which programming language do you use?\n",
      "\t =>  _GO I like Python . _PAD _PAD _PAD _PAD _PAD _PAD\n",
      "\tCorrent answer: I like Python.\n",
      "\t See you later.\n",
      "\t =>  _GO Bye Bye . _PAD _PAD _PAD _PAD _PAD _PAD _PAD\n",
      "\tCorrent answer: Bye Bye.\n",
      "\t Where do you live?\n",
      "\t =>  _GO I live in Seoul , South Korea . _PAD _PAD\n",
      "\tCorrent answer: I live in Seoul, South Korea.\n",
      "\t What is your major?\n",
      "\t =>  _GO I study industrial engineering . _PAD _PAD _PAD _PAD _PAD\n",
      "\tCorrent answer: I study industrial engineering.\n",
      "\t What do you want to drink?\n",
      "\t =>  _GO Beer please ! _PAD _PAD _PAD _PAD _PAD _PAD _PAD\n",
      "\tCorrent answer: Beer please!\n",
      "\t What is your favorite beer?\n",
      "\t =>  _GO Leffe brown ! _PAD _PAD _PAD _PAD _PAD _PAD _PAD\n",
      "\tCorrent answer: Leffe brown!\n",
      "\tepoch loss: 0.26\n",
      "\n"
     ]
    }
   ],
   "source": [
    "with tf.Session() as sess:\n",
    "    sess.run(tf.global_variables_initializer())\n",
    "    loss_history = []\n",
    "    for epoch in range(n_epoch):\n",
    "        \n",
    "        all_preds = []\n",
    "        epoch_loss = 0\n",
    "        for input_batch, target_batch in zip(input_batches, target_batches):\n",
    "            input_token_indices = []\n",
    "            target_token_indices = []\n",
    "            sentence_lengths = []\n",
    "            \n",
    "            for input_sent in input_batch:\n",
    "                input_sent, sent_len = sent2idx(input_sent)\n",
    "                input_token_indices.append(input_sent)\n",
    "                sentence_lengths.append(sent_len)\n",
    "\n",
    "            for target_sent in target_batch:\n",
    "                target_token_indices.append(\n",
    "                    sent2idx(target_sent,\n",
    "                             vocab=dec_vocab, max_sentence_length=dec_sentence_length, is_target=True))\n",
    "            \n",
    "            # Evaluate three operations in the graph\n",
    "            # => predictions, loss, training_op(optimzier)\n",
    "            batch_preds, batch_loss, _ = sess.run(\n",
    "                [predictions, loss, training_op],\n",
    "                feed_dict={\n",
    "                    enc_inputs: input_token_indices,\n",
    "                    sequence_lengths: sentence_lengths,\n",
    "                    dec_inputs: target_token_indices\n",
    "                })\n",
    "            loss_history.append(batch_loss)\n",
    "            epoch_loss += batch_loss\n",
    "            all_preds.append(batch_preds)\n",
    "            \n",
    "        # Logging every 400 epochs\n",
    "        if epoch % 400 == 0:\n",
    "            print('Epoch', epoch)\n",
    "            for input_batch, target_batch, batch_preds in zip(input_batches, target_batches, all_preds):\n",
    "                for input_sent, target_sent, pred in zip(input_batch, target_batch, batch_preds):\n",
    "                    print('\\t', input_sent)\n",
    "                    print('\\t => ', idx2sent(pred, reverse_vocab=dec_reverse_vocab))\n",
    "                    print('\\tCorrent answer:', target_sent)\n",
    "            print('\\tepoch loss: {:.2f}\\n'.format(epoch_loss))"
   ]
  },
  {
   "cell_type": "markdown",
   "metadata": {},
   "source": [
    "### Learning Curve"
   ]
  },
  {
   "cell_type": "code",
   "execution_count": 16,
   "metadata": {
    "scrolled": false
   },
   "outputs": [
    {
     "data": {
      "image/png": "[encoded data removed]",
      "text/plain": [
       "<matplotlib.figure.Figure at 0x7f2c542f3748>"
      ]
     },
     "metadata": {},
     "output_type": "display_data"
    }
   ],
   "source": [
    "plt.figure(figsize=(20, 10))\n",
    "plt.scatter(range(n_epoch * batch_size), loss_history)\n",
    "plt.title('Learning Curve')\n",
    "plt.xlabel('Global step')\n",
    "plt.ylabel('Loss')\n",
    "plt.show()"
   ]
  }
 ],
 "metadata": {
  "kernelspec": {
   "display_name": "Python 3",
   "language": "python",
   "name": "python3"
  },
  "language_info": {
   "codemirror_mode": {
    "name": "ipython",
    "version": 3
   },
   "file_extension": ".py",
   "mimetype": "text/x-python",
   "name": "python",
   "nbconvert_exporter": "python",
   "pygments_lexer": "ipython3",
   "version": "3.5.3"
  }
 },
 "nbformat": 4,
 "nbformat_minor": 2
}

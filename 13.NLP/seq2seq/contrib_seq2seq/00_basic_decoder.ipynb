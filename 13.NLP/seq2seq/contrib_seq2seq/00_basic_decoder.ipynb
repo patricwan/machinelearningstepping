{
 "cells": [
  {
   "cell_type": "markdown",
   "metadata": {},
   "source": [
    "Reference: https://github.com/tensorflow/tensorflow/blob/r1.1/tensorflow/contrib/seq2seq/python/kernel_tests/basic_decoder_test.py"
   ]
  },
  {
   "cell_type": "code",
   "execution_count": 1,
   "metadata": {
    "collapsed": true
   },
   "outputs": [],
   "source": [
    "import numpy as np\n",
    "import tensorflow as tf\n",
    "from pprint import pprint\n",
    "from tensorflow.python.framework import tensor_shape\n",
    "from tensorflow.contrib.rnn.python.ops.core_rnn_cell_impl import BasicRNNCell"
   ]
  },
  {
   "cell_type": "code",
   "execution_count": 2,
   "metadata": {
    "collapsed": true
   },
   "outputs": [],
   "source": [
    "from tensorflow.contrib.seq2seq.python.ops.basic_decoder import BasicDecoder, BasicDecoderOutput\n",
    "from tensorflow.contrib.seq2seq.python.ops.helper import TrainingHelper\n",
    "from tensorflow.python.layers.core import Dense"
   ]
  },
  {
   "cell_type": "code",
   "execution_count": 3,
   "metadata": {
    "collapsed": true
   },
   "outputs": [],
   "source": [
    "sequence_length = [3, 4, 3, 1, 0]\n",
    "batch_size = 5\n",
    "max_time = 8\n",
    "input_size = 7\n",
    "hidden_size = 10\n",
    "output_size = 3\n",
    "\n",
    "inputs = np.random.randn(batch_size, max_time, input_size).astype(np.float32)\n",
    "\n",
    "output_layer = Dense(output_size) # will get a trainable variable size [hidden_size x output_size]"
   ]
  },
  {
   "cell_type": "code",
   "execution_count": 4,
   "metadata": {},
   "outputs": [
    {
     "data": {
      "text/plain": [
       "{'_built': False,\n",
       " '_losses': [],\n",
       " '_non_trainable_variables': [],\n",
       " '_reuse': None,\n",
       " '_scope': <tensorflow.python.ops.variable_scope.VariableScope at 0x11c9eff28>,\n",
       " '_trainable': True,\n",
       " '_trainable_variables': [],\n",
       " '_updates': [],\n",
       " 'activation': None,\n",
       " 'activity_regularizer': None,\n",
       " 'bias_initializer': <tensorflow.python.ops.init_ops.Zeros at 0x11997c6a0>,\n",
       " 'bias_regularizer': None,\n",
       " 'dtype': tf.float32,\n",
       " 'kernel_initializer': None,\n",
       " 'kernel_regularizer': None,\n",
       " 'name': 'dense',\n",
       " 'units': 3,\n",
       " 'use_bias': True}"
      ]
     },
     "execution_count": 4,
     "metadata": {},
     "output_type": "execute_result"
    }
   ],
   "source": [
    "output_layer.__dict__ # doesn't have any variable yet"
   ]
  },
  {
   "cell_type": "markdown",
   "metadata": {},
   "source": [
    "#### Prepare decoder cell"
   ]
  },
  {
   "cell_type": "code",
   "execution_count": 5,
   "metadata": {
    "collapsed": true
   },
   "outputs": [],
   "source": [
    "dec_cell = BasicRNNCell(hidden_size)"
   ]
  },
  {
   "cell_type": "markdown",
   "metadata": {},
   "source": [
    "#### Prepare Helper"
   ]
  },
  {
   "cell_type": "code",
   "execution_count": 6,
   "metadata": {
    "collapsed": true
   },
   "outputs": [],
   "source": [
    "helper = TrainingHelper(inputs, sequence_length)"
   ]
  },
  {
   "cell_type": "markdown",
   "metadata": {},
   "source": [
    "#### Prepare Decoder"
   ]
  },
  {
   "cell_type": "code",
   "execution_count": 7,
   "metadata": {},
   "outputs": [],
   "source": [
    "decoder = BasicDecoder(\n",
    "    cell=dec_cell,\n",
    "    helper=helper,\n",
    "    initial_state=dec_cell.zero_state(dtype=tf.float32, batch_size=batch_size),\n",
    "    output_layer=output_layer)"
   ]
  },
  {
   "cell_type": "markdown",
   "metadata": {},
   "source": [
    "#### check decoder attributes"
   ]
  },
  {
   "cell_type": "code",
   "execution_count": 8,
   "metadata": {},
   "outputs": [
    {
     "data": {
      "text/plain": [
       "{'_cell': <tensorflow.contrib.rnn.python.ops.core_rnn_cell_impl.BasicRNNCell at 0x10abb10f0>,\n",
       " '_helper': <tensorflow.contrib.seq2seq.python.ops.helper.TrainingHelper at 0x10b146ef0>,\n",
       " '_initial_state': <tf.Tensor 'BasicRNNCellZeroState/zeros:0' shape=(5, 10) dtype=float32>,\n",
       " '_output_layer': <tensorflow.python.layers.core.Dense at 0x11c9efd30>}"
      ]
     },
     "execution_count": 8,
     "metadata": {},
     "output_type": "execute_result"
    }
   ],
   "source": [
    "decoder.__dict__"
   ]
  },
  {
   "cell_type": "code",
   "execution_count": 9,
   "metadata": {},
   "outputs": [
    {
     "data": {
      "text/plain": [
       "['_abc_cache',\n",
       " '_abc_negative_cache',\n",
       " '_abc_negative_cache_version',\n",
       " '_abc_registry',\n",
       " '_cell',\n",
       " '_helper',\n",
       " '_initial_state',\n",
       " '_output_layer',\n",
       " '_rnn_output_size',\n",
       " 'batch_size',\n",
       " 'initialize',\n",
       " 'output_dtype',\n",
       " 'output_size',\n",
       " 'step']"
      ]
     },
     "execution_count": 9,
     "metadata": {},
     "output_type": "execute_result"
    }
   ],
   "source": [
    "[attr for attr in dir(decoder) if '__' not in attr]"
   ]
  },
  {
   "cell_type": "code",
   "execution_count": 10,
   "metadata": {},
   "outputs": [
    {
     "name": "stdout",
     "output_type": "stream",
     "text": [
      "BasicDecoderOutput(rnn_output=TensorShape([Dimension(3)]), sample_id=TensorShape([]))\n",
      "BasicDecoderOutput(rnn_output=tf.float32, sample_id=tf.int32)\n",
      "Tensor(\"TrainingHelper/Size:0\", shape=(), dtype=int32)\n"
     ]
    }
   ],
   "source": [
    "print(decoder.output_size)\n",
    "print(decoder.output_dtype)\n",
    "print(decoder.batch_size)"
   ]
  },
  {
   "cell_type": "markdown",
   "metadata": {},
   "source": [
    "#### Initialize states"
   ]
  },
  {
   "cell_type": "code",
   "execution_count": 11,
   "metadata": {
    "scrolled": true
   },
   "outputs": [
    {
     "data": {
      "text/plain": [
       "(<tf.Tensor 'TrainingHelperInitialize/Equal:0' shape=(5,) dtype=bool>,\n",
       " <tf.Tensor 'TrainingHelperInitialize/cond/Merge:0' shape=(5, 7) dtype=float32>,\n",
       " <tf.Tensor 'BasicRNNCellZeroState/zeros:0' shape=(5, 10) dtype=float32>)"
      ]
     },
     "execution_count": 11,
     "metadata": {},
     "output_type": "execute_result"
    }
   ],
   "source": [
    "first_finished, first_inputs, first_state = decoder.initialize()\n",
    "(first_finished, first_inputs, first_state)\n",
    "# first_finished: [batch_size]\n",
    "# first_inputs: [batch_size x input_size]\n",
    "# first_state: [batch_size x hidden_size]"
   ]
  },
  {
   "cell_type": "markdown",
   "metadata": {},
   "source": [
    "#### Unroll single step"
   ]
  },
  {
   "cell_type": "code",
   "execution_count": 12,
   "metadata": {
    "scrolled": true
   },
   "outputs": [
    {
     "data": {
      "text/plain": [
       "(BasicDecoderOutput(rnn_output=<tf.Tensor 'dense/BiasAdd:0' shape=(5, 3) dtype=float32>, sample_id=<tf.Tensor 'BasicDecoderStep/TrainingHelperSample/Cast:0' shape=(5,) dtype=int32>),\n",
       " <tf.Tensor 'BasicDecoderStep/basic_rnn_cell/Tanh:0' shape=(5, 10) dtype=float32>,\n",
       " <tf.Tensor 'BasicDecoderStep/TrainingHelperNextInputs/cond/Merge:0' shape=(5, 7) dtype=float32>,\n",
       " <tf.Tensor 'BasicDecoderStep/TrainingHelperNextInputs/GreaterEqual:0' shape=(5,) dtype=bool>)"
      ]
     },
     "execution_count": 12,
     "metadata": {},
     "output_type": "execute_result"
    }
   ],
   "source": [
    "step_outputs, step_state, step_next_inputs, step_finished = decoder.step(\n",
    "    tf.constant(0), first_inputs, first_state)\n",
    "(step_outputs, step_state, step_next_inputs, step_finished)\n",
    "# step_outputs.rnn_output: [batch_size x output_size]\n",
    "# step_outputs.sample_id: [batch_size]\n",
    "# step_state: [batch_size x max_time]\n",
    "# step_next_inputs: [batch_size x input_size]\n",
    "# step_finished: [batch_size]"
   ]
  },
  {
   "cell_type": "markdown",
   "metadata": {},
   "source": [
    "#### output_layer got variable finally!\n",
    "https://github.com/tensorflow/tensorflow/blob/r1.1/tensorflow/contrib/seq2seq/python/ops/basic_decoder.py#L141\n",
    "```\n",
    "def step(self, time. inputs, state, name=None):\n",
    "...\n",
    "if self._output_layer is not None:\n",
    "    cell_outputs = self._output_layer(cell_outputs)\n",
    "...\n",
    "```"
   ]
  },
  {
   "cell_type": "code",
   "execution_count": 13,
   "metadata": {
    "scrolled": true
   },
   "outputs": [
    {
     "data": {
      "text/plain": [
       "{'_built': True,\n",
       " '_losses': [],\n",
       " '_non_trainable_variables': [],\n",
       " '_reuse': None,\n",
       " '_scope': <tensorflow.python.ops.variable_scope.VariableScope at 0x11c9eff28>,\n",
       " '_trainable': True,\n",
       " '_trainable_variables': [<tf.Variable 'dense/kernel:0' shape=(10, 3) dtype=float32_ref>,\n",
       "  <tf.Variable 'dense/bias:0' shape=(3,) dtype=float32_ref>],\n",
       " '_updates': [],\n",
       " 'activation': None,\n",
       " 'activity_regularizer': None,\n",
       " 'bias': <tf.Variable 'dense/bias:0' shape=(3,) dtype=float32_ref>,\n",
       " 'bias_initializer': <tensorflow.python.ops.init_ops.Zeros at 0x11997c6a0>,\n",
       " 'bias_regularizer': None,\n",
       " 'dtype': tf.float32,\n",
       " 'kernel': <tf.Variable 'dense/kernel:0' shape=(10, 3) dtype=float32_ref>,\n",
       " 'kernel_initializer': None,\n",
       " 'kernel_regularizer': None,\n",
       " 'name': 'dense',\n",
       " 'units': 3,\n",
       " 'use_bias': True}"
      ]
     },
     "execution_count": 13,
     "metadata": {},
     "output_type": "execute_result"
    }
   ],
   "source": [
    "output_layer.__dict__"
   ]
  },
  {
   "cell_type": "markdown",
   "metadata": {},
   "source": [
    "#### Run Graph"
   ]
  },
  {
   "cell_type": "code",
   "execution_count": 14,
   "metadata": {
    "scrolled": true
   },
   "outputs": [
    {
     "name": "stdout",
     "output_type": "stream",
     "text": [
      "{'batch_size': 5,\n",
      " 'first_finished': array([False, False, False, False,  True], dtype=bool),\n",
      " 'first_inputs': array([[-0.78533345,  0.11858682, -0.20014298, -0.96553558,  0.31251544,\n",
      "        -1.33988655,  0.82164931],\n",
      "       [ 2.5350647 , -0.07409398,  1.0977391 ,  1.11003268,  0.05649788,\n",
      "         0.89605135,  0.36308917],\n",
      "       [ 0.71170074,  1.61647308,  0.32309851, -0.07257813,  0.32730117,\n",
      "        -1.07073486,  0.70246333],\n",
      "       [-1.00114799, -2.05082059, -0.37695187,  0.36587235, -1.17279899,\n",
      "         0.48194218,  0.89679271],\n",
      "       [-0.4480046 , -0.12000368,  0.0555664 , -0.21333848,  1.22862589,\n",
      "        -1.38129044, -0.45545465]], dtype=float32),\n",
      " 'first_state': array([[ 0.,  0.,  0.,  0.,  0.,  0.,  0.,  0.,  0.,  0.],\n",
      "       [ 0.,  0.,  0.,  0.,  0.,  0.,  0.,  0.,  0.,  0.],\n",
      "       [ 0.,  0.,  0.,  0.,  0.,  0.,  0.,  0.,  0.,  0.],\n",
      "       [ 0.,  0.,  0.,  0.,  0.,  0.,  0.,  0.,  0.,  0.],\n",
      "       [ 0.,  0.,  0.,  0.,  0.,  0.,  0.,  0.,  0.,  0.]], dtype=float32),\n",
      " 'step_finished': array([False, False, False,  True,  True], dtype=bool),\n",
      " 'step_next_inputs': array([[-1.02906597, -0.11172384, -0.21374193, -1.58148718, -1.06809032,\n",
      "        -0.03877788, -1.22214246],\n",
      "       [ 1.30666745, -1.74627542,  1.23352611, -0.77807313, -0.45344117,\n",
      "        -0.11130372,  0.5027321 ],\n",
      "       [ 1.21033382,  0.24776821,  0.63571697,  0.75437993, -0.3949734 ,\n",
      "        -0.08482393,  0.12045912],\n",
      "       [ 2.15944481,  0.27763754, -0.31275141, -0.03731602, -2.42800498,\n",
      "        -1.83846223, -0.21780904],\n",
      "       [ 1.79056346, -0.81033289,  0.20279358,  2.0381825 , -0.77037114,\n",
      "        -1.5974251 , -1.83249509]], dtype=float32),\n",
      " 'step_outputs': BasicDecoderOutput(rnn_output=array([[ 0.10172908, -0.14289129,  0.52632564],\n",
      "       [-0.10829024,  0.05180497, -1.05995619],\n",
      "       [ 0.36644357, -0.86873448,  0.10271335],\n",
      "       [-0.47026184,  0.3118692 , -0.37385443],\n",
      "       [-0.11679284,  0.64268553,  0.16622418]], dtype=float32), sample_id=array([2, 1, 0, 1, 1], dtype=int32)),\n",
      " 'step_state': array([[-0.32414374, -0.25787619, -0.68395478, -0.7946229 , -0.05153816,\n",
      "         0.81328267,  0.63964003, -0.45430717,  0.57613915, -0.31761861],\n",
      "       [ 0.79929   , -0.10739962,  0.71403462,  0.76924002,  0.17162628,\n",
      "        -0.76127958, -0.68849027,  0.90262371, -0.70290905,  0.70637357],\n",
      "       [-0.34049052, -0.32602566, -0.76637065, -0.06816522,  0.69415116,\n",
      "         0.55756843,  0.41500601, -0.28895447,  0.22106972, -0.19031958],\n",
      "       [ 0.59293622, -0.29142004,  0.40331167, -0.3499487 , -0.70559531,\n",
      "         0.31332237,  0.59471393,  0.67194027,  0.17797366,  0.10026377],\n",
      "       [ 0.16968672,  0.08662204, -0.05873072, -0.68574792,  0.16510078,\n",
      "         0.15663971, -0.16834839, -0.13864665,  0.31776181, -0.24788965]], dtype=float32)}\n"
     ]
    }
   ],
   "source": [
    "with tf.Session() as sess:\n",
    "    sess.run(tf.global_variables_initializer())\n",
    "    results = sess.run({\n",
    "        \"batch_size\": decoder.batch_size,\n",
    "        \"first_finished\": first_finished,\n",
    "        \"first_inputs\": first_inputs,\n",
    "        \"first_state\": first_state,\n",
    "        \"step_outputs\": step_outputs,\n",
    "        \"step_state\": step_state,\n",
    "        \"step_next_inputs\": step_next_inputs,\n",
    "        \"step_finished\": step_finished})\n",
    "pprint(results)"
   ]
  },
  {
   "cell_type": "markdown",
   "metadata": {},
   "source": [
    "##### Note that\n",
    "- `first_finished[4] == True`\n",
    "- Because `sequence_length[4]` is 0 (recall that `sequence_length=[3, 4, 3, 1, 0]`)\n",
    "\n",
    "\n",
    "- `step_finished[3]` and `step_finished[4]` are both `True`\n",
    "- After one step of unrolling, the 3rd batch is also completed"
   ]
  }
 ],
 "metadata": {
  "anaconda-cloud": {},
  "kernelspec": {
   "display_name": "Python [conda env:mldemo]",
   "language": "python",
   "name": "conda-env-mldemo-py"
  },
  "language_info": {
   "codemirror_mode": {
    "name": "ipython",
    "version": 3
   },
   "file_extension": ".py",
   "mimetype": "text/x-python",
   "name": "python",
   "nbconvert_exporter": "python",
   "pygments_lexer": "ipython3",
   "version": "3.6.0"
  }
 },
 "nbformat": 4,
 "nbformat_minor": 2
}

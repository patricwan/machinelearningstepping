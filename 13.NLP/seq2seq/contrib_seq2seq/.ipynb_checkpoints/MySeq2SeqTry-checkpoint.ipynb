{
 "cells": [
  {
   "cell_type": "code",
   "execution_count": 1,
   "metadata": {
    "collapsed": true
   },
   "outputs": [],
   "source": [
    "import numpy as np\n",
    "import tensorflow as tf\n",
    "from pprint import pprint\n",
    "from tensorflow.python.framework import tensor_shape\n",
    "from tensorflow.contrib.rnn import BasicRNNCell\n",
    "from tensorflow.contrib.seq2seq.python.ops.basic_decoder import BasicDecoder, BasicDecoderOutput\n",
    "from tensorflow.contrib.seq2seq.python.ops.helper import TrainingHelper\n",
    "from tensorflow.python.layers.core import Dense"
   ]
  },
  {
   "cell_type": "code",
   "execution_count": 7,
   "metadata": {
    "collapsed": false
   },
   "outputs": [
    {
     "name": "stdout",
     "output_type": "stream",
     "text": [
      "inputs  [[[-1.2416768   0.29641816 -1.2950562   1.731756   -0.15480603\n",
      "    0.6094432  -1.4333905 ]\n",
      "  [-0.5595311   0.10090658 -1.6005759   0.7917547  -0.19032605\n",
      "   -0.01996382 -0.5110323 ]\n",
      "  [ 1.3544446  -0.8796336   0.99983555 -0.00542307  0.46679056\n",
      "   -0.7612769   0.67641675]\n",
      "  [ 1.2958237  -0.3948838  -1.068073    0.85888565 -1.1298269\n",
      "   -0.26599848 -1.7799774 ]\n",
      "  [ 0.16403206  2.162806    1.1773674   0.9654515   0.47682622\n",
      "    0.04258933 -0.7573577 ]\n",
      "  [-0.5555236   0.43199632 -0.51256555 -1.1586193  -1.034728\n",
      "   -0.8174538  -0.15734267]\n",
      "  [ 0.15466028  0.72276247  0.4905375   0.35093614  1.1081572\n",
      "    0.57646054 -0.5348807 ]\n",
      "  [ 0.06487958  1.2705821   1.2726356   0.42267528 -0.4724031\n",
      "    0.19061847  0.19313818]]\n",
      "\n",
      " [[-1.254444   -2.3452659   0.22123073  1.5215151  -0.7905264\n",
      "   -0.61363494 -0.27026707]\n",
      "  [ 0.456498    0.4118143   0.57959205 -1.4065424  -0.30130422\n",
      "    0.071454   -2.019732  ]\n",
      "  [-0.44919962 -0.26285404  0.34309274  0.4338165  -0.40109396\n",
      "   -0.8828658   1.0839864 ]\n",
      "  [-0.35056758  0.31287333  0.09817405  0.26963052  0.68445337\n",
      "   -1.1035864   1.0479664 ]\n",
      "  [-0.22105007 -0.46777683  0.37063438  0.9589088   0.26095536\n",
      "   -0.1748043  -0.36829734]\n",
      "  [ 0.8199698   0.81969595 -0.9463694  -0.7373502  -0.3111703\n",
      "   -0.6989819   0.00811776]\n",
      "  [ 0.03954223 -0.4291243  -0.31973997 -1.9970071  -0.5938686\n",
      "   -0.8279928   0.73813087]\n",
      "  [-0.00271948 -0.00417161 -0.09612662 -0.06381133  1.3303506\n",
      "   -1.269551    1.0552948 ]]\n",
      "\n",
      " [[ 0.44131774  1.4667828   1.9228296  -0.49046996 -2.0386224\n",
      "    1.0440823  -0.557169  ]\n",
      "  [ 0.5995266  -0.17775592  0.4841207   1.1748253  -1.2727181\n",
      "   -0.65908104  0.6659093 ]\n",
      "  [ 0.34287417  0.6573376  -0.4346513  -0.6894359  -1.3259639\n",
      "   -0.3566016   0.3265719 ]\n",
      "  [-0.02479302  0.3859078  -0.69073075  1.246756   -0.4195637\n",
      "    0.7069033  -0.7490324 ]\n",
      "  [-2.1067772  -0.09397303  0.06861063 -0.1708618   0.31273174\n",
      "   -1.6070274  -0.9390955 ]\n",
      "  [ 0.10418804 -0.8966188  -0.05865861  0.32271805  0.11441997\n",
      "    1.3618305  -0.0203514 ]\n",
      "  [-0.25495526  0.845791    0.43289533 -0.6122947   0.4459722\n",
      "   -0.88129663 -1.3370546 ]\n",
      "  [-0.8126952   0.39552963 -0.73231757  0.5183663  -0.07686011\n",
      "   -0.77734303  0.5674972 ]]\n",
      "\n",
      " [[-1.1710927  -0.55317956 -0.81532615  1.1260266  -1.489519\n",
      "   -1.1232264   0.39264143]\n",
      "  [-0.23167327  1.094308    0.4254063  -0.48925266 -0.15116856\n",
      "   -1.6259054  -0.8629321 ]\n",
      "  [ 1.2079965   0.7988443   0.28557926  1.8901356  -1.3023022\n",
      "   -2.13304    -0.09214105]\n",
      "  [ 0.1919403  -0.05452137  0.9798134  -0.36720562  0.8523416\n",
      "   -0.8000481  -2.2171402 ]\n",
      "  [-1.2104691   1.270376    1.2814251   1.6811543  -1.5939445\n",
      "    0.49937832  1.0328296 ]\n",
      "  [-2.1861832  -0.4614702   0.01192761  0.15530838  2.1126966\n",
      "    1.3008268   0.90475357]\n",
      "  [ 0.75140184  1.0652     -0.46365362 -0.36772504  0.30212572\n",
      "   -1.8407788  -0.09089874]\n",
      "  [ 0.10303073 -0.11484944  0.26876593 -0.6515006   0.30622607\n",
      "    0.64039236 -1.5400527 ]]\n",
      "\n",
      " [[-1.3050083  -0.8504819   0.28124538 -0.5739569   0.97296107\n",
      "   -0.66854554  0.23157832]\n",
      "  [ 0.76540923  1.7205732  -0.6199749   0.7820262   1.6618557\n",
      "   -0.9844578  -1.4145726 ]\n",
      "  [-0.15824075  0.144083   -1.1800956   1.4028348   0.02994031\n",
      "   -0.6954942   0.6812205 ]\n",
      "  [-0.82895494 -0.9973819   0.27476868  1.1431631  -1.3444786\n",
      "   -0.53179157  1.2778088 ]\n",
      "  [ 0.50598407  1.3978299  -0.27353412  0.62082    -0.57693946\n",
      "    0.29506788  0.28607967]\n",
      "  [ 0.3921451  -0.652104   -1.4235231  -0.46978042  0.29801697\n",
      "    0.16692258  0.3528011 ]\n",
      "  [-1.2882514  -0.37945628 -1.5671065   0.720048   -1.339379\n",
      "    0.9440322   1.2986864 ]\n",
      "  [ 0.7604569   0.41773805 -1.5790592   1.0119874  -0.7150009\n",
      "   -0.00674144  0.24024847]]]\n"
     ]
    }
   ],
   "source": [
    "sequence_length = [3, 4, 3, 1, 0]\n",
    "batch_size = 5\n",
    "max_time = 8\n",
    "input_size = 7\n",
    "hidden_size = 10\n",
    "output_size = 3\n",
    "\n",
    "inputs = np.random.randn(batch_size, max_time, input_size).astype(np.float32)\n",
    "#inputs = np.random.randn(2, 3, 4).astype(np.float32)\n",
    "print(\"inputs \", inputs)"
   ]
  },
  {
   "cell_type": "code",
   "execution_count": 8,
   "metadata": {
    "collapsed": true
   },
   "outputs": [],
   "source": [
    "dec_cell = BasicRNNCell(hidden_size)"
   ]
  },
  {
   "cell_type": "code",
   "execution_count": 12,
   "metadata": {
    "collapsed": false
   },
   "outputs": [
    {
     "data": {
      "text/plain": [
       "<tensorflow.python.ops.rnn_cell_impl.BasicRNNCell at 0x7f7982870f98>"
      ]
     },
     "execution_count": 12,
     "metadata": {},
     "output_type": "execute_result"
    }
   ],
   "source": [
    "dec_cell"
   ]
  },
  {
   "cell_type": "code",
   "execution_count": 15,
   "metadata": {
    "collapsed": true
   },
   "outputs": [],
   "source": [
    "helper = TrainingHelper(inputs, sequence_length)\n",
    "output_layer = Dense(output_size)"
   ]
  },
  {
   "cell_type": "code",
   "execution_count": 16,
   "metadata": {
    "collapsed": false
   },
   "outputs": [],
   "source": [
    "decoder = BasicDecoder(\n",
    "    cell=dec_cell,\n",
    "    helper=helper,\n",
    "    initial_state=dec_cell.zero_state(dtype=tf.float32, batch_size=batch_size),\n",
    "    output_layer=output_layer)"
   ]
  },
  {
   "cell_type": "code",
   "execution_count": 17,
   "metadata": {
    "collapsed": false
   },
   "outputs": [
    {
     "name": "stdout",
     "output_type": "stream",
     "text": [
      "BasicDecoderOutput(rnn_output=TensorShape([Dimension(3)]), sample_id=TensorShape([]))\n",
      "BasicDecoderOutput(rnn_output=tf.float32, sample_id=tf.int32)\n",
      "Tensor(\"TrainingHelper_2/Size:0\", shape=(), dtype=int32)\n"
     ]
    }
   ],
   "source": [
    "print(decoder.output_size)\n",
    "print(decoder.output_dtype)\n",
    "print(decoder.batch_size)"
   ]
  },
  {
   "cell_type": "code",
   "execution_count": 18,
   "metadata": {
    "collapsed": true
   },
   "outputs": [],
   "source": [
    "first_finished, first_inputs, first_state = decoder.initialize()"
   ]
  },
  {
   "cell_type": "code",
   "execution_count": 19,
   "metadata": {
    "collapsed": true
   },
   "outputs": [],
   "source": [
    "step_outputs, step_state, step_next_inputs, step_finished = decoder.step(tf.constant(0), first_inputs, first_state)"
   ]
  },
  {
   "cell_type": "code",
   "execution_count": 20,
   "metadata": {
    "collapsed": true
   },
   "outputs": [],
   "source": [
    "with tf.Session() as sess:\n",
    "    sess.run(tf.global_variables_initializer())\n",
    "    results = sess.run({\n",
    "        \"batch_size\": decoder.batch_size,\n",
    "        \"first_finished\": first_finished,\n",
    "        \"first_inputs\": first_inputs,\n",
    "        \"first_state\": first_state,\n",
    "        \"step_outputs\": step_outputs,\n",
    "        \"step_state\": step_state,\n",
    "        \"step_next_inputs\": step_next_inputs,\n",
    "        \"step_finished\": step_finished})"
   ]
  },
  {
   "cell_type": "code",
   "execution_count": 21,
   "metadata": {
    "collapsed": false
   },
   "outputs": [
    {
     "name": "stdout",
     "output_type": "stream",
     "text": [
      "{'batch_size': 5, 'first_finished': array([False, False, False, False,  True]), 'first_inputs': array([[-1.2416768 ,  0.29641816, -1.2950562 ,  1.731756  , -0.15480603,\n",
      "         0.6094432 , -1.4333905 ],\n",
      "       [-1.254444  , -2.3452659 ,  0.22123073,  1.5215151 , -0.7905264 ,\n",
      "        -0.61363494, -0.27026707],\n",
      "       [ 0.44131774,  1.4667828 ,  1.9228296 , -0.49046996, -2.0386224 ,\n",
      "         1.0440823 , -0.557169  ],\n",
      "       [-1.1710927 , -0.55317956, -0.81532615,  1.1260266 , -1.489519  ,\n",
      "        -1.1232264 ,  0.39264143],\n",
      "       [-1.3050083 , -0.8504819 ,  0.28124538, -0.5739569 ,  0.97296107,\n",
      "        -0.66854554,  0.23157832]], dtype=float32), 'first_state': array([[0., 0., 0., 0., 0., 0., 0., 0., 0., 0.],\n",
      "       [0., 0., 0., 0., 0., 0., 0., 0., 0., 0.],\n",
      "       [0., 0., 0., 0., 0., 0., 0., 0., 0., 0.],\n",
      "       [0., 0., 0., 0., 0., 0., 0., 0., 0., 0.],\n",
      "       [0., 0., 0., 0., 0., 0., 0., 0., 0., 0.]], dtype=float32), 'step_outputs': BasicDecoderOutput(rnn_output=array([[-0.03464706,  0.0947358 ,  0.11354947],\n",
      "       [ 0.7749407 , -0.3495373 ,  0.4025334 ],\n",
      "       [-0.21821943,  0.4504488 ,  0.15102804],\n",
      "       [-0.4268442 ,  0.32117814, -0.07860485],\n",
      "       [ 1.4481937 ,  0.23667186,  0.09440873]], dtype=float32), sample_id=array([2, 0, 1, 1, 0], dtype=int32)), 'step_state': array([[ 0.74195087,  0.805675  , -0.1808721 ,  0.68791103,  0.8417466 ,\n",
      "        -0.30517307,  0.26520506,  0.49138248, -0.09267589,  0.9757611 ],\n",
      "       [ 0.95962685, -0.38336757,  0.54282886, -0.4509255 ,  0.4273175 ,\n",
      "        -0.26896366,  0.53832275,  0.7525833 ,  0.6124735 , -0.14978623],\n",
      "       [-0.2578565 , -0.84051454, -0.36582813,  0.9295097 , -0.5443452 ,\n",
      "         0.2930156 , -0.54218364, -0.87124085,  0.1130267 , -0.83133745],\n",
      "       [ 0.6967306 , -0.15769972, -0.49679202, -0.4171673 ,  0.17178638,\n",
      "         0.3035781 , -0.02320307,  0.4372242 , -0.2563541 ,  0.12613255],\n",
      "       [ 0.6215685 , -0.17040473,  0.11742032, -0.6924225 , -0.68982756,\n",
      "        -0.7068481 ,  0.80474997,  0.6429695 ,  0.6531011 ,  0.08127727]],\n",
      "      dtype=float32), 'step_next_inputs': array([[-0.5595311 ,  0.10090658, -1.6005759 ,  0.7917547 , -0.19032605,\n",
      "        -0.01996382, -0.5110323 ],\n",
      "       [ 0.456498  ,  0.4118143 ,  0.57959205, -1.4065424 , -0.30130422,\n",
      "         0.071454  , -2.019732  ],\n",
      "       [ 0.5995266 , -0.17775592,  0.4841207 ,  1.1748253 , -1.2727181 ,\n",
      "        -0.65908104,  0.6659093 ],\n",
      "       [-0.23167327,  1.094308  ,  0.4254063 , -0.48925266, -0.15116856,\n",
      "        -1.6259054 , -0.8629321 ],\n",
      "       [ 0.76540923,  1.7205732 , -0.6199749 ,  0.7820262 ,  1.6618557 ,\n",
      "        -0.9844578 , -1.4145726 ]], dtype=float32), 'step_finished': array([False, False, False,  True,  True])}\n"
     ]
    }
   ],
   "source": [
    "print(results)"
   ]
  },
  {
   "cell_type": "code",
   "execution_count": null,
   "metadata": {
    "collapsed": true
   },
   "outputs": [],
   "source": []
  }
 ],
 "metadata": {
  "kernelspec": {
   "display_name": "Python 3",
   "language": "python",
   "name": "python3"
  },
  "language_info": {
   "codemirror_mode": {
    "name": "ipython",
    "version": 3
   },
   "file_extension": ".py",
   "mimetype": "text/x-python",
   "name": "python",
   "nbconvert_exporter": "python",
   "pygments_lexer": "ipython3",
   "version": "3.6.4"
  }
 },
 "nbformat": 4,
 "nbformat_minor": 0
}

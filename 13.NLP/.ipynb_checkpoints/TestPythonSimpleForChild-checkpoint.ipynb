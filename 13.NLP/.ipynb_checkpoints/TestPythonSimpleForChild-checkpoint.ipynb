{
 "cells": [
  {
   "cell_type": "code",
   "execution_count": 4,
   "metadata": {},
   "outputs": [
    {
     "name": "stdout",
     "output_type": "stream",
     "text": [
      "bigger One  9\n",
      "biggestNum  453\n"
     ]
    }
   ],
   "source": [
    "def findBigger(A,B):\n",
    "    result = -231478786349782341\n",
    "    if (A>B):\n",
    "        result = A\n",
    "    else:\n",
    "        result = B\n",
    "    return result\n",
    "\n",
    "#input should be array number for arrNums, eg: [6,6,3,2,43,2,65]\n",
    "#it should return the biggest number in array\n",
    "def findBiggestInArray(arrNums):\n",
    "    result = -3458671534789904352349\n",
    "    for eachNum in arrNums:\n",
    "        if (eachNum > result):\n",
    "            result = eachNum\n",
    "    \n",
    "    return result\n",
    "    \n",
    "numberA = 9\n",
    "numberB = -8\n",
    "\n",
    "biggerNum = findBigger(numberA, numberB)\n",
    "print(\"bigger One \", biggerNum)\n",
    "\n",
    "testArray = [6,9,3,2,67,225,453,234,44,34]\n",
    "biggestNum = findBiggestInArray(testArray)\n",
    "print(\"biggestNum \", biggestNum)\n"
   ]
  },
  {
   "cell_type": "code",
   "execution_count": 6,
   "metadata": {},
   "outputs": [
    {
     "name": "stdout",
     "output_type": "stream",
     "text": [
      "nina 4\n"
     ]
    }
   ],
   "source": [
    "#arrNumber   [67,3,35,22,14,552,444,3432,43]\n",
    "#def findOddCount(arrNumber)\n",
    "\n",
    "def findOddCount(arrNumber):\n",
    "    result=0\n",
    "    for eachNumber in arrNumber:\n",
    "        if eachNumber%2==1:\n",
    "            result=result+1\n",
    "    return result\n",
    "arrnNumber=[37,94,32,70,41,23,40,89]\n",
    "nina=findOddCount(arrnNumber)\n",
    "print(\"nina\",nina)"
   ]
  },
  {
   "cell_type": "code",
   "execution_count": 11,
   "metadata": {},
   "outputs": [
    {
     "name": "stdout",
     "output_type": "stream",
     "text": [
      "testArr before exchange  [232, 322, 234, 344, 33, 3, 332, 444, 333]\n",
      "testArr after exchange  [322, 232, 234, 344, 33, 3, 332, 444, 333]\n"
     ]
    }
   ],
   "source": [
    "#exchange first and  second element of the array\n",
    "# input array, arrNum=[55,232,23422,222,2] , arrNum=[232,55,23422,222,2]\n",
    "def exchangePosition(arrNum):\n",
    "    temp = arrNum[0]\n",
    "    arrNum[0]=arrNum[1]\n",
    "    arrNum[1]=temp\n",
    "    \n",
    "    return None\n",
    "\n",
    "testArr = [232,322,234,344,33,3,332,444,333]\n",
    "print(\"testArr before exchange \", testArr)\n",
    "\n",
    "exchangePosition(testArr)\n",
    "print(\"testArr after exchange \", testArr)"
   ]
  },
  {
   "cell_type": "code",
   "execution_count": 21,
   "metadata": {},
   "outputs": [
    {
     "name": "stdout",
     "output_type": "stream",
     "text": [
      "exchangeMaxToFirst (338, 3)\n",
      "after exchange  [338, 44, 225, 4, 55, 4, 5, 338, 54, 338, 66, 7, 55]\n"
     ]
    }
   ],
   "source": [
    "#exchange two elements value\n",
    "# arrNum(5,3,2,34,23,111,233,2,1,11,456,433,56)\n",
    "#def exchangeMaxToFirst(arrNum)\n",
    "\n",
    "def exchangeMaxToFirst(arrNum):\n",
    "    result=-7489213\n",
    "    iCount = 0   #counter\n",
    "    iMaxIndex = 0\n",
    "    for eachDog in arrNum:\n",
    "        if eachDog>result:\n",
    "            result = eachDog\n",
    "            iMaxIndex=iCount\n",
    "        iCount = iCount + 1\n",
    "    \n",
    "    #0, iMaxIndex\n",
    "    temp=arrNum[0]\n",
    "    arrNum[0]=arrNum[iMaxIndex]\n",
    "    arrNum[iMaxIndex]=temp\n",
    "    return result,iMaxIndex\n",
    "\n",
    "testArr = [4,44,225,338,55,4,5,338,54,338,66,7,55]\n",
    "print(\"exchangeMaxToFirst\" , exchangeMaxToFirst(testArr))\n",
    "print(\"after exchange \" , testArr)"
   ]
  },
  {
   "cell_type": "code",
   "execution_count": 30,
   "metadata": {},
   "outputs": [
    {
     "name": "stdout",
     "output_type": "stream",
     "text": [
      "result1 6\n",
      "count1 6\n"
     ]
    }
   ],
   "source": [
    "#numArr  [34,433,24,24,242,24,444]\n",
    "#def findFirstOddPos(numArr)\n",
    "def findFirstOddPos(numArr):\n",
    "    nina=0\n",
    "    count=0\n",
    "    for eachNum in numArr:\n",
    "        if eachNum%2==1:\n",
    "            nina=count\n",
    "            return count\n",
    "        \n",
    "        count=count+1\n",
    "    \n",
    "    return count\n",
    "numArr1=[34,430,24,24,242,24,449]\n",
    "result1=findFirstOddPos(numArr1)\n",
    "print(\"result1\",result1)\n",
    "print(\"count1\",count1)"
   ]
  },
  {
   "cell_type": "code",
   "execution_count": 32,
   "metadata": {},
   "outputs": [
    {
     "name": "stdout",
     "output_type": "stream",
     "text": [
      "result1 21.0\n"
     ]
    }
   ],
   "source": [
    "#calculate average in an array \n",
    "#numArr [4,53,24,24,4,34,4]\n",
    "#def calAvgArr(numArr)   len(numArr)\n",
    "def calAvgArr(numArr):\n",
    "    result=0\n",
    "    for eachNum in numArr:\n",
    "        result=result+eachNum\n",
    "        \n",
    "    result=result/len(numArr)    \n",
    "    return result\n",
    "numArr1=[4,53,24,24,4,34,4]\n",
    "result1=calAvgArr(numArr1)\n",
    "print(\"result1\",result1)"
   ]
  },
  {
   "cell_type": "code",
   "execution_count": null,
   "metadata": {},
   "outputs": [],
   "source": []
  },
  {
   "cell_type": "code",
   "execution_count": null,
   "metadata": {},
   "outputs": [],
   "source": []
  }
 ],
 "metadata": {
  "kernelspec": {
   "display_name": "Python 3",
   "language": "python",
   "name": "python3"
  },
  "language_info": {
   "codemirror_mode": {
    "name": "ipython",
    "version": 3
   },
   "file_extension": ".py",
   "mimetype": "text/x-python",
   "name": "python",
   "nbconvert_exporter": "python",
   "pygments_lexer": "ipython3",
   "version": "3.6.4"
  }
 },
 "nbformat": 4,
 "nbformat_minor": 2
}

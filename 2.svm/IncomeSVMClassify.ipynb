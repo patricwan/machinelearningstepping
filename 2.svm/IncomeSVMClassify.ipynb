{
 "cells": [
  {
   "cell_type": "code",
   "execution_count": 1,
   "metadata": {
    "collapsed": true
   },
   "outputs": [],
   "source": [
    "# 首先 import 必要的模块\n",
    "import pandas as pd \n",
    "import numpy as np\n",
    "\n",
    "from sklearn.model_selection import GridSearchCV\n",
    "\n",
    "#竞赛的评价指标为logloss\n",
    "from sklearn.metrics import log_loss  \n",
    "\n",
    "from matplotlib import pyplot\n",
    "import seaborn as sns\n",
    "%matplotlib inline"
   ]
  },
  {
   "cell_type": "code",
   "execution_count": 3,
   "metadata": {
    "collapsed": false
   },
   "outputs": [
    {
     "data": {
      "text/html": [
       "<div>\n",
       "<style scoped>\n",
       "    .dataframe tbody tr th:only-of-type {\n",
       "        vertical-align: middle;\n",
       "    }\n",
       "\n",
       "    .dataframe tbody tr th {\n",
       "        vertical-align: top;\n",
       "    }\n",
       "\n",
       "    .dataframe thead th {\n",
       "        text-align: right;\n",
       "    }\n",
       "</style>\n",
       "<table border=\"1\" class=\"dataframe\">\n",
       "  <thead>\n",
       "    <tr style=\"text-align: right;\">\n",
       "      <th></th>\n",
       "      <th>Unnamed: 0</th>\n",
       "      <th>Age</th>\n",
       "      <th>workclass</th>\n",
       "      <th>People</th>\n",
       "      <th>Education</th>\n",
       "      <th>EduNum</th>\n",
       "      <th>Marriage</th>\n",
       "      <th>WorkType</th>\n",
       "      <th>Family</th>\n",
       "      <th>Race</th>\n",
       "      <th>Sex</th>\n",
       "      <th>capitalgain</th>\n",
       "      <th>capitalloss</th>\n",
       "      <th>hours</th>\n",
       "      <th>Country</th>\n",
       "      <th>Income</th>\n",
       "    </tr>\n",
       "  </thead>\n",
       "  <tbody>\n",
       "    <tr>\n",
       "      <th>0</th>\n",
       "      <td>0</td>\n",
       "      <td>39</td>\n",
       "      <td>0</td>\n",
       "      <td>77516</td>\n",
       "      <td>0</td>\n",
       "      <td>13</td>\n",
       "      <td>0</td>\n",
       "      <td>0</td>\n",
       "      <td>0</td>\n",
       "      <td>0</td>\n",
       "      <td>0</td>\n",
       "      <td>2174</td>\n",
       "      <td>0</td>\n",
       "      <td>40</td>\n",
       "      <td>0</td>\n",
       "      <td>0</td>\n",
       "    </tr>\n",
       "    <tr>\n",
       "      <th>1</th>\n",
       "      <td>1</td>\n",
       "      <td>50</td>\n",
       "      <td>1</td>\n",
       "      <td>83311</td>\n",
       "      <td>0</td>\n",
       "      <td>13</td>\n",
       "      <td>1</td>\n",
       "      <td>1</td>\n",
       "      <td>1</td>\n",
       "      <td>0</td>\n",
       "      <td>0</td>\n",
       "      <td>0</td>\n",
       "      <td>0</td>\n",
       "      <td>13</td>\n",
       "      <td>0</td>\n",
       "      <td>0</td>\n",
       "    </tr>\n",
       "    <tr>\n",
       "      <th>2</th>\n",
       "      <td>2</td>\n",
       "      <td>38</td>\n",
       "      <td>2</td>\n",
       "      <td>215646</td>\n",
       "      <td>1</td>\n",
       "      <td>9</td>\n",
       "      <td>2</td>\n",
       "      <td>2</td>\n",
       "      <td>0</td>\n",
       "      <td>0</td>\n",
       "      <td>0</td>\n",
       "      <td>0</td>\n",
       "      <td>0</td>\n",
       "      <td>40</td>\n",
       "      <td>0</td>\n",
       "      <td>0</td>\n",
       "    </tr>\n",
       "    <tr>\n",
       "      <th>3</th>\n",
       "      <td>3</td>\n",
       "      <td>53</td>\n",
       "      <td>2</td>\n",
       "      <td>234721</td>\n",
       "      <td>2</td>\n",
       "      <td>7</td>\n",
       "      <td>1</td>\n",
       "      <td>2</td>\n",
       "      <td>1</td>\n",
       "      <td>1</td>\n",
       "      <td>0</td>\n",
       "      <td>0</td>\n",
       "      <td>0</td>\n",
       "      <td>40</td>\n",
       "      <td>0</td>\n",
       "      <td>0</td>\n",
       "    </tr>\n",
       "    <tr>\n",
       "      <th>4</th>\n",
       "      <td>4</td>\n",
       "      <td>28</td>\n",
       "      <td>2</td>\n",
       "      <td>338409</td>\n",
       "      <td>0</td>\n",
       "      <td>13</td>\n",
       "      <td>1</td>\n",
       "      <td>3</td>\n",
       "      <td>2</td>\n",
       "      <td>1</td>\n",
       "      <td>1</td>\n",
       "      <td>0</td>\n",
       "      <td>0</td>\n",
       "      <td>40</td>\n",
       "      <td>1</td>\n",
       "      <td>0</td>\n",
       "    </tr>\n",
       "  </tbody>\n",
       "</table>\n",
       "</div>"
      ],
      "text/plain": [
       "   Unnamed: 0  Age  workclass  People  Education  EduNum  Marriage  WorkType  \\\n",
       "0           0   39          0   77516          0      13         0         0   \n",
       "1           1   50          1   83311          0      13         1         1   \n",
       "2           2   38          2  215646          1       9         2         2   \n",
       "3           3   53          2  234721          2       7         1         2   \n",
       "4           4   28          2  338409          0      13         1         3   \n",
       "\n",
       "   Family  Race  Sex  capitalgain  capitalloss  hours  Country  Income  \n",
       "0       0     0    0         2174            0     40        0       0  \n",
       "1       1     0    0            0            0     13        0       0  \n",
       "2       0     0    0            0            0     40        0       0  \n",
       "3       1     1    0            0            0     40        0       0  \n",
       "4       2     1    1            0            0     40        1       0  "
      ]
     },
     "execution_count": 3,
     "metadata": {},
     "output_type": "execute_result"
    }
   ],
   "source": [
    "# 读取数据\n",
    "# path to where the data lies\n",
    "dpath = '../data/'\n",
    "train = pd.read_csv(dpath +\"incomeClassTrainMapped.csv\")\n",
    "train.head()"
   ]
  },
  {
   "cell_type": "code",
   "execution_count": 4,
   "metadata": {
    "collapsed": false
   },
   "outputs": [
    {
     "data": {
      "text/html": [
       "<div>\n",
       "<style scoped>\n",
       "    .dataframe tbody tr th:only-of-type {\n",
       "        vertical-align: middle;\n",
       "    }\n",
       "\n",
       "    .dataframe tbody tr th {\n",
       "        vertical-align: top;\n",
       "    }\n",
       "\n",
       "    .dataframe thead th {\n",
       "        text-align: right;\n",
       "    }\n",
       "</style>\n",
       "<table border=\"1\" class=\"dataframe\">\n",
       "  <thead>\n",
       "    <tr style=\"text-align: right;\">\n",
       "      <th></th>\n",
       "      <th>Unnamed: 0</th>\n",
       "      <th>Age</th>\n",
       "      <th>workclass</th>\n",
       "      <th>People</th>\n",
       "      <th>Education</th>\n",
       "      <th>EduNum</th>\n",
       "      <th>Marriage</th>\n",
       "      <th>WorkType</th>\n",
       "      <th>Family</th>\n",
       "      <th>Race</th>\n",
       "      <th>Sex</th>\n",
       "      <th>capitalgain</th>\n",
       "      <th>capitalloss</th>\n",
       "      <th>hours</th>\n",
       "      <th>Country</th>\n",
       "      <th>Income</th>\n",
       "    </tr>\n",
       "  </thead>\n",
       "  <tbody>\n",
       "    <tr>\n",
       "      <th>count</th>\n",
       "      <td>32561.000000</td>\n",
       "      <td>32561.000000</td>\n",
       "      <td>32561.000000</td>\n",
       "      <td>3.256100e+04</td>\n",
       "      <td>32561.000000</td>\n",
       "      <td>32561.000000</td>\n",
       "      <td>32561.000000</td>\n",
       "      <td>32561.000000</td>\n",
       "      <td>32561.000000</td>\n",
       "      <td>32561.000000</td>\n",
       "      <td>32561.000000</td>\n",
       "      <td>32561.000000</td>\n",
       "      <td>32561.000000</td>\n",
       "      <td>32561.000000</td>\n",
       "      <td>32561.000000</td>\n",
       "      <td>32561.000000</td>\n",
       "    </tr>\n",
       "    <tr>\n",
       "      <th>mean</th>\n",
       "      <td>16280.000000</td>\n",
       "      <td>38.581647</td>\n",
       "      <td>2.309972</td>\n",
       "      <td>1.897784e+05</td>\n",
       "      <td>3.424465</td>\n",
       "      <td>10.080679</td>\n",
       "      <td>1.083781</td>\n",
       "      <td>4.666411</td>\n",
       "      <td>1.542397</td>\n",
       "      <td>0.221707</td>\n",
       "      <td>0.330795</td>\n",
       "      <td>1077.648844</td>\n",
       "      <td>87.303830</td>\n",
       "      <td>40.437456</td>\n",
       "      <td>1.290317</td>\n",
       "      <td>0.240810</td>\n",
       "    </tr>\n",
       "    <tr>\n",
       "      <th>std</th>\n",
       "      <td>9399.695394</td>\n",
       "      <td>13.640433</td>\n",
       "      <td>1.225728</td>\n",
       "      <td>1.055500e+05</td>\n",
       "      <td>3.453582</td>\n",
       "      <td>2.572720</td>\n",
       "      <td>1.251381</td>\n",
       "      <td>3.386119</td>\n",
       "      <td>1.437431</td>\n",
       "      <td>0.627348</td>\n",
       "      <td>0.470506</td>\n",
       "      <td>7385.292085</td>\n",
       "      <td>402.960219</td>\n",
       "      <td>12.347429</td>\n",
       "      <td>5.045373</td>\n",
       "      <td>0.427581</td>\n",
       "    </tr>\n",
       "    <tr>\n",
       "      <th>min</th>\n",
       "      <td>0.000000</td>\n",
       "      <td>17.000000</td>\n",
       "      <td>0.000000</td>\n",
       "      <td>1.228500e+04</td>\n",
       "      <td>0.000000</td>\n",
       "      <td>1.000000</td>\n",
       "      <td>0.000000</td>\n",
       "      <td>0.000000</td>\n",
       "      <td>0.000000</td>\n",
       "      <td>0.000000</td>\n",
       "      <td>0.000000</td>\n",
       "      <td>0.000000</td>\n",
       "      <td>0.000000</td>\n",
       "      <td>1.000000</td>\n",
       "      <td>0.000000</td>\n",
       "      <td>0.000000</td>\n",
       "    </tr>\n",
       "    <tr>\n",
       "      <th>25%</th>\n",
       "      <td>8140.000000</td>\n",
       "      <td>28.000000</td>\n",
       "      <td>2.000000</td>\n",
       "      <td>1.178270e+05</td>\n",
       "      <td>1.000000</td>\n",
       "      <td>9.000000</td>\n",
       "      <td>0.000000</td>\n",
       "      <td>2.000000</td>\n",
       "      <td>0.000000</td>\n",
       "      <td>0.000000</td>\n",
       "      <td>0.000000</td>\n",
       "      <td>0.000000</td>\n",
       "      <td>0.000000</td>\n",
       "      <td>40.000000</td>\n",
       "      <td>0.000000</td>\n",
       "      <td>0.000000</td>\n",
       "    </tr>\n",
       "    <tr>\n",
       "      <th>50%</th>\n",
       "      <td>16280.000000</td>\n",
       "      <td>37.000000</td>\n",
       "      <td>2.000000</td>\n",
       "      <td>1.783560e+05</td>\n",
       "      <td>2.000000</td>\n",
       "      <td>10.000000</td>\n",
       "      <td>1.000000</td>\n",
       "      <td>4.000000</td>\n",
       "      <td>1.000000</td>\n",
       "      <td>0.000000</td>\n",
       "      <td>0.000000</td>\n",
       "      <td>0.000000</td>\n",
       "      <td>0.000000</td>\n",
       "      <td>40.000000</td>\n",
       "      <td>0.000000</td>\n",
       "      <td>0.000000</td>\n",
       "    </tr>\n",
       "    <tr>\n",
       "      <th>75%</th>\n",
       "      <td>24420.000000</td>\n",
       "      <td>48.000000</td>\n",
       "      <td>2.000000</td>\n",
       "      <td>2.370510e+05</td>\n",
       "      <td>5.000000</td>\n",
       "      <td>12.000000</td>\n",
       "      <td>1.000000</td>\n",
       "      <td>7.000000</td>\n",
       "      <td>3.000000</td>\n",
       "      <td>0.000000</td>\n",
       "      <td>1.000000</td>\n",
       "      <td>0.000000</td>\n",
       "      <td>0.000000</td>\n",
       "      <td>45.000000</td>\n",
       "      <td>0.000000</td>\n",
       "      <td>0.000000</td>\n",
       "    </tr>\n",
       "    <tr>\n",
       "      <th>max</th>\n",
       "      <td>32560.000000</td>\n",
       "      <td>90.000000</td>\n",
       "      <td>8.000000</td>\n",
       "      <td>1.484705e+06</td>\n",
       "      <td>15.000000</td>\n",
       "      <td>16.000000</td>\n",
       "      <td>6.000000</td>\n",
       "      <td>14.000000</td>\n",
       "      <td>5.000000</td>\n",
       "      <td>4.000000</td>\n",
       "      <td>1.000000</td>\n",
       "      <td>99999.000000</td>\n",
       "      <td>4356.000000</td>\n",
       "      <td>99.000000</td>\n",
       "      <td>41.000000</td>\n",
       "      <td>1.000000</td>\n",
       "    </tr>\n",
       "  </tbody>\n",
       "</table>\n",
       "</div>"
      ],
      "text/plain": [
       "         Unnamed: 0           Age     workclass        People     Education  \\\n",
       "count  32561.000000  32561.000000  32561.000000  3.256100e+04  32561.000000   \n",
       "mean   16280.000000     38.581647      2.309972  1.897784e+05      3.424465   \n",
       "std     9399.695394     13.640433      1.225728  1.055500e+05      3.453582   \n",
       "min        0.000000     17.000000      0.000000  1.228500e+04      0.000000   \n",
       "25%     8140.000000     28.000000      2.000000  1.178270e+05      1.000000   \n",
       "50%    16280.000000     37.000000      2.000000  1.783560e+05      2.000000   \n",
       "75%    24420.000000     48.000000      2.000000  2.370510e+05      5.000000   \n",
       "max    32560.000000     90.000000      8.000000  1.484705e+06     15.000000   \n",
       "\n",
       "             EduNum      Marriage      WorkType        Family          Race  \\\n",
       "count  32561.000000  32561.000000  32561.000000  32561.000000  32561.000000   \n",
       "mean      10.080679      1.083781      4.666411      1.542397      0.221707   \n",
       "std        2.572720      1.251381      3.386119      1.437431      0.627348   \n",
       "min        1.000000      0.000000      0.000000      0.000000      0.000000   \n",
       "25%        9.000000      0.000000      2.000000      0.000000      0.000000   \n",
       "50%       10.000000      1.000000      4.000000      1.000000      0.000000   \n",
       "75%       12.000000      1.000000      7.000000      3.000000      0.000000   \n",
       "max       16.000000      6.000000     14.000000      5.000000      4.000000   \n",
       "\n",
       "                Sex   capitalgain   capitalloss         hours       Country  \\\n",
       "count  32561.000000  32561.000000  32561.000000  32561.000000  32561.000000   \n",
       "mean       0.330795   1077.648844     87.303830     40.437456      1.290317   \n",
       "std        0.470506   7385.292085    402.960219     12.347429      5.045373   \n",
       "min        0.000000      0.000000      0.000000      1.000000      0.000000   \n",
       "25%        0.000000      0.000000      0.000000     40.000000      0.000000   \n",
       "50%        0.000000      0.000000      0.000000     40.000000      0.000000   \n",
       "75%        1.000000      0.000000      0.000000     45.000000      0.000000   \n",
       "max        1.000000  99999.000000   4356.000000     99.000000     41.000000   \n",
       "\n",
       "             Income  \n",
       "count  32561.000000  \n",
       "mean       0.240810  \n",
       "std        0.427581  \n",
       "min        0.000000  \n",
       "25%        0.000000  \n",
       "50%        0.000000  \n",
       "75%        0.000000  \n",
       "max        1.000000  "
      ]
     },
     "execution_count": 4,
     "metadata": {},
     "output_type": "execute_result"
    }
   ],
   "source": [
    "train.describe()"
   ]
  },
  {
   "cell_type": "code",
   "execution_count": 5,
   "metadata": {
    "collapsed": false
   },
   "outputs": [
    {
     "data": {
      "image/png": "[encoded data removed]",
      "text/plain": [
       "<Figure size 432x288 with 1 Axes>"
      ]
     },
     "metadata": {
      "needs_background": "light"
     },
     "output_type": "display_data"
    }
   ],
   "source": [
    "# Target 分布，看看各类样本分布是否均衡\n",
    "sns.countplot(train[\"Income\"]);\n",
    "pyplot.xlabel('Income');\n",
    "pyplot.ylabel('Number of occurrences');"
   ]
  },
  {
   "cell_type": "code",
   "execution_count": 6,
   "metadata": {
    "collapsed": false
   },
   "outputs": [
    {
     "data": {
      "text/plain": [
       "array([[    0,    39,     0, ...,     0,    40,     0],\n",
       "       [    1,    50,     1, ...,     0,    13,     0],\n",
       "       [    2,    38,     2, ...,     0,    40,     0],\n",
       "       ...,\n",
       "       [32558,    58,     2, ...,     0,    40,     0],\n",
       "       [32559,    22,     2, ...,     0,    20,     0],\n",
       "       [32560,    52,     6, ...,     0,    40,     0]])"
      ]
     },
     "execution_count": 6,
     "metadata": {},
     "output_type": "execute_result"
    }
   ],
   "source": [
    "y_train = train[\"Income\"]\n",
    "\n",
    "train = train.drop([\"Income\"], axis=1)\n",
    "X_train = np.array(train)\n",
    "X_train"
   ]
  },
  {
   "cell_type": "code",
   "execution_count": 7,
   "metadata": {
    "collapsed": false
   },
   "outputs": [
    {
     "name": "stderr",
     "output_type": "stream",
     "text": [
      "/usr/local/python36/lib/python3.6/site-packages/sklearn/utils/validation.py:475: DataConversionWarning: Data with input dtype int64 was converted to float64 by StandardScaler.\n",
      "  warnings.warn(msg, DataConversionWarning)\n"
     ]
    },
    {
     "data": {
      "text/plain": [
       "array([[-1.73199761,  0.03067056, -1.88460023, ..., -0.21665953,\n",
       "        -0.03542945, -0.25574647],\n",
       "       [-1.73189123,  0.83710898, -1.0687461 , ..., -0.21665953,\n",
       "        -2.22215312, -0.25574647],\n",
       "       [-1.73178484, -0.04264203, -0.25289198, ..., -0.21665953,\n",
       "        -0.03542945, -0.25574647],\n",
       "       ...,\n",
       "       [ 1.73178484,  1.42360965, -0.25289198, ..., -0.21665953,\n",
       "        -0.03542945, -0.25574647],\n",
       "       [ 1.73189123, -1.21564337, -0.25289198, ..., -0.21665953,\n",
       "        -1.65522476, -0.25574647],\n",
       "       [ 1.73199761,  0.98373415,  3.01052452, ..., -0.21665953,\n",
       "        -0.03542945, -0.25574647]])"
      ]
     },
     "execution_count": 7,
     "metadata": {},
     "output_type": "execute_result"
    }
   ],
   "source": [
    "# 数据标准化\n",
    "from sklearn.preprocessing import StandardScaler\n",
    "\n",
    "# 初始化特征的标准化器\n",
    "ss_X = StandardScaler()\n",
    "\n",
    "# 分别对训练和测试数据的特征进行标准化处理\n",
    "X_train = ss_X.fit_transform(X_train)\n",
    "X_train"
   ]
  },
  {
   "cell_type": "code",
   "execution_count": 8,
   "metadata": {
    "collapsed": false
   },
   "outputs": [
    {
     "data": {
      "text/plain": [
       "(32561, 15)"
      ]
     },
     "execution_count": 8,
     "metadata": {},
     "output_type": "execute_result"
    }
   ],
   "source": [
    "train.shape"
   ]
  },
  {
   "cell_type": "code",
   "execution_count": 9,
   "metadata": {
    "collapsed": false
   },
   "outputs": [
    {
     "name": "stderr",
     "output_type": "stream",
     "text": [
      "/usr/local/python36/lib/python3.6/site-packages/sklearn/model_selection/_split.py:2026: FutureWarning: From version 0.21, test_size will always complement train_size unless both are specified.\n",
      "  FutureWarning)\n"
     ]
    },
    {
     "data": {
      "text/plain": [
       "array([[-0.10617528, -0.18926719, -0.25289198, ..., -0.21665953,\n",
       "        -0.03542945, -0.25574647],\n",
       "       [ 0.91387343, -0.26257978, -0.25289198, ..., -0.21665953,\n",
       "         1.09842727, -0.25574647],\n",
       "       [ 0.27043845, -0.04264203, -0.25289198, ..., -0.21665953,\n",
       "         0.77446821, -0.25574647],\n",
       "       ...,\n",
       "       [-0.68460717, -1.14233079, -0.25289198, ..., -0.21665953,\n",
       "        -0.03542945, -0.25574647],\n",
       "       [-0.58311296,  0.47054606,  1.37881627, ..., -0.21665953,\n",
       "         0.36951938, -0.25574647],\n",
       "       [-1.44134543, -0.99570562, -0.25289198, ..., -0.21665953,\n",
       "         0.61248868, -0.25574647]])"
      ]
     },
     "execution_count": 9,
     "metadata": {},
     "output_type": "execute_result"
    }
   ],
   "source": [
    "from sklearn.model_selection import train_test_split\n",
    "\n",
    "X_train_part, X_val, y_train_part, y_val = train_test_split(X_train, y_train, train_size = 0.8,random_state = 0)\n",
    "\n",
    "X_train_part"
   ]
  },
  {
   "cell_type": "code",
   "execution_count": 12,
   "metadata": {
    "collapsed": true
   },
   "outputs": [],
   "source": [
    "from sklearn.svm import LinearSVC\n",
    "def fit_grid_point_Linear(C, X_train, y_train, X_val, y_val):\n",
    "    \n",
    "    # 在训练集是那个利用SVC训练\n",
    "    SVC2 =  LinearSVC( C = C)\n",
    "    SVC2 = SVC2.fit(X_train, y_train)\n",
    "    \n",
    "    # 在校验集上返回accuracy\n",
    "    accuracy = SVC2.score(X_val, y_val)\n",
    "    \n",
    "    print(\"fit_grid_point_Linear accuracy: {}\".format(accuracy))\n",
    "    return accuracy"
   ]
  },
  {
   "cell_type": "code",
   "execution_count": 13,
   "metadata": {
    "collapsed": false
   },
   "outputs": [
    {
     "name": "stdout",
     "output_type": "stream",
     "text": [
      "logspace C_s  [1.00000000e-03 4.64158883e-03 2.15443469e-02 1.00000000e-01\n",
      " 4.64158883e-01 2.15443469e+00 1.00000000e+01 4.64158883e+01\n",
      " 2.15443469e+02 1.00000000e+03]\n",
      "fit_grid_point_Linear accuracy: 0.8209734377399048\n",
      "fit_grid_point_Linear accuracy: 0.8215875940426839\n",
      "fit_grid_point_Linear accuracy: 0.8223552894211577\n",
      "fit_grid_point_Linear accuracy: 0.822201750345463\n",
      "fit_grid_point_Linear accuracy: 0.822201750345463\n",
      "fit_grid_point_Linear accuracy: 0.8220482112697681\n",
      "fit_grid_point_Linear accuracy: 0.8192845079072624\n",
      "fit_grid_point_Linear accuracy: 0.790879778903731\n",
      "fit_grid_point_Linear accuracy: 0.6803316444035007\n"
     ]
    },
    {
     "name": "stderr",
     "output_type": "stream",
     "text": [
      "No handles with labels found to put in legend.\n"
     ]
    },
    {
     "name": "stdout",
     "output_type": "stream",
     "text": [
      "fit_grid_point_Linear accuracy: 0.6457853523721787\n"
     ]
    },
    {
     "data": {
      "image/png": "[encoded data removed]",
      "text/plain": [
       "<Figure size 432x288 with 1 Axes>"
      ]
     },
     "metadata": {
      "needs_background": "light"
     },
     "output_type": "display_data"
    }
   ],
   "source": [
    "#需要调优的参数\n",
    "C_s = np.logspace(-3, 3, 10)# logspace(a,b,N)把10的a次方到10的b次方区间分成N份  \n",
    "print(\"logspace C_s \", C_s)\n",
    "      \n",
    "accuracy_s = []\n",
    "for i, oneC in enumerate(C_s):\n",
    "    tmp = fit_grid_point_Linear(oneC, X_train, y_train, X_val, y_val)\n",
    "    accuracy_s.append(tmp)\n",
    "\n",
    "x_axis = np.log10(C_s)\n",
    "pyplot.plot(x_axis, np.array(accuracy_s), 'b-')\n",
    "    \n",
    "pyplot.legend()\n",
    "pyplot.xlabel( 'log(C)' )                                                                                                      \n",
    "pyplot.ylabel( 'accuracy' )\n",
    "\n",
    "pyplot.show()"
   ]
  },
  {
   "cell_type": "markdown",
   "metadata": {},
   "source": [
    "RBF核SVM正则参数调优\n",
    "\n",
    "RBF核是SVM最常用的核函数（没有之一）。 RBF核SVM 的需要调整正则超参数包括C（正则系数，一般在log域（取log后的值）均匀设置候选参数）和核函数的宽度gamma C越小，决策边界越平滑； gamma越小，决策边界越平滑。\n",
    "\n",
    "采用交叉验证，网格搜索步骤与Logistic回归正则参数处理类似，在此略。\n",
    "\n",
    "这里我们用校验集（X_val、y_val）来估计模型性能"
   ]
  },
  {
   "cell_type": "code",
   "execution_count": 21,
   "metadata": {
    "collapsed": true
   },
   "outputs": [],
   "source": [
    "from sklearn.svm import SVC\n",
    "def fit_grid_point_RBF(C, gamma, X_train, y_train, X_val, y_val):\n",
    "    \n",
    "    # 在训练集是那个利用SVC训练\n",
    "    SVC3 =  SVC( C = C, kernel='rbf', gamma = gamma)\n",
    "    SVC3 = SVC3.fit(X_train, y_train)\n",
    "    \n",
    "    # 在校验集上返回accuracy\n",
    "    accuracy = SVC3.score(X_val, y_val)\n",
    "    print(\"param C:\" + str(C) + \" gamma:\" + str(gamma))\n",
    "    print(\"accuracy: {}\".format(accuracy))\n",
    "    return accuracy"
   ]
  },
  {
   "cell_type": "code",
   "execution_count": 22,
   "metadata": {
    "collapsed": false
   },
   "outputs": [
    {
     "name": "stdout",
     "output_type": "stream",
     "text": [
      "param C:0.01 gamma:0.01\n",
      "accuracy: 0.7683095347766007\n",
      "param C:0.01 gamma:0.0372759372031494\n",
      "accuracy: 0.7945647167204053\n",
      "param C:0.01 gamma:0.13894954943731375\n",
      "accuracy: 0.7868877629356671\n",
      "param C:0.01 gamma:0.517947467923121\n",
      "accuracy: 0.7597113465376938\n",
      "param C:0.01 gamma:1.9306977288832496\n",
      "accuracy: 0.7551051742668509\n",
      "param C:0.01 gamma:7.196856730011514\n",
      "accuracy: 0.7551051742668509\n",
      "param C:0.01 gamma:26.826957952797247\n",
      "accuracy: 0.7551051742668509\n",
      "param C:0.01 gamma:100.0\n",
      "accuracy: 0.7551051742668509\n",
      "param C:0.0372759372031494 gamma:0.01\n",
      "accuracy: 0.8025487486565331\n",
      "param C:0.0372759372031494 gamma:0.0372759372031494\n",
      "accuracy: 0.8265008444649163\n",
      "param C:0.0372759372031494 gamma:0.13894954943731375\n",
      "accuracy: 0.8186703516044833\n",
      "param C:0.0372759372031494 gamma:0.517947467923121\n",
      "accuracy: 0.780439121756487\n",
      "param C:0.0372759372031494 gamma:1.9306977288832496\n",
      "accuracy: 0.7551051742668509\n",
      "param C:0.0372759372031494 gamma:7.196856730011514\n",
      "accuracy: 0.7551051742668509\n",
      "param C:0.0372759372031494 gamma:26.826957952797247\n",
      "accuracy: 0.7551051742668509\n",
      "param C:0.0372759372031494 gamma:100.0\n",
      "accuracy: 0.7551051742668509\n",
      "param C:0.13894954943731375 gamma:0.01\n",
      "accuracy: 0.8209734377399048\n",
      "param C:0.13894954943731375 gamma:0.0372759372031494\n",
      "accuracy: 0.8366344234607708\n",
      "param C:0.13894954943731375 gamma:0.13894954943731375\n",
      "accuracy: 0.8427759864885613\n",
      "param C:0.13894954943731375 gamma:0.517947467923121\n",
      "accuracy: 0.8096115461384923\n",
      "param C:0.13894954943731375 gamma:1.9306977288832496\n",
      "accuracy: 0.766159987716874\n",
      "param C:0.13894954943731375 gamma:7.196856730011514\n",
      "accuracy: 0.7551051742668509\n",
      "param C:0.13894954943731375 gamma:26.826957952797247\n",
      "accuracy: 0.7551051742668509\n",
      "param C:0.13894954943731375 gamma:100.0\n",
      "accuracy: 0.7551051742668509\n",
      "param C:0.517947467923121 gamma:0.01\n",
      "accuracy: 0.8329494856440964\n",
      "param C:0.517947467923121 gamma:0.0372759372031494\n",
      "accuracy: 0.8466144633809305\n",
      "param C:0.517947467923121 gamma:0.13894954943731375\n",
      "accuracy: 0.857976354982343\n",
      "param C:0.517947467923121 gamma:0.517947467923121\n",
      "accuracy: 0.8656533087670812\n",
      "param C:0.517947467923121 gamma:1.9306977288832496\n",
      "accuracy: 0.8140641793336404\n",
      "param C:0.517947467923121 gamma:7.196856730011514\n",
      "accuracy: 0.7669276830953478\n",
      "param C:0.517947467923121 gamma:26.826957952797247\n",
      "accuracy: 0.7560264087210194\n",
      "param C:0.517947467923121 gamma:100.0\n",
      "accuracy: 0.7555657914939352\n",
      "param C:1.9306977288832496 gamma:0.01\n",
      "accuracy: 0.8395516658989712\n",
      "param C:1.9306977288832496 gamma:0.0372759372031494\n",
      "accuracy: 0.8535237217871948\n",
      "param C:1.9306977288832496 gamma:0.13894954943731375\n",
      "accuracy: 0.8779364348226624\n",
      "param C:1.9306977288832496 gamma:0.517947467923121\n",
      "accuracy: 0.9301397205588823\n",
      "param C:1.9306977288832496 gamma:1.9306977288832496\n",
      "accuracy: 0.9748195915860587\n",
      "param C:1.9306977288832496 gamma:7.196856730011514\n",
      "accuracy: 0.9960079840319361\n",
      "param C:1.9306977288832496 gamma:26.826957952797247\n",
      "accuracy: 0.9990787655458314\n",
      "param C:1.9306977288832496 gamma:100.0\n",
      "accuracy: 0.9996929218486105\n",
      "param C:7.196856730011514 gamma:0.01\n",
      "accuracy: 0.846307385229541\n",
      "param C:7.196856730011514 gamma:0.0372759372031494\n",
      "accuracy: 0.8610471364962383\n",
      "param C:7.196856730011514 gamma:0.13894954943731375\n",
      "accuracy: 0.8935974205435283\n",
      "param C:7.196856730011514 gamma:0.517947467923121\n",
      "accuracy: 0.9520958083832335\n",
      "param C:7.196856730011514 gamma:1.9306977288832496\n",
      "accuracy: 0.9892522647013665\n",
      "param C:7.196856730011514 gamma:7.196856730011514\n",
      "accuracy: 0.9992323046215261\n",
      "param C:7.196856730011514 gamma:26.826957952797247\n",
      "accuracy: 0.9998464609243052\n",
      "param C:7.196856730011514 gamma:100.0\n",
      "accuracy: 1.0\n",
      "param C:26.826957952797247 gamma:0.01\n",
      "accuracy: 0.8522954091816367\n",
      "param C:26.826957952797247 gamma:0.0372759372031494\n",
      "accuracy: 0.8681099339781975\n",
      "param C:26.826957952797247 gamma:0.13894954943731375\n",
      "accuracy: 0.9144787348380162\n",
      "param C:26.826957952797247 gamma:0.517947467923121\n",
      "accuracy: 0.9691386457853524\n",
      "param C:26.826957952797247 gamma:1.9306977288832496\n",
      "accuracy: 0.9961615231076308\n",
      "param C:26.826957952797247 gamma:7.196856730011514\n",
      "accuracy: 0.9996929218486105\n",
      "param C:26.826957952797247 gamma:26.826957952797247\n",
      "accuracy: 1.0\n",
      "param C:26.826957952797247 gamma:100.0\n",
      "accuracy: 1.0\n",
      "param C:100.0 gamma:0.01\n",
      "accuracy: 0.8547520343927529\n",
      "param C:100.0 gamma:0.0372759372031494\n",
      "accuracy: 0.8779364348226624\n",
      "param C:100.0 gamma:0.13894954943731375\n",
      "accuracy: 0.9304467987102718\n",
      "param C:100.0 gamma:0.517947467923121\n",
      "accuracy: 0.9777368340242591\n",
      "param C:100.0 gamma:1.9306977288832496\n",
      "accuracy: 0.9984646092430524\n",
      "param C:100.0 gamma:7.196856730011514\n",
      "accuracy: 1.0\n",
      "param C:100.0 gamma:26.826957952797247\n",
      "accuracy: 1.0\n",
      "param C:100.0 gamma:100.0\n",
      "accuracy: 1.0\n"
     ]
    }
   ],
   "source": [
    "#需要调优的参数\n",
    "C_s = np.logspace(-2, 2, 8)# logspace(a,b,N)把10的a次方到10的b次方区间分成N份 \n",
    "gamma_s = np.logspace(-2, 2, 8)  \n",
    "\n",
    "accuracy_s = []\n",
    "for i, oneC in enumerate(C_s):\n",
    "    for j, gamma in enumerate(gamma_s):\n",
    "        tmp = fit_grid_point_RBF(oneC, gamma, X_train, y_train, X_val, y_val)\n",
    "        accuracy_s.append(tmp)\n"
   ]
  },
  {
   "cell_type": "code",
   "execution_count": 23,
   "metadata": {
    "collapsed": false
   },
   "outputs": [
    {
     "data": {
      "image/png": "[encoded data removed]",
      "text/plain": [
       "<Figure size 432x288 with 1 Axes>"
      ]
     },
     "metadata": {
      "needs_background": "light"
     },
     "output_type": "display_data"
    }
   ],
   "source": [
    "accuracy_s1 =np.array(accuracy_s).reshape(len(C_s),len(gamma_s))\n",
    "x_axis = np.log10(C_s)\n",
    "for j, gamma in enumerate(gamma_s):\n",
    "    pyplot.plot(x_axis, np.array(accuracy_s1[:,j]), label = ' Test - log(gamma)' + str(np.log10(gamma)))\n",
    "\n",
    "pyplot.legend()\n",
    "pyplot.xlabel( 'log(C)' )                                                                                                      \n",
    "pyplot.ylabel( 'accuracy' )\n",
    "\n",
    "pyplot.show()"
   ]
  },
  {
   "cell_type": "code",
   "execution_count": null,
   "metadata": {
    "collapsed": true
   },
   "outputs": [],
   "source": []
  }
 ],
 "metadata": {
  "kernelspec": {
   "display_name": "Python 3",
   "language": "python",
   "name": "python3"
  },
  "language_info": {
   "codemirror_mode": {
    "name": "ipython",
    "version": 3
   },
   "file_extension": ".py",
   "mimetype": "text/x-python",
   "name": "python",
   "nbconvert_exporter": "python",
   "pygments_lexer": "ipython3",
   "version": "3.6.4"
  }
 },
 "nbformat": 4,
 "nbformat_minor": 2
}
